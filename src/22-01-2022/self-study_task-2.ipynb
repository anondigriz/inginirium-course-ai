{
  "nbformat": 4,
  "nbformat_minor": 0,
  "metadata": {
    "colab": {
      "name": "Занятие 22 янв 2022 (Прак Hard tasks).ipynb",
      "provenance": [],
      "collapsed_sections": []
    },
    "kernelspec": {
      "name": "python3",
      "display_name": "Python 3"
    }
  },
  "cells": [
    {
      "cell_type": "markdown",
      "metadata": {
        "id": "3DWs2wvTF5cP"
      },
      "source": [
        "# Задания на занятие № 3 (сложный уровень)\n",
        "\n",
        "Интересная ссылка: [CodinGame](https://www.codingame.com)"
      ]
    },
    {
      "cell_type": "code",
      "metadata": {
        "id": "CGDJCyYcFml9"
      },
      "source": [
        "# Test methods \n",
        "class test:\n",
        "  def assert_equals(a, b) :\n",
        "    assert (a == b)"
      ],
      "execution_count": null,
      "outputs": []
    },
    {
      "cell_type": "markdown",
      "metadata": {
        "id": "KzY6lj6sF9oY"
      },
      "source": [
        "# [1. Сумма нечетных чисел](https://www.codewars.com/kata/55fd2d567d94ac3bc9000064/train/python)\n",
        "\n",
        "Дан треугольник последовательных нечетных чисел:\n",
        "\n",
        "```\n",
        "             1\n",
        "          3     5\n",
        "       7     9    11\n",
        "   13    15    17    19\n",
        "21    23    25    27    29\n",
        "...\n",
        "```\n",
        "\n",
        "На вход задается индекс `i` строки (нумерация строк начинается с `0`). Вычислите сумму строки `i` этого треугольника. Например:\n",
        "\n",
        "```python\n",
        "row_sum_odd_numbers(1); # 1\n",
        "row_sum_odd_numbers(2); # 3 + 5 = 8\n",
        "```"
      ]
    },
    {
      "cell_type": "code",
      "metadata": {
        "id": "sMVWd9kDPyVT"
      },
      "source": [
        "def row_sum_odd_numbers(n):\n",
        "    #your code here"
      ],
      "execution_count": null,
      "outputs": []
    },
    {
      "cell_type": "code",
      "metadata": {
        "id": "Fl4nanpzPyw9"
      },
      "source": [
        "# Testing\n",
        "test.assert_equals(row_sum_odd_numbers(1), 1)\n",
        "test.assert_equals(row_sum_odd_numbers(2), 8)\n",
        "test.assert_equals(row_sum_odd_numbers(13), 2197)\n",
        "test.assert_equals(row_sum_odd_numbers(19), 6859)\n",
        "test.assert_equals(row_sum_odd_numbers(41), 68921)"
      ],
      "execution_count": null,
      "outputs": []
    },
    {
      "cell_type": "markdown",
      "metadata": {
        "id": "NP25ZPoAQQMi"
      },
      "source": [
        "# [2. Кому это нравится?](https://www.codewars.com/kata/who-likes-it/train/python)\n",
        "\n",
        "Вы, вероятно, знаете систему \"нравится\" из Facebook и других социальных сетей. Людям может \"нравится\" сообщения в блоге, фотографии или другие объекты. Мы хотим создать текст, который должен отображаться рядом с таким объектом.\n",
        "\n",
        "Реализуем функцию `likes:: [String] - > String`, которая должна принимать во вход массив, содержащий имена людей, которым нравится элемент. Он должен возвращать отображаемый текст, как показано в примерах:\n",
        "\n",
        "```python\n",
        "likes [] // must be \"no one likes this\"\n",
        "likes [\"Peter\"] // must be \"Peter likes this\"\n",
        "likes [\"Jacob\", \"Alex\"] // must be \"Jacob and Alex like this\"\n",
        "likes [\"Max\", \"John\", \"Mark\"] // must be \"Max, John and Mark like this\"\n",
        "likes [\"Alex\", \"Jacob\", \"Mark\", \"Max\"] // must be \"Alex, Jacob and 2 others like this\"\n",
        "```\n",
        "\n",
        "Для 4 или более имен, число в `and 2 others` просто увеличивается."
      ]
    },
    {
      "cell_type": "code",
      "metadata": {
        "id": "NQp1RbmcQzQT"
      },
      "source": [
        "def likes(names):\n",
        "    #your code here"
      ],
      "execution_count": null,
      "outputs": []
    },
    {
      "cell_type": "code",
      "metadata": {
        "id": "IjWixu2LRJD5"
      },
      "source": [
        "test.assert_equals(likes([]), 'no one likes this')\n",
        "test.assert_equals(likes(['Peter']), 'Peter likes this')\n",
        "test.assert_equals(likes(['Jacob', 'Alex']), 'Jacob and Alex like this')\n",
        "test.assert_equals(likes(['Max', 'John', 'Mark']), 'Max, John and Mark like this')\n",
        "test.assert_equals(likes(['Alex', 'Jacob', 'Mark', 'Max']), 'Alex, Jacob and 2 others like this')"
      ],
      "execution_count": null,
      "outputs": []
    },
    {
      "cell_type": "markdown",
      "metadata": {
        "id": "Dsh3B0MWRkxg"
      },
      "source": [
        "#  [3. Поиск уникального числа](https://www.codewars.com/kata/find-the-unique-number-1/train/python)\n",
        "\n",
        "\n",
        "Существует массив с некоторыми числами. Все числа равны, кроме одного. Попробуйте найти его!\n",
        "\n",
        "```python\n",
        "find_uniq([ 1, 1, 1, 2, 1, 1 ]) == 2\n",
        "find_uniq([ 0, 0, 0.55, 0, 0 ]) == 0.55\n",
        "```\n",
        "\n",
        "Гарантируется, что массив содержит более 3 чисел."
      ]
    },
    {
      "cell_type": "code",
      "metadata": {
        "id": "ro8u1tMXR5yl"
      },
      "source": [
        "def find_uniq(arr):\n",
        "    # your code here\n",
        "    return n   # n: unique integer in the array"
      ],
      "execution_count": null,
      "outputs": []
    },
    {
      "cell_type": "code",
      "metadata": {
        "id": "jnpIOAb2R6O5"
      },
      "source": [
        "test.assert_equals(find_uniq([ 1, 1, 1, 2, 1, 1 ]), 2)\n",
        "test.assert_equals(find_uniq([ 0, 0, 0.55, 0, 0 ]), 0.55)\n",
        "test.assert_equals(find_uniq([ 3, 10, 3, 3, 3 ]), 10)"
      ],
      "execution_count": null,
      "outputs": []
    },
    {
      "cell_type": "markdown",
      "metadata": {
        "id": "8EwxphSFScyV"
      },
      "source": [
        "# [4. Найти Выброс Четности](https://www.codewars.com/kata/5526fc09a1bbd946250002dc/train/python)\n",
        "\n",
        "\n",
        "Вам дается массив (который будет иметь длину не менее 3, но может быть очень большим), содержащий целые числа. Массив либо полностью состоит из нечетных целых чисел, либо полностью состоит из четных целых чисел, за исключением одного целого числа N. Напишите метод, который принимает массив в качестве аргумента и возвращает этот \"выброс\" N.\n",
        "\n",
        "Пример:\n",
        "\n",
        "```python\n",
        "[2, 4, 0, 100, 4, 11, 2602, 36]\n",
        "Should return: 11 (the only odd number)\n",
        "\n",
        "[160, 3, 1719, 19, 11, 13, -21]\n",
        "Should return: 160 (the only even number)\n",
        "```"
      ]
    },
    {
      "cell_type": "code",
      "metadata": {
        "id": "03Ps2jJnSsZW"
      },
      "source": [
        "def find_outlier(integers):\n",
        "    return None"
      ],
      "execution_count": null,
      "outputs": []
    },
    {
      "cell_type": "code",
      "metadata": {
        "id": "Bv3tHfNpSyLL"
      },
      "source": [
        "test.assert_equals(find_outlier([2, 4, 6, 8, 10, 3]), 3)\n",
        "test.assert_equals(find_outlier([2, 4, 0, 100, 4, 11, 2602, 36]), 11)\n",
        "test.assert_equals(find_outlier([160, 3, 1719, 19, 11, 13, -21]), 160)"
      ],
      "execution_count": null,
      "outputs": []
    },
    {
      "cell_type": "markdown",
      "metadata": {
        "id": "2csqYgFJTFM5"
      },
      "source": [
        "# [5. Дележка шоколада](https://www.codewars.com/kata/534ea96ebb17181947000ada/train/python)\n",
        "\n",
        "Ваша задача состоит в том, чтобы разбить плитку шоколада заданного размера `n x m` на маленькие квадраты. Каждый квадрат имеет размер `1 x 1` и нерушимый. Реализуйте функцию, которая будет возвращать минимальное количество необходимых операций \"разделить\".\n",
        "\n",
        "Например, если вам дают плитку шоколада размером `2 х 1`, вы можете разделить ее на отдельные квадраты всего за один операцию \"делить\", но для размера `3 х 1` вы должны сделать две таких операции.\n",
        "\n",
        "Если входные данные недействительны, вы должны вернуть 0 (как и в случае отсутствия операций \"делить\", если у нас нет достаточно шоколада для разделения). Вход всегда будет неотрицательным целым числом."
      ]
    },
    {
      "cell_type": "code",
      "metadata": {
        "id": "X8pqlnkXTNes"
      },
      "source": [
        "def breakChocolate(n, m):\n",
        "    return 0"
      ],
      "execution_count": null,
      "outputs": []
    },
    {
      "cell_type": "code",
      "metadata": {
        "id": "5ihFutvYTOMq"
      },
      "source": [
        "test.assert_equals(breakChocolate(5, 5) , 24)\n",
        "test.assert_equals(breakChocolate(1, 1) , 0)"
      ],
      "execution_count": null,
      "outputs": []
    },
    {
      "cell_type": "markdown",
      "metadata": {
        "id": "PUBFOXj3T-bG"
      },
      "source": [
        "# [6. Удобочитаемый формат времени](https://www.codewars.com/kata/human-readable-time/train/python)\n",
        "\n",
        "Напишите функцию, которая принимает неотрицательное целое число (секунды) в качестве входных данных и возвращает время в удобочитаемом формате (`HH:MM:SS`)\n",
        "\n",
        "```python\n",
        "HH = hours, padded to 2 digits, range: 00 - 99\n",
        "MM = minutes, padded to 2 digits, range: 00 - 59\n",
        "SS = seconds, padded to 2 digits, range: 00 - 59\n",
        "```\n",
        "\n",
        "Максимальное время никогда не превышает 359999 (99: 59:59)"
      ]
    },
    {
      "cell_type": "code",
      "metadata": {
        "id": "7-5U3euAUa-7"
      },
      "source": [
        "def make_readable(seconds):\n",
        "    # Do something"
      ],
      "execution_count": null,
      "outputs": []
    },
    {
      "cell_type": "code",
      "metadata": {
        "id": "ZOYhN_l2Ubd9"
      },
      "source": [
        "test.assert_equals(make_readable(0), \"00:00:00\")\n",
        "test.assert_equals(make_readable(5), \"00:00:05\")\n",
        "test.assert_equals(make_readable(60), \"00:01:00\")\n",
        "test.assert_equals(make_readable(86399), \"23:59:59\")\n",
        "test.assert_equals(make_readable(359999), \"99:59:59\")"
      ],
      "execution_count": null,
      "outputs": []
    },
    {
      "cell_type": "markdown",
      "metadata": {
        "id": "Tk7VjfjyWk7f"
      },
      "source": [
        "# [7. Квадрат из квадратов](https://www.codewars.com/kata/54c27a33fb7da0db0100040e/train/python)\n",
        "\n",
        "Всем нравятся строительные блоки. Вам особенно нравятся строительные блоки, которые являются квадратами. И что вам еще больше нравится, это расположить их в квадрате квадратных строительных блоков!\n",
        "\n",
        "Однако, иногда, вы не можете собрать их в квадрат. Вместо этого вы получите обычный прямоугольник! \"Those blasted things\"! Если бы у вас только был способ узнать, не напрасно ли вы сейчас работаете ... подождите! Вот так! Вам просто нужно проверить, является ли ваше количество строительных блоков идеальным квадратом.\n",
        "\n",
        "**Задача**\n",
        "\n",
        "Учитывая целое число, определите, является ли оно квадратным числом:\n",
        "\n",
        "> В математике **квадратное число** или **совершенный квадрат** - это целое число, которое является квадратом целого числа; другими словами, это произведение некоторого целого числа с самим собой.\n",
        "\n",
        "Примеры\n",
        "\n",
        "```python\n",
        "isSquare(-1) returns  false\n",
        "isSquare(0) returns   true\n",
        "isSquare(3) returns   false\n",
        "isSquare(4) returns   true\n",
        "isSquare(25) returns  true  \n",
        "isSquare(26) returns  false\n",
        "```"
      ]
    },
    {
      "cell_type": "code",
      "metadata": {
        "id": "m5FwZLxHXgdj"
      },
      "source": [
        "def is_square(n):    \n",
        "    return False # fix me"
      ],
      "execution_count": null,
      "outputs": []
    },
    {
      "cell_type": "code",
      "metadata": {
        "id": "tLVHunXJXiWc"
      },
      "source": [
        "test.assert_equals(is_square(-1), False)  # -1: Negative numbers cannot be square numbers\n",
        "test.assert_equals(is_square( 0), True)   # 0 is a square number\n",
        "test.assert_equals(is_square( 3), False)  # 3 is not a square number\n",
        "test.assert_equals(is_square( 4), True)   # 4 is a square number\n",
        "test.assert_equals(is_square(25), True)   # 25 is a square number\n",
        "test.assert_equals(is_square(26), False)  # 26 is not a square number"
      ],
      "execution_count": null,
      "outputs": []
    },
    {
      "cell_type": "markdown",
      "metadata": {
        "id": "W8FvHzTYYMFJ"
      },
      "source": [
        "# [8. Самый высокий балл слова в предложении](https://www.codewars.com/kata/57eb8fcdf670e99d9b000272/train/python)\n",
        "\n",
        "Учитывая строку слов, вам нужно найти самое высокое слово оценки.\n",
        "\n",
        "Каждая буква слова набирает очки в соответствии с его положением в алфавите: `a = 1, b = 2,c = 3 и т.д`.\n",
        "\n",
        "Вы должны вернуть самый высокий балл слово в виде строки.\n",
        "\n",
        "Если два слова имеют одинаковую оценку, верните слово, которое появляется раньше в исходной строке.\n",
        "\n",
        "Все буквы будут строчными, и все входные данные будут действительны."
      ]
    },
    {
      "cell_type": "code",
      "metadata": {
        "id": "fPi8nfSqZQZw"
      },
      "source": [
        "def high(x):\n",
        "    # Code here"
      ],
      "execution_count": null,
      "outputs": []
    },
    {
      "cell_type": "code",
      "metadata": {
        "id": "q6GU9_KQZRBC"
      },
      "source": [
        "test.assert_equals(high('man i need a taxi up to ubud'), 'taxi')\n",
        "test.assert_equals(high('what time are we climbing up the volcano'), 'volcano')\n",
        "test.assert_equals(high('take me to semynak'), 'semynak')"
      ],
      "execution_count": null,
      "outputs": []
    },
    {
      "cell_type": "markdown",
      "metadata": {
        "id": "gb5PpvcxZz8d"
      },
      "source": [
        "# [9. Перевернуть слова](https://www.codewars.com/kata/5259b20d6021e9e14c0010d4/train/python)\n",
        "\n",
        "Завершите функцию, которая принимает строковый параметр и переворачивает каждое слово в строке. Все пробелы в строке должны быть сохранены.\n",
        "\n",
        "Пример\n",
        "```python\n",
        "\"This is an example!\" ==> \"sihT si na !elpmaxe\"\n",
        "\"double  spaces\"      ==> \"elbuod  secaps\"\n",
        "```"
      ]
    },
    {
      "cell_type": "code",
      "metadata": {
        "id": "pAkgX2QZb-yZ"
      },
      "source": [
        "def reverse_words(text):\n",
        "  #go for it"
      ],
      "execution_count": null,
      "outputs": []
    },
    {
      "cell_type": "code",
      "metadata": {
        "id": "F_1QhA4Ab_2b"
      },
      "source": [
        "test.assert_equals(reverse_words('The quick brown fox jumps over the lazy dog.'), 'ehT kciuq nworb xof spmuj revo eht yzal .god')\n",
        "test.assert_equals(reverse_words('apple'), 'elppa')\n",
        "test.assert_equals(reverse_words('a b c d'), 'a b c d')\n",
        "test.assert_equals(reverse_words('double  spaced  words'), 'elbuod  decaps  sdrow')"
      ],
      "execution_count": null,
      "outputs": []
    }
  ]
}