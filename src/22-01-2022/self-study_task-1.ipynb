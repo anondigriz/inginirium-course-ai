{
  "nbformat": 4,
  "nbformat_minor": 0,
  "metadata": {
    "colab": {
      "name": "Занятие 22 янв 2022 (Прак Normal tasks).ipynb",
      "provenance": [],
      "collapsed_sections": []
    },
    "kernelspec": {
      "name": "python3",
      "display_name": "Python 3"
    }
  },
  "cells": [
    {
      "cell_type": "markdown",
      "metadata": {
        "id": "mUksiczOZ6vf"
      },
      "source": [
        "# Задания на занятие (умеренный уровень)\n",
        "\n",
        "Для тех, кто не уверен в своих силах, может сразу решать задачи [pythontutor](https://pythontutor.ru/).  Либо смотреть курсы типа [Курс: Д. П. Кириенко. Программирование на языке Python (школа 179 г. Москвы)](https://informatics.msk.ru/course/view.php?id=156).\n"
      ]
    },
    {
      "cell_type": "code",
      "metadata": {
        "id": "lndUHkHPeI8U"
      },
      "source": [
        "# Test methods \n",
        "class test:\n",
        "  def assert_equals(a, b) :\n",
        "    assert (a == b)"
      ],
      "execution_count": null,
      "outputs": []
    },
    {
      "cell_type": "markdown",
      "metadata": {
        "id": "mtqCqh9EuWLk"
      },
      "source": [
        "##[1. Электронные часы](https://pythontutor.ru/lessons/inout_and_arithmetic_operations/problems/electronic_watch/)\n",
        "\n",
        "\n",
        "Дано число `n`. С начала суток прошло n минут. Определите, сколько часов и минут будут показывать электронные часы в этот момент. Программа должна вывести два числа: количество часов (от `0` до `23`) и количество минут (от `0` до `59`). Учтите, что число `n` может быть больше, чем количество минут в сутках.\n",
        "\n",
        "Подсказка: \n",
        "* [Строки. Функции и методы строк](https://pythonworld.ru/tipy-dannyx-v-python/stroki-funkcii-i-metody-strok.html)"
      ]
    },
    {
      "cell_type": "code",
      "metadata": {
        "id": "BzOSCXbpwE9F"
      },
      "source": [
        "def electronic_clock(num):\n",
        "    pass # Code here"
      ],
      "execution_count": null,
      "outputs": []
    },
    {
      "cell_type": "code",
      "metadata": {
        "id": "Vg4HVP9ZwUDY"
      },
      "source": [
        "# Testing\n",
        "test.assert_equals(electronic_clock(150), '2 30')\n",
        "test.assert_equals(electronic_clock(1441), '0 1')\n",
        "test.assert_equals(electronic_clock(444), '7 24')\n",
        "test.assert_equals(electronic_clock(1439), '23 59')\n",
        "test.assert_equals(electronic_clock(9876), '20 36')"
      ],
      "execution_count": null,
      "outputs": []
    },
    {
      "cell_type": "markdown",
      "metadata": {
        "id": "1BBmfkwgyxIY"
      },
      "source": [
        "## [2. Hello, Harry!](https://pythontutor.ru/lessons/inout_and_arithmetic_operations/problems/hello_harry/)\n",
        "\n",
        "Напишите программу, которая приветствует пользователя, выводя слово `Hello`, введенное имя и знаки препинания по образцу:\n",
        "\n",
        "```\n",
        "Harry     ->     Hello, Harry!\n",
        "```"
      ]
    },
    {
      "cell_type": "code",
      "metadata": {
        "id": "hPrS6a-IzFba"
      },
      "source": [
        "def hello(name):\n",
        "    pass # Code here"
      ],
      "execution_count": null,
      "outputs": []
    },
    {
      "cell_type": "code",
      "source": [
        "hello(input())"
      ],
      "metadata": {
        "id": "Yw0rXlM9pAe1"
      },
      "execution_count": null,
      "outputs": []
    },
    {
      "cell_type": "code",
      "metadata": {
        "id": "A9Ptcd6IzKTQ"
      },
      "source": [
        "# Testing\n",
        "test.assert_equals(hello(\"Harry\"), \"Hello, Harry!\")\n",
        "test.assert_equals(hello(\"Mr. Potter\"), \"Hello, Mr. Potter!\")\n",
        "test.assert_equals(hello(\"Lord Voldemort\"), \"Hello, Lord Voldemort!\")"
      ],
      "execution_count": null,
      "outputs": []
    },
    {
      "cell_type": "markdown",
      "metadata": {
        "id": "2N1sh1Go2FNJ"
      },
      "source": [
        "## [3. Знак числа](https://pythontutor.ru/lessons/ifelse/problems/signum/)\n",
        "\n",
        "В математике функция `sign(x)` (знак числа) определена так:\n",
        "\n",
        "```\n",
        "sign(x) = 1, если x > 0,\n",
        "sign(x) = -1, если x < 0,\n",
        "sign(x) = 0, если x = 0.\n",
        "```\n",
        "\n",
        "Для данного числа `x` выведите значение `sign(x)`. Эту задачу желательно решить с использованием каскадных инструкций `if... elif... else`."
      ]
    },
    {
      "cell_type": "code",
      "metadata": {
        "id": "RIW5d5n_2Xm0"
      },
      "source": [
        "def sign(num):\n",
        "    pass # Code here"
      ],
      "execution_count": null,
      "outputs": []
    },
    {
      "cell_type": "code",
      "metadata": {
        "id": "NRSlrfUX2aOe"
      },
      "source": [
        "# Testing\n",
        "test.assert_equals(sign(1534), 1)\n",
        "test.assert_equals(sign(-42), -1)\n",
        "test.assert_equals(sign(0), 0)\n",
        "test.assert_equals(sign(179), 1)"
      ],
      "execution_count": null,
      "outputs": []
    },
    {
      "cell_type": "markdown",
      "metadata": {
        "id": "Rr3okkrN3DzW"
      },
      "source": [
        "## [4. Минимум из трех чисел](https://pythontutor.ru/lessons/ifelse/problems/minimum3/)\n",
        "\n",
        "Даны три целых числа. Выведите значение наименьшего из них.\n",
        "\n",
        "[Что такое `*args` и `**kwargs` в Python?](https://habr.com/ru/company/ruvds/blog/482464/)\n"
      ]
    },
    {
      "cell_type": "code",
      "metadata": {
        "id": "SJUdH3Ay3J3f"
      },
      "source": [
        "def min3(*args):\n",
        "    pass # Code here"
      ],
      "execution_count": null,
      "outputs": []
    },
    {
      "cell_type": "code",
      "metadata": {
        "id": "Q-4UxtPS3Rap"
      },
      "source": [
        "# Testing\n",
        "test.assert_equals(min3(5, 3, 7), 3)\n",
        "test.assert_equals(min3(10, 30, 4), 4)\n",
        "test.assert_equals(min3(-5, -3, -3), -5)\n",
        "test.assert_equals(min3(50, 80, 25), 25)"
      ],
      "execution_count": null,
      "outputs": []
    },
    {
      "cell_type": "markdown",
      "metadata": {
        "id": "FN8BmesAaAw3"
      },
      "source": [
        "## [5. Суммирование](https://www.codewars.com/kata/55d24f55d7dd296eb9000030/train/python)\n",
        "\n",
        "Напишите программу, которая суммирует числа от 1 до num. Число всегда будет положительным целым числом больше 0.\n",
        "\n",
        "Например:\n",
        "\n",
        "```python\n",
        "summation(2) -> 3\n",
        "# 1 + 2\n",
        "```\n",
        "\n",
        "```python\n",
        "summation(8) -> 36\n",
        "# 1 + 2 + 3 + 4 + 5 + 6 + 7 + 8\n",
        "```\n",
        "\n",
        "Подсказка:\n",
        "* `sum` и `range`"
      ]
    },
    {
      "cell_type": "code",
      "metadata": {
        "id": "7DPuZS4kZ_ju"
      },
      "source": [
        "def summation(num):\n",
        "    pass # Code here"
      ],
      "execution_count": null,
      "outputs": []
    },
    {
      "cell_type": "code",
      "metadata": {
        "id": "q5fYlv8QcOqc"
      },
      "source": [
        "# Testing\n",
        "test.assert_equals(summation(1), 1)\n",
        "test.assert_equals(summation(8), 36)\n",
        "test.assert_equals(summation(22), 253)\n",
        "test.assert_equals(summation(100), 5050)\n",
        "test.assert_equals(summation(213), 22791)"
      ],
      "execution_count": null,
      "outputs": []
    },
    {
      "cell_type": "markdown",
      "metadata": {
        "id": "xrfwkzpC4p24"
      },
      "source": [
        "## [6. Лесенка](https://pythontutor.ru/lessons/for_loop/problems/ladder/)\n",
        "\n",
        "По данному натуральному n ≤ 9 выведите лесенку из n ступенек, i-я ступенька состоит из чисел от 1 до i без пробелов.\n",
        "\n",
        "Пример\n",
        "\n",
        "| Входные данные | Правильный ответ |\n",
        "|---|---|\n",
        "| 3 | 1 <br/> 12 <br/> 123 |\n",
        "| 4 | 1 <br/> 12 <br/> 123 <br/> 1234 |\n",
        "| 6 | 1 <br/> 12 <br/> 123 <br/> 1234 <br/> 12345 <br/> 123456 |"
      ]
    },
    {
      "cell_type": "code",
      "metadata": {
        "id": "sdGJVd1v42aA"
      },
      "source": [
        "def stairs(num):\n",
        "    pass # Code here"
      ],
      "execution_count": null,
      "outputs": []
    },
    {
      "cell_type": "markdown",
      "metadata": {
        "id": "21LuHisZ6M_a"
      },
      "source": [
        "## [7. Количество слов](https://pythontutor.ru/lessons/str/problems/num_words/)\n",
        "\n",
        "Дана строка, состоящая из слов, разделенных пробелами. Определите, сколько в ней слов. Используйте для решения задачи метод `count`."
      ]
    },
    {
      "cell_type": "code",
      "metadata": {
        "id": "Ly4zaQqk6Weu"
      },
      "source": [
        "def count_words(sentence):\n",
        "    pass # Code here"
      ],
      "execution_count": null,
      "outputs": []
    },
    {
      "cell_type": "code",
      "metadata": {
        "id": "hVg9y9KL8Gzy"
      },
      "source": [
        "# Testing\n",
        "test.assert_equals(count_words(\"Hello world\"), 2)\n",
        "test.assert_equals(count_words(\"In the hole in the ground there lived a hobbit\"), 10)\n",
        "test.assert_equals(count_words(\"One two three four five\"), 5)"
      ],
      "execution_count": null,
      "outputs": []
    },
    {
      "cell_type": "markdown",
      "metadata": {
        "id": "kLErTNDD8jru"
      },
      "source": [
        "## [8. Замена подстроки](https://pythontutor.ru/lessons/str/problems/replace_substring/)\n",
        "\n",
        "Дана строка. Замените в этой строке все цифры `1` на слово `one`."
      ]
    },
    {
      "cell_type": "code",
      "metadata": {
        "id": "kuEKb8k38-dG"
      },
      "source": [
        "def replacement_1(sentence):\n",
        "    pass # Code here"
      ],
      "execution_count": null,
      "outputs": []
    },
    {
      "cell_type": "code",
      "metadata": {
        "id": "z4JnKbu19D5k"
      },
      "source": [
        "# Testing\n",
        "test.assert_equals(replacement_1(\"1+1=2\"), \"one+one=2\")\n",
        "test.assert_equals(replacement_1(\"1111111111111111111111111111111111\"), \"oneoneoneoneoneoneoneoneoneoneoneoneoneoneoneoneoneoneoneoneoneoneoneoneoneoneoneoneoneoneoneoneoneone\")\n",
        "test.assert_equals(replacement_1(\"1213141516171819101\"), \"one2one3one4one5one6one7one8one9one0one\")"
      ],
      "execution_count": null,
      "outputs": []
    },
    {
      "cell_type": "markdown",
      "metadata": {
        "id": "34TGiF5W977x"
      },
      "source": [
        "## [9. Четные индексы](https://pythontutor.ru/lessons/lists/problems/even_indices/)\n",
        "\n",
        "Выведите все элементы списка с четными индексами (то есть `A[0]`, `A[2]`, `A[4]`, ...)."
      ]
    },
    {
      "cell_type": "code",
      "metadata": {
        "id": "W2a_HGiPB-0K"
      },
      "source": [
        "def even_indexes(list_nums):\n",
        "    pass # Code here"
      ],
      "execution_count": null,
      "outputs": []
    },
    {
      "cell_type": "code",
      "metadata": {
        "id": "JGSlneJVCWbK"
      },
      "source": [
        "# Testing\n",
        "test.assert_equals(even_indexes([1, 2, 3, 4, 5]), [1, 3, 5])\n",
        "test.assert_equals(even_indexes([4, 5, 3, 4, 2, 3]), [4, 3, 2])\n",
        "test.assert_equals(even_indexes([40, 64, -80, -98, -68, 56, 85, 87, -68, -78]), [40, -80, -68, 85, -68])"
      ],
      "execution_count": null,
      "outputs": []
    },
    {
      "cell_type": "markdown",
      "metadata": {
        "id": "rrv0cWkdC5Ko"
      },
      "source": [
        "## [10. Переставить min и max](https://pythontutor.ru/lessons/lists/problems/swap_min_and_max/)\n",
        "\n",
        "В списке все элементы различны. Поменяйте местами минимальный и максимальный элемент этого списка."
      ]
    },
    {
      "cell_type": "code",
      "metadata": {
        "id": "M9Rj6wEqC4qi"
      },
      "source": [
        "def change_min_max(list_nums):\n",
        "    pass # Code here"
      ],
      "execution_count": null,
      "outputs": []
    },
    {
      "cell_type": "code",
      "metadata": {
        "id": "tpWewsi5DTna"
      },
      "source": [
        "# Testing\n",
        "test.assert_equals(change_min_max([3, 4, 5, 2, 1]), [3, 4, 1, 2, 5])\n",
        "test.assert_equals(change_min_max([2147483647, -2147483648]), [-2147483648, 2147483647])\n",
        "test.assert_equals(change_min_max([10, 9, 8, 7, 6, 5, 4, 3, 2, 1]), [1, 9, 8, 7, 6, 5, 4, 3, 2, 10])"
      ],
      "execution_count": null,
      "outputs": []
    },
    {
      "cell_type": "markdown",
      "source": [
        "## Ответы\n",
        "\n",
        "Ответы на [задачи](http://pythoshka.ru/p15.html)."
      ],
      "metadata": {
        "id": "BK0mvqfs0mrY"
      }
    }
  ]
}