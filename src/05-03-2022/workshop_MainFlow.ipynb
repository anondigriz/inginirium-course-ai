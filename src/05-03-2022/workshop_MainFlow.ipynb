{
  "nbformat": 4,
  "nbformat_minor": 0,
  "metadata": {
    "colab": {
      "name": "workshop_MainFlow.ipynb",
      "provenance": [],
      "collapsed_sections": [],
      "toc_visible": true
    },
    "kernelspec": {
      "name": "python3",
      "display_name": "Python 3"
    },
    "accelerator": "GPU"
  },
  "cells": [
    {
      "cell_type": "markdown",
      "source": [
        "# Знакомство с нейронными сетями (решение задач с Fashion MNIST)"
      ],
      "metadata": {
        "id": "n7HcOq6pDgvI"
      }
    },
    {
      "cell_type": "markdown",
      "source": [
        "Дополнительный материал:\n",
        "\n",
        "* Первая модель: набор данных [Fashion MNIST](https://habr.com/ru/post/454034/)"
      ],
      "metadata": {
        "id": "3sXALA6eSfOm"
      }
    },
    {
      "cell_type": "markdown",
      "metadata": {
        "id": "JvIb4ardQO53"
      },
      "source": [
        "Это руководство поможет тебе обучить нейросеть, которая классифицирует изображения одежды, например, кроссовки и рубашки. Это нормально, если не все будет понятно сразу: это быстрый, ознакомительный обзор полной программы TensorFlow, где новые детали объясняются по мере их появления."
      ]
    },
    {
      "cell_type": "code",
      "metadata": {
        "id": "Kfa4KrqTQwsf"
      },
      "source": [
        "try:\n",
        "  # Colab only\n",
        "  %tensorflow_version 2.x\n",
        "except Exception:\n",
        "    pass"
      ],
      "execution_count": null,
      "outputs": []
    },
    {
      "cell_type": "code",
      "metadata": {
        "id": "_EGEWtI0R-lN"
      },
      "source": [
        "from __future__ import absolute_import, division, print_function, unicode_literals\n",
        "\n",
        "# TensorFlow и tf.keras\n",
        "import tensorflow as tf\n",
        "from tensorflow import keras\n",
        "\n",
        "# Вспомогательные библиотеки\n",
        "import numpy as np\n",
        "import matplotlib.pyplot as plt\n",
        "\n",
        "print(tf.__version__)"
      ],
      "execution_count": null,
      "outputs": []
    },
    {
      "cell_type": "markdown",
      "source": [
        "## Загружаем датасет Fashion MNIST"
      ],
      "metadata": {
        "id": "CMtouji0E0N1"
      }
    },
    {
      "cell_type": "markdown",
      "metadata": {
        "id": "5TMphk4fQ47v"
      },
      "source": [
        "\n",
        "\n",
        "Это руководство использует датасет Fashion MNIST который содержит 70,000 монохромных изображений в 10 категориях. На каждом изображении содержится по одному предмету одежды в низком разрешении (28 на 28 пикселей):\n",
        "\n",
        "<table>\n",
        "  <tr><td>\n",
        "    <img src=\"https://tensorflow.org/images/fashion-mnist-sprite.png\"\n",
        "         alt=\"Fashion MNIST sprite\"  width=\"600\">\n",
        "  </td></tr>\n",
        "  <tr><td align=\"center\">\n",
        "    <a href=\"https://github.com/zalandoresearch/fashion-mnist\"> Образцы Fashion-MNIST</a> (Zalando, лицензия MIT).<br/>&nbsp;\n",
        "  </td></tr>\n",
        "</table>\n",
        "\n",
        "Fashion MNIST предназначен для замены классического датасета MNIST который часто используют как \"Hello, World\" программ машинного обучения для компьютерного зрения. Датасет [MNIST](http://yann.lecun.com/exdb/mnist/) содержит изображения рукописных цифр (0, 1, 2, и т.д.) в формате идентичном формату изображений одежды которыми мы будем пользоваться здесь.\n",
        "\n",
        "Это руководство для разнообразия использует Fashion MNIST, и еще потому, что это проблема немного сложнее чем обычный MNIST. Оба датасета относительно малы, и используются для проверки корректности работы алгоритма. Это хорошие отправные точки для тестирования и отладки кода.\n",
        "\n",
        "Мы используем 60,000 изображений для обучения нейросети и 10,000 изображений чтобы проверить, насколько правильно сеть обучилась их классифицировать. Вы можете получить доступ к Fashion MNIST прямо из TensorFlow. Импортируйте и загрузите данные Fashion MNIST прямо из TensorFlow:\n"
      ]
    },
    {
      "cell_type": "code",
      "metadata": {
        "id": "kBYDUUpSQYqB"
      },
      "source": [
        "fashion_mnist = keras.datasets.fashion_mnist\n",
        "\n",
        "(train_images, train_labels), (test_images, test_labels) = fashion_mnist.load_data()"
      ],
      "execution_count": null,
      "outputs": []
    },
    {
      "cell_type": "markdown",
      "metadata": {
        "id": "l55elvOGRfst"
      },
      "source": [
        "Загрузка датасета возвращает четыре массива NumPy:\n",
        "\n",
        "* Массивы `train_images` и `train_labels` являются *тренировочным сетом* — данными, на которых модель будет обучаться.\n",
        "* Модель тестируется на *проверочном сете*, а именно массивах `test_images` и `test_labels`.\n",
        "\n",
        "Изображения являются 28х28 массивами NumPy, где значение пикселей варьируется от 0 до 255. *Метки (labels)* - это массив целых чисел от 0 до 9. Они соответствуют *классам* одежды изображенной на картинках:\n",
        "\n",
        "<table>\n",
        "  <tr>\n",
        "    <th>Label</th>\n",
        "    <th>Class</th>\n",
        "  </tr>\n",
        "  <tr>\n",
        "    <td>0</td>\n",
        "    <td>T-shirt/top</td>\n",
        "  </tr>\n",
        "  <tr>\n",
        "    <td>1</td>\n",
        "    <td>Trouser</td>\n",
        "  </tr>\n",
        "    <tr>\n",
        "    <td>2</td>\n",
        "    <td>Pullover</td>\n",
        "  </tr>\n",
        "    <tr>\n",
        "    <td>3</td>\n",
        "    <td>Dress</td>\n",
        "  </tr>\n",
        "    <tr>\n",
        "    <td>4</td>\n",
        "    <td>Coat</td>\n",
        "  </tr>\n",
        "    <tr>\n",
        "    <td>5</td>\n",
        "    <td>Sandal</td>\n",
        "  </tr>\n",
        "    <tr>\n",
        "    <td>6</td>\n",
        "    <td>Shirt</td>\n",
        "  </tr>\n",
        "    <tr>\n",
        "    <td>7</td>\n",
        "    <td>Sneaker</td>\n",
        "  </tr>\n",
        "    <tr>\n",
        "    <td>8</td>\n",
        "    <td>Bag</td>\n",
        "  </tr>\n",
        "    <tr>\n",
        "    <td>9</td>\n",
        "    <td>Ankle boot</td>\n",
        "  </tr>\n",
        "</table>\n",
        "\n",
        "Каждому изображению соответствует единственная метка. Так как *названия классов* не включены в датасет, сохраним их тут для дальнейшего использования при построении изображений:"
      ]
    },
    {
      "cell_type": "code",
      "metadata": {
        "id": "FzuRh6u_Rgmv"
      },
      "source": [
        "class_names = ['T-shirt/top', 'Trouser', 'Pullover', 'Dress', 'Coat',\n",
        "               'Sandal', 'Shirt', 'Sneaker', 'Bag', 'Ankle boot']"
      ],
      "execution_count": null,
      "outputs": []
    },
    {
      "cell_type": "markdown",
      "source": [
        "## Изучите данные"
      ],
      "metadata": {
        "id": "Cf_LGd1tE3YK"
      }
    },
    {
      "cell_type": "markdown",
      "metadata": {
        "id": "oxy-DFivRj5A"
      },
      "source": [
        "\n",
        "\n",
        "Давайте посмотрим на формат данных перед обучением модели. Воспользовавшись `shape` мы видим, что в тренировочном датасете 60,000 изображений, каждое размером 28 x 28 пикселей:"
      ]
    },
    {
      "cell_type": "code",
      "metadata": {
        "id": "IQhj_chORnjx"
      },
      "source": [
        "train_images.shape"
      ],
      "execution_count": null,
      "outputs": []
    },
    {
      "cell_type": "markdown",
      "metadata": {
        "id": "DRu8iKzwRu0F"
      },
      "source": [
        "Соответственно, в тренировочном сете 60,000 меток:"
      ]
    },
    {
      "cell_type": "code",
      "metadata": {
        "id": "a6o3FWEARp6W"
      },
      "source": [
        "len(train_labels)"
      ],
      "execution_count": null,
      "outputs": []
    },
    {
      "cell_type": "markdown",
      "metadata": {
        "id": "YtRTqsneRxFu"
      },
      "source": [
        "Каждая метка это целое число от 0 до 9:"
      ]
    },
    {
      "cell_type": "code",
      "metadata": {
        "id": "8yDt7GqTRy31"
      },
      "source": [
        "train_labels"
      ],
      "execution_count": null,
      "outputs": []
    },
    {
      "cell_type": "markdown",
      "metadata": {
        "id": "ONfjp9KeSafB"
      },
      "source": [
        "Проверочный сет содержит 10,000 изображений, каждое - также 28 на 28 пикселей:"
      ]
    },
    {
      "cell_type": "code",
      "metadata": {
        "id": "gLCDLj3mSbBO"
      },
      "source": [
        "test_images.shape"
      ],
      "execution_count": null,
      "outputs": []
    },
    {
      "cell_type": "markdown",
      "metadata": {
        "id": "vQGmJiYjSdUT"
      },
      "source": [
        "И в проверочном сете - ровно 10,000 меток:"
      ]
    },
    {
      "cell_type": "code",
      "metadata": {
        "id": "jjC-98EZScfL"
      },
      "source": [
        "len(test_labels)"
      ],
      "execution_count": null,
      "outputs": []
    },
    {
      "cell_type": "markdown",
      "source": [
        "## Предобработайте данные"
      ],
      "metadata": {
        "id": "TACZBlw5E5i5"
      }
    },
    {
      "cell_type": "markdown",
      "metadata": {
        "id": "k0cOdHLhSi6b"
      },
      "source": [
        "\n",
        "Данные должны быть предобработаны перед обучением нейросети. Если вы посмотрите на первое изображение в тренировочном сете вы увидите, что значения пикселей находятся в диапазоне от 0 до 255:"
      ]
    },
    {
      "cell_type": "code",
      "metadata": {
        "id": "4HxWheT9SiO1"
      },
      "source": [
        "plt.figure()\n",
        "plt.imshow(train_images[0])\n",
        "plt.colorbar()\n",
        "plt.grid(False)\n",
        "plt.show()"
      ],
      "execution_count": null,
      "outputs": []
    },
    {
      "cell_type": "markdown",
      "metadata": {
        "id": "0xklmfkiS_6O"
      },
      "source": [
        "Мы масштабируем эти значения к диапазону от 0 до 1 перед тем как скормить их нейросети. Для этого мы поделим значения на 255. Важно, чтобы тренировочный сет и проверочный сет были предобработаны одинаково:"
      ]
    },
    {
      "cell_type": "code",
      "metadata": {
        "id": "JEoHnGamTAiC"
      },
      "source": [
        "train_images = train_images / 255.0\n",
        "\n",
        "test_images = test_images / 255.0"
      ],
      "execution_count": null,
      "outputs": []
    },
    {
      "cell_type": "markdown",
      "metadata": {
        "id": "tJhFq1gtTE01"
      },
      "source": [
        "Чтобы убедиться, что данные в правильном формате и мы готовы построить и обучить нейросеть, выведем на экран первые 25 изображений из тренировочного сета и отобразим под ними наименования их классов."
      ]
    },
    {
      "cell_type": "code",
      "metadata": {
        "id": "z8NCsuabTDzd"
      },
      "source": [
        "plt.figure(figsize=(10,10))\n",
        "for i in range(25):\n",
        "    plt.subplot(5,5,i+1)\n",
        "    plt.xticks([])\n",
        "    plt.yticks([])\n",
        "    plt.grid(False)\n",
        "    plt.imshow(train_images[i], cmap=plt.cm.binary)\n",
        "    plt.xlabel(class_names[train_labels[i]])\n",
        "plt.show()"
      ],
      "execution_count": null,
      "outputs": []
    },
    {
      "cell_type": "markdown",
      "source": [
        "## Постройте модель"
      ],
      "metadata": {
        "id": "6ZzivLXtE77G"
      }
    },
    {
      "cell_type": "markdown",
      "source": [
        "Построение модели нейронной сети требует правильной конфигурации каждого слоя, и последующей компиляции модели.\n"
      ],
      "metadata": {
        "id": "vkFmL76PE9x9"
      }
    },
    {
      "cell_type": "markdown",
      "source": [
        "### Настройте слои"
      ],
      "metadata": {
        "id": "EM1SazYnFAd2"
      }
    },
    {
      "cell_type": "markdown",
      "metadata": {
        "id": "RRbfSHX5Un7h"
      },
      "source": [
        "\n",
        "\n",
        "\n",
        "В Keras, вы собираете **слои** (`layers`) для построения **моделей** (`models`). Модель это (обычно) граф слоев. Наиболее распространенным видом модели является **стек слоев**: модель `tf.keras.Sequential`.\n",
        "\n",
        "Большая часть глубокого обучения состоит из соединения в последовательность простых слоев. Большинство слоев, таких как `tf.keras.layers.Dense`, имеют параметры, которые настраиваются во время обучения.\n",
        "\n",
        "Типичная полносвязанная сеть (т.е. многослойный перцептрон):\n",
        "\n",
        "```python\n",
        "from tensorflow.keras import layers\n",
        "\n",
        "model = tf.keras.Sequential()\n",
        "# Добавим к модели полносвязный слой с 64 узлами:\n",
        "model.add(layers.Dense(64, activation='relu'))\n",
        "# Добавим другой слой:\n",
        "model.add(layers.Dense(64, activation='relu'))\n",
        "# Добавим слой softmax с 10 выходами:\n",
        "model.add(layers.Dense(10, activation='softmax'))\n",
        "```\n",
        "\n",
        "\n"
      ]
    },
    {
      "cell_type": "code",
      "metadata": {
        "id": "AC3MWzMLptZI"
      },
      "source": [
        "model = keras.Sequential([\n",
        "    keras.layers.Flatten(input_shape=(28, 28)),\n",
        "    keras.layers.Dense(128, activation='relu'),\n",
        "    keras.layers.Dense(10, activation='softmax')\n",
        "])"
      ],
      "execution_count": null,
      "outputs": []
    },
    {
      "cell_type": "markdown",
      "metadata": {
        "id": "4zoIT-xTpzOr"
      },
      "source": [
        "**Первый слой этой сети** - `tf.keras.layers.Flatten`, преобразует формат изображения из двумерного массива (`28 на 28 пикселей`) в одномерный (размерностью `28 * 28 = 784 пикселя`). Слой извлекает строки пикселей из изображения и выстраивает их в один ряд. Этот слой не имеет параметров для обучения; он только **переформатирует данные**.\n",
        "\n",
        "После разложения пикселей, нейросеть содержит два слоя `tf.keras.layers.Dense`. Это **полносвязные нейронные слои**. Первый Dense слой состоит из `128 узлов (или нейронов)`. Второй (и последний) `10-узловой softmax` слой возвращает массив из **10 вероятностных оценок** дающих в сумме 1. Каждый узел содержит оценку указывающую вероятность принадлежности изображения к одному из 10 классов.\n",
        "\n",
        "Доступно много разновидностей слоев `tf.keras.layers`. Большинство из них используют общий конструктор аргументов:\n",
        "\n",
        "* `activation`: Установка функции активации для слоя. В этом параметре указывается имя встроенной функции или вызываемый объект. У параметра нет значения по умолчанию.\n",
        "* `kernel_initializer` и `bias_initializer`: Схемы инициализации создающие веса слоя (ядро и сдвиг). В этом параметре может быть имя или вызываемый объект. По умолчанию используется инициализатор \"Glorot uniform\". [Инициализации](https://keras.io/initializers/) определяют способ задания начальных случайных весов слоев Keras.\n",
        "* `kernel_regularizer` и `bias_regularizer`: Схемы регуляризации добавляемые к весам слоя (ядро и сдвиг), такие как L1 или L2 регуляризации. По умолчанию регуляризация не устанавливается."
      ]
    },
    {
      "cell_type": "markdown",
      "source": [
        "### Суть [Softmax](https://alexanderkurakin.blogspot.com/2018/08/softmax.html)"
      ],
      "metadata": {
        "id": "kwl0XqjWFHQR"
      }
    },
    {
      "cell_type": "markdown",
      "metadata": {
        "id": "OlAQkJuYqmdw"
      },
      "source": [
        "\n",
        "Вспомним, что логистическая регрессия производит результаты между 0 и 1. Например, вывод логистической регрессии равный 0.8 от классификатора писем предполагает, что шанс того, что письмо спам равен `80%`, а шанс того, что письмо не спам равен `20%`. Очевидно, что сумма вероятностей того, что письмо будет спамом или не спамом будет равна `1.0`.\n",
        "\n",
        "**Софтмакс (Softmax)** расширяет эту идею в мульти-классовый мир. То есть, софтмакс назначает дробные вероятности каждому классу в мультиклассовой проблеме. Эти дробные вероятности должны составлять вместе `1.0`. Это дополнительное ограничение помогает тренировке сойтись быстрее.\n",
        "\n",
        "\n",
        "<table>\n",
        "  <tr><td>\n",
        "    <img src=\"https://1.bp.blogspot.com/-hVj8epcHJgo/W4mC2Fj7feI/AAAAAAAAAlM/tVpOqFA3M5E-nnYodzabauB4a2qQTbnKACPcBGAYYCw/s1600/softmax.png\"\n",
        "         alt=\"Fashion MNIST sprite\"  width=\"394\" height=\"237\">\n",
        "  </td></tr>\n",
        "  <tr><td align=\"center\">\n",
        "    <a href=\"https://alexanderkurakin.blogspot.com/2018/08/softmax.html\"> Сумма всех выходных сигналов равна 1.<br/>\n",
        "  </td></tr>\n",
        "</table>\n",
        "\n",
        "Софтмакс реализован через слой нейронной сети прямо перед слоем вывода. Софтмакс слой должен иметь такое же количество узлов как слой вывода.\n",
        "\n",
        "<table>\n",
        "  <tr><td>\n",
        "    <img src=\"https://3.bp.blogspot.com/-N3tsLE1P8VU/W4mC-sXbefI/AAAAAAAAAlI/GYXXXP_iytccCnbwOuN3Daq6PF9kowPDQCLcBGAs/s1600/softmax2.png\"\n",
        "         alt=\"Fashion MNIST sprite\"  width=\"332\" height=\"251\">\n",
        "  </td></tr>\n",
        "  <tr><td align=\"center\">\n",
        "    <a href=\"https://alexanderkurakin.blogspot.com/2018/08/softmax.html\"> Сумма всех выходных сигналов равна 1.<br/>\n",
        "  </td></tr>\n",
        "</table>\n",
        "\n",
        "Если очень хочется понять `softmax`: [sim0nsays Лекция 2.1 - Softmax](https://youtu.be/64nwedrxjPo)."
      ]
    },
    {
      "cell_type": "markdown",
      "source": [
        "## Скомпилируйте модель"
      ],
      "metadata": {
        "id": "XRkL0t0DFKSz"
      }
    },
    {
      "cell_type": "markdown",
      "metadata": {
        "id": "lD4Cjg1KuemJ"
      },
      "source": [
        "\n",
        "\n",
        "\n",
        "Прежде чем модель будет готова для обучения, нам нужно указать еще несколько параметров. Они добавляются на шаге compile модели:\n",
        "\n",
        "* **Функция потерь** (`Loss function`) — измеряет точность модели во время обучения. Мы хотим минимизировать эту функцию чтоб \"направить\" модель в верном направлении.\n",
        "* **Оптимизатор** (`Optimizer`) — показывает каким образом обновляется модель на основе входных данных и функции потерь.\n",
        "* **Метрики** (`Metrics`) — используются для мониторинга тренировки и тестирования модели. Наш пример использует метрику accuracy равную доле правильно классифицированных изображений."
      ]
    },
    {
      "cell_type": "code",
      "metadata": {
        "id": "laKyxzubqmAD"
      },
      "source": [
        "model.compile(optimizer='adam',\n",
        "              loss='sparse_categorical_crossentropy',\n",
        "              metrics=['accuracy'])"
      ],
      "execution_count": null,
      "outputs": []
    },
    {
      "cell_type": "markdown",
      "source": [
        "## Обучите модель"
      ],
      "metadata": {
        "id": "FZM72RP5FMJ2"
      }
    },
    {
      "cell_type": "markdown",
      "metadata": {
        "id": "U6FJZQgSu68s"
      },
      "source": [
        "\n",
        "\n",
        "Обучение модели нейронной сети требует выполнения следующих шагов:\n",
        "\n",
        "1. Подайте тренировочный данные в модель. В этом примере тренировочные данные это массивы `train_images` и `train_labels`.\n",
        "1. Модель учится ассоциировать изображения с правильными классами.\n",
        "1. Мы просим модель сделать прогнозы для проверочных данных, в этом примере массив `test_images`. Мы проверяем, соответствуют ли предсказанные классы меткам из массива `test_labels`.\n",
        "\n",
        "Для начала обучения, вызовите метод `model.fit`, который называется так, поскольку \"тренирует (fits)\" модель на тренировочных данных:"
      ]
    },
    {
      "cell_type": "code",
      "metadata": {
        "id": "GBdkM5ZOpyWn"
      },
      "source": [
        "model.fit(train_images, train_labels, epochs=10)"
      ],
      "execution_count": null,
      "outputs": []
    },
    {
      "cell_type": "markdown",
      "metadata": {
        "id": "BGx5ISHMvNDX"
      },
      "source": [
        "В процессе обучения модели отображаются метрики потери (loss) и точности (accuracy)."
      ]
    },
    {
      "cell_type": "markdown",
      "source": [
        "## Оцените точность"
      ],
      "metadata": {
        "id": "BcnvttusFN4B"
      }
    },
    {
      "cell_type": "markdown",
      "metadata": {
        "id": "t_LwKfXBvXcB"
      },
      "source": [
        "\n",
        "\n",
        "Далее, сравните какую точность модель покажет на проверчном датасете:\n"
      ]
    },
    {
      "cell_type": "code",
      "metadata": {
        "id": "rlJAXGMuvMOd"
      },
      "source": [
        "test_loss, test_acc = model.evaluate(test_images,  test_labels, verbose=2)\n",
        "\n",
        "print('\\nТочность на проверочных данных:', test_acc)"
      ],
      "execution_count": null,
      "outputs": []
    },
    {
      "cell_type": "markdown",
      "metadata": {
        "id": "CHX9G0MDvkis"
      },
      "source": [
        "Полученная на проверочном сете точность оказалась немного ниже, чем на тренировочном. Этот разрыв между точностью на тренировке и тесте является **примером переобучения** (`overfitting`). Переобучение возникает, когда модель машинного обучения показывает на новых данных худший результат, чем на тех, на которых она обучалась."
      ]
    },
    {
      "cell_type": "markdown",
      "source": [
        "## Сделайте предсказания"
      ],
      "metadata": {
        "id": "0ivtKu2qFP8L"
      }
    },
    {
      "cell_type": "markdown",
      "metadata": {
        "id": "CvxYnj-Rvz0s"
      },
      "source": [
        "\n",
        "\n",
        "Теперь, когда модель обучена, мы можем использовать ее чтобы сделать предсказания по поводу нескольких изображений:"
      ]
    },
    {
      "cell_type": "code",
      "metadata": {
        "id": "4ipFYe6RvjPO"
      },
      "source": [
        "predictions = model.predict(test_images)"
      ],
      "execution_count": null,
      "outputs": []
    },
    {
      "cell_type": "markdown",
      "metadata": {
        "id": "nmnAURs4v5HB"
      },
      "source": [
        "Здесь полученная модель предсказала класс одежды для каждого изображения в проверочном датасете. Давайте посмотрим на первое предсказание:"
      ]
    },
    {
      "cell_type": "code",
      "metadata": {
        "id": "gXo1Ek8Mv4Y8"
      },
      "source": [
        "predictions[0]"
      ],
      "execution_count": null,
      "outputs": []
    },
    {
      "cell_type": "markdown",
      "metadata": {
        "id": "1mdyVMvAv8Xs"
      },
      "source": [
        "Прогноз представляет из себя массив из 10 чисел. Они описывают \"уверенность\" (confidence) модели в том, насколько изображение соответствует каждому из 10 разных видов одежды. Мы можем посмотреть какой метке соответствует максимальное значение:"
      ]
    },
    {
      "cell_type": "code",
      "metadata": {
        "id": "dh7e6LVNv9NH"
      },
      "source": [
        "np.argmax(predictions[0])"
      ],
      "execution_count": null,
      "outputs": []
    },
    {
      "cell_type": "markdown",
      "metadata": {
        "id": "CFrmkF2kwCXB"
      },
      "source": [
        "Мы можем построить график, чтобы взглянуть на полный набор из 10 предсказаний классов."
      ]
    },
    {
      "cell_type": "code",
      "metadata": {
        "id": "339rxNARwDM-"
      },
      "source": [
        "def plot_image(i, predictions_array, true_label, img):\n",
        "  predictions_array, true_label, img = predictions_array[i], true_label[i], img[i]\n",
        "  plt.grid(False)\n",
        "  plt.xticks([])\n",
        "  plt.yticks([])\n",
        "\n",
        "  plt.imshow(img, cmap=plt.cm.binary)\n",
        "\n",
        "  predicted_label = np.argmax(predictions_array)\n",
        "  if predicted_label == true_label:\n",
        "    color = 'blue'\n",
        "  else:\n",
        "    color = 'red'\n",
        "\n",
        "  plt.xlabel(\"{} {:2.0f}% ({})\".format(class_names[predicted_label],\n",
        "                                100*np.max(predictions_array),\n",
        "                                class_names[true_label]),\n",
        "                                color=color)\n",
        "\n",
        "def plot_value_array(i, predictions_array, true_label):\n",
        "  predictions_array, true_label = predictions_array[i], true_label[i]\n",
        "  plt.grid(False)\n",
        "  plt.xticks([])\n",
        "  plt.yticks([])\n",
        "  thisplot = plt.bar(range(10), predictions_array, color=\"#777777\")\n",
        "  plt.ylim([0, 1])\n",
        "  predicted_label = np.argmax(predictions_array)\n",
        "\n",
        "  thisplot[predicted_label].set_color('red')\n",
        "  thisplot[true_label].set_color('blue')"
      ],
      "execution_count": null,
      "outputs": []
    },
    {
      "cell_type": "markdown",
      "metadata": {
        "id": "_D-X6b57wGOg"
      },
      "source": [
        "Давайте посмотрим на нулевое изображение, предсказание и массив предсказаний.\n"
      ]
    },
    {
      "cell_type": "code",
      "metadata": {
        "id": "K6KEqiAFwFdB"
      },
      "source": [
        "i = 0\n",
        "plt.figure(figsize=(6,3))\n",
        "plt.subplot(1,2,1)\n",
        "plot_image(i, predictions, test_labels, test_images)\n",
        "plt.subplot(1,2,2)\n",
        "plot_value_array(i, predictions,  test_labels)\n",
        "plt.show()"
      ],
      "execution_count": null,
      "outputs": []
    },
    {
      "cell_type": "code",
      "metadata": {
        "id": "gczRD_jxwJzs"
      },
      "source": [
        "i = 12\n",
        "plt.figure(figsize=(6,3))\n",
        "plt.subplot(1,2,1)\n",
        "plot_image(i, predictions, test_labels, test_images)\n",
        "plt.subplot(1,2,2)\n",
        "plot_value_array(i, predictions,  test_labels)\n",
        "plt.show()"
      ],
      "execution_count": null,
      "outputs": []
    },
    {
      "cell_type": "markdown",
      "metadata": {
        "id": "C-sYpZXywM7K"
      },
      "source": [
        "Давайте посмотрим несколько изображений с их прогнозами. Цвет верных предсказаний синий, а неверных - красный. Число это процент уверенности (от 100) для предсказанной метки. Отметим, что модель может ошибаться даже если она очень уверена."
      ]
    },
    {
      "cell_type": "code",
      "metadata": {
        "id": "B9xomWPgwP-V"
      },
      "source": [
        "# Отображаем первые X тестовых изображений, их предсказанную и настоящую метки.\n",
        "# Корректные предсказания окрашиваем в синий цвет, ошибочные в красный.\n",
        "num_rows = 5\n",
        "num_cols = 3\n",
        "num_images = num_rows*num_cols\n",
        "plt.figure(figsize=(2*2*num_cols, 2*num_rows))\n",
        "for i in range(num_images):\n",
        "  plt.subplot(num_rows, 2*num_cols, 2*i+1)\n",
        "  plot_image(i, predictions, test_labels, test_images)\n",
        "  plt.subplot(num_rows, 2*num_cols, 2*i+2)\n",
        "  plot_value_array(i, predictions, test_labels)\n",
        "plt.show()"
      ],
      "execution_count": null,
      "outputs": []
    },
    {
      "cell_type": "markdown",
      "metadata": {
        "id": "Qy0TpzkLwY1l"
      },
      "source": [
        "Наконец, используем обученную модель для предсказания класса на одном изображении."
      ]
    },
    {
      "cell_type": "code",
      "metadata": {
        "id": "wCWBdQi7wZvb"
      },
      "source": [
        "# Берем одну картинку из проверочного сета.\n",
        "img = test_images[0]\n",
        "\n",
        "print(img.shape)"
      ],
      "execution_count": null,
      "outputs": []
    },
    {
      "cell_type": "markdown",
      "metadata": {
        "id": "1-tDH_bOwb7o"
      },
      "source": [
        "Модели `tf.keras` оптимизированы для предсказаний на пакетах (batch) данных, или на множестве примеров сразу. Таким образом, даже если мы используем всего 1 картинку, нам все равно необходимо добавить ее в список:"
      ]
    },
    {
      "cell_type": "code",
      "metadata": {
        "id": "VPhlGGqmwd1u"
      },
      "source": [
        "# Добавляем изображение в пакет данных, состоящий только из одного элемента.\n",
        "img = (np.expand_dims(img,0))\n",
        "\n",
        "print(img.shape)"
      ],
      "execution_count": null,
      "outputs": []
    },
    {
      "cell_type": "markdown",
      "metadata": {
        "id": "nYM3kOsewhNb"
      },
      "source": [
        "Сейчас предскажем правильную метку для изображения:"
      ]
    },
    {
      "cell_type": "code",
      "metadata": {
        "id": "e028rWcqwfib"
      },
      "source": [
        "predictions_single = model.predict(img)\n",
        "\n",
        "print(predictions_single)"
      ],
      "execution_count": null,
      "outputs": []
    },
    {
      "cell_type": "code",
      "metadata": {
        "id": "FT0Wh9yAwkRh"
      },
      "source": [
        "plot_value_array(0, predictions_single, test_labels)\n",
        "_ = plt.xticks(range(10), class_names, rotation=45)"
      ],
      "execution_count": null,
      "outputs": []
    }
  ]
}