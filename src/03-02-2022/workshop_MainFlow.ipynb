{
  "nbformat": 4,
  "nbformat_minor": 0,
  "metadata": {
    "colab": {
      "name": "Занятие 03 фев 2022 (Прак MainFlow).ipynb",
      "provenance": [],
      "collapsed_sections": []
    },
    "kernelspec": {
      "name": "python3",
      "display_name": "Python 3"
    }
  },
  "cells": [
    {
      "cell_type": "markdown",
      "metadata": {
        "id": "qIV-fAE-r5d0"
      },
      "source": [
        "# Разведочный анализ данных\t"
      ]
    },
    {
      "cell_type": "markdown",
      "source": [
        "План занятия:\n",
        "\n",
        "* Конвейер процесса машинного обучения\n",
        "* Получение данных от источника и их подготовка\n",
        "* Построение графиков в Python при помощи Matplotlib\n",
        "* Коротко о NumPy\n",
        "* Исследование основных характеристик датасета\n",
        "* Визуальное исследование датасета"
      ],
      "metadata": {
        "id": "Qo4stjZBjNiH"
      }
    },
    {
      "cell_type": "markdown",
      "metadata": {
        "id": "-keXJ1XPnR-h"
      },
      "source": [
        "## Конвейер процесса машинного обучения"
      ]
    },
    {
      "cell_type": "markdown",
      "source": [
        "Конвейер ML сервисов [Azure](https://docs.microsoft.com/ru-ru/azure/machine-learning/service/concept-ml-pipelines):\n",
        "\n",
        "![alt text](https://docs.microsoft.com/ru-ru/azure/machine-learning/service/media/concept-ml-pipelines/pipeline-flow.png)\n",
        "\n",
        "Конвейер ML AI Platform for [Google Cloud](https://cloud.google.com/ml-engine/docs/ml-solutions-overview):\n",
        "\n",
        "![alt text](https://cloud.google.com/ml-engine/docs/images/ml-workflow.svg)\n"
      ],
      "metadata": {
        "id": "ccHMr5uckK9w"
      }
    },
    {
      "cell_type": "markdown",
      "source": [
        "### [Получение данных от источника и их подготовка](https://cloud.google.com/ml-engine/docs/ml-solutions-overview)"
      ],
      "metadata": {
        "id": "qyLP8f-lkPX8"
      }
    },
    {
      "cell_type": "markdown",
      "source": [
        "У вас должен быть доступ к большому набору обучающих данных, включающему атрибут (называемый в ML функцией), который вы хотите выводить (прогнозировать) на основе других функций.\n",
        "\n",
        "Например, предположим, что вы хотите, чтобы ваша модель предсказывала цену продажи дома. Начните с большого набора данных, описывающих характеристики домов в данном районе, включая цену продажи каждого дома."
      ],
      "metadata": {
        "id": "V5V9iDB8kSs-"
      }
    },
    {
      "cell_type": "markdown",
      "source": [
        "### Анализ данных"
      ],
      "metadata": {
        "id": "SpaFyzAykVUa"
      }
    },
    {
      "cell_type": "markdown",
      "source": [
        "Получив ваши данные, вы должны проанализировать, понять данные и подготовить их к вводу в обучающий процесс. Например, вам может потребоваться выполнить следующие шаги:\n",
        "\n",
        "* Объединение данных из нескольких источников и сбор их в один набор данных.\n",
        "* Визуализирование данных для поиска тенденций.\n",
        "* Использование ориентированные на данные языки и инструменты для поиска шаблонов и зависимостей в данных.\n",
        "* Определение особенностей в ваших данных. Функции включают подмножество атрибутов данных, которые вы используете в своей модели.\n",
        "* Очистка данных, чтобы найти любые аномальные значения, вызванные ошибками при вводе данных или измерениях."
      ],
      "metadata": {
        "id": "L38ii9VUkXqe"
      }
    },
    {
      "cell_type": "markdown",
      "source": [
        "### Предварительная обработка данных"
      ],
      "metadata": {
        "id": "l8Egg4YgkZZ3"
      }
    },
    {
      "cell_type": "markdown",
      "metadata": {
        "id": "h7PvY5zPrxZq"
      },
      "source": [
        "\n",
        "На этапе предварительной обработки вы преобразуете действительные чистые данные в формат, который наилучшим образом соответствует потребностям вашей модели. Вот несколько примеров предварительной обработки данных:\n",
        "\n",
        "* Нормализация числовых данных в общем масштабе.\n",
        "* Применение правил форматирования к данным. Например, удаление тегов HTML из текстового объекта.\n",
        "* Сокращение избыточности данных за счет упрощения. Например, преобразование текстового объекта в представление мешка-слов [(Bag-of-words model)](https://en.wikipedia.org/wiki/Bag-of-words_model).\n",
        "* Представление текста численно. Например, присвоение значений каждому возможному значению в категориальном признаке.\n",
        "* Присвоение значений ключей экземплярам данных."
      ]
    },
    {
      "cell_type": "markdown",
      "source": [
        "## [Построение графиков в Python при помощи Matplotlib](https://python-scripts.com/matplotlib)"
      ],
      "metadata": {
        "id": "qDlDOCODkdRe"
      }
    },
    {
      "cell_type": "markdown",
      "metadata": {
        "id": "ssSwSjXihBzA"
      },
      "source": [
        "\n",
        "\n",
        "`matplotlib` – массивная библиотека, и создание графика, который будет выглядеть «просто, нормально» обычно проходит через путь проб и ошибок. Использование однострочных линий для создания базовых графиков в `matplotlib` – весьма просто, но умело пользоваться остальными **98%** библиотеки может быть сложно."
      ]
    },
    {
      "cell_type": "code",
      "source": [
        "!pip install -U matplotlib"
      ],
      "metadata": {
        "id": "U843cNqFq4tj"
      },
      "execution_count": null,
      "outputs": []
    },
    {
      "cell_type": "code",
      "metadata": {
        "id": "UtDxCQSlhDAH"
      },
      "source": [
        "import matplotlib as mpl\n",
        "mpl.__version__"
      ],
      "execution_count": null,
      "outputs": []
    },
    {
      "cell_type": "markdown",
      "metadata": {
        "id": "L180K_RHhEkK"
      },
      "source": [
        "Если вы работаете в Jupyter Notebook для того, чтобы получать графики рядом с ячейками с кодом необходимо выполнить специальную magic команду после того, как импортируете `matplotlib`:"
      ]
    },
    {
      "cell_type": "markdown",
      "source": [
        "### [Основные элементы графика](https://devpractice.ru/matplotlib-lesson-1-quick-start-guide/)"
      ],
      "metadata": {
        "id": "FoR5swf-kyjv"
      }
    },
    {
      "cell_type": "code",
      "metadata": {
        "id": "l_MXw18EhIWK"
      },
      "source": [
        "import matplotlib.pyplot as plt\n",
        "\n",
        "# magic команда\n",
        "%matplotlib inline "
      ],
      "execution_count": null,
      "outputs": []
    },
    {
      "cell_type": "markdown",
      "source": [
        "Рассмотрим основные термины и понятия, касающиеся изображения графика, с которыми вам необходимо будет познакомиться, для того, чтобы в дальнейшем у вас не было трудностей при прочтении материалов из этого цикла статей и документации по библиотеке `matplotlib`."
      ],
      "metadata": {
        "id": "11CJaJVQk6KM"
      }
    },
    {
      "cell_type": "markdown",
      "source": [
        "[Основные компоненты matplotlib](https://pyprog.pro/mpl/mpl_main_components.html):\n",
        "\n",
        "![alt text](https://pyprog.pro/mpl/image/part_0/mpl_anatomy.jpg)"
      ],
      "metadata": {
        "id": "84qtjTgBk5Ct"
      }
    },
    {
      "cell_type": "markdown",
      "metadata": {
        "id": "W0yTyqPPhk8z"
      },
      "source": [
        "\n",
        "`Figure` - это контейнер самого верхнего уровня, та область на которой все нарисовано. Таких областей может быть несколько, каждая из которых может содержать несколько контейнеров Axes.\n",
        "\n",
        "`Axes` - это та область на которой чаще всего и отражаются графики (данные в виде графиков), а так же все вспомогательные атрибуты (линии сетки, метки, указатели и т.д.). Часто, установка этой области сопровождается с вызовом subplot, который и помещает Axes на регулярную сетку. Поэтому, так же часто Axes и Subplot можно считать синонимами. Но с тем что это за сетка и как это размещение работает, давайте разберемся чуть ниже.\n",
        "\n",
        "Каждая область Axes содержит `XAxis` и `YAxis`. Они содержат, деления, метки и прочие вспомогательные атрибуты."
      ]
    },
    {
      "cell_type": "markdown",
      "source": [
        "![alt text](https://devpractice.ru/wp-content/uploads/2019/08/matplotlib.lesson1.pic8_.png)"
      ],
      "metadata": {
        "id": "zEOsQ24Nk-Ib"
      }
    },
    {
      "cell_type": "markdown",
      "source": [
        ""
      ],
      "metadata": {
        "id": "TFVcgxYElCcj"
      }
    },
    {
      "cell_type": "markdown",
      "source": [
        "### [Построение графика](https://devpractice.ru/matplotlib-lesson-1-quick-start-guide/)"
      ],
      "metadata": {
        "id": "nsoKYN9rlCpr"
      }
    },
    {
      "cell_type": "markdown",
      "source": [
        "[**NumPy**](https://numpy.org/doc/stable/) - это фундаментальный пакет для научных вычислений на Python. Это библиотека Python, которая предоставляет объект многомерного массива, различные производные объекты (такие как массивы с масками и матрицы) и набор подпрограмм для быстрых операций с массивами, включая математические, логические, манипуляции с формами, сортировку, выбор, ввод-вывод, дискретные преобразования Фурье, базовую линейную алгебру, базовые статистические операции, случайное моделирование и многое другое."
      ],
      "metadata": {
        "id": "U0o6N3AllUPJ"
      }
    },
    {
      "cell_type": "markdown",
      "metadata": {
        "id": "GglxEgWghKzz"
      },
      "source": [
        "\n",
        "\n",
        "Для начал построим простую линейную зависимость, дадим нашему графику название, подпишем оси и отобразим сетку. Код программы:"
      ]
    },
    {
      "cell_type": "code",
      "metadata": {
        "id": "HWNfnj3fhNKl"
      },
      "source": [
        "import numpy as np\n",
        "\n",
        "# Независимая (x) и зависимая (y) переменные\n",
        "\n",
        "#  linspace(start, stop, num=50)\n",
        "#    * start : число\n",
        "#        число, которое является началом последовательности\n",
        "#    * stop : число\n",
        "#        число, которое является концом последовательности\n",
        "#    * num=50 : число\n",
        "#        определяет количество элементов последовательности\n",
        "\n",
        "x = np.linspace(0, 10, 50)\n",
        "y = x\n",
        "print(x[:10])"
      ],
      "execution_count": null,
      "outputs": []
    },
    {
      "cell_type": "code",
      "source": [
        "type(x)"
      ],
      "metadata": {
        "id": "g5XYP_xwldp8"
      },
      "execution_count": null,
      "outputs": []
    },
    {
      "cell_type": "markdown",
      "metadata": {
        "id": "O3nWc04chOnD"
      },
      "source": [
        "Функция [`linspace()`](https://pyprog.pro/array_creation/linspace.html) возвращает одномерный массив из указанного количества элементов, значения которых равномерно распределенны внутри заданного интервала."
      ]
    },
    {
      "cell_type": "markdown",
      "source": [
        "#### Об объектно-ориентированном API и Pyplot"
      ],
      "metadata": {
        "id": "EH8GWbTumREx"
      }
    },
    {
      "cell_type": "markdown",
      "source": [
        "Matplotlib имеет два [интерфейса](https://matplotlib.org/stable/tutorials/introductory/lifecycle.html):\n",
        "\n",
        "* Первый - это объектно-ориентированный (OO) интерфейс. В этом случае мы используем экземпляр [`axes.Axes`](https://matplotlib.org/stable/api/axes_api.html#matplotlib.axes.Axes) (оси содержат большинство элементов фигуры а также задают систему координат) для визуализаций на экземпляре [`figure.Figure`](https://matplotlib.org/stable/api/figure_api.html#matplotlib.figure.Figure) (контейнер верхнего уровня для всех элементов графика).\n",
        "* Второй основан на [MATLAB](http://pitf.ftf.nstu.ru/files/zaikin/2018/Занятие3.pdf) и использует интерфейс, основанный на состоянии. Это инкапсулировано в модуле [`pyplot`](https://matplotlib.org/stable/api/_as_gen/matplotlib.pyplot.html#module-matplotlib.pyplot).\n",
        "\n",
        "Большинство терминов просты, но главное, что нужно помнить, это то, что:\n",
        "\n",
        "* `Figure` является окончательным изображением, которое может содержать 1 или более осей.\n",
        "* `Axes` представляют отдельный график (не путайте это со словом \"ось\", которое относится к оси `x/y` графика).\n",
        "\n",
        "Мы вызываем методы, которые строят график непосредственно по осям, что дает нам гораздо больше гибкости и возможностей в настройке нашего графика."
      ],
      "metadata": {
        "id": "gN0o6Q0DmZdP"
      }
    },
    {
      "cell_type": "markdown",
      "source": [
        "Построем график, используя ОО-подход:"
      ],
      "metadata": {
        "id": "F9vz51vtnxA-"
      }
    },
    {
      "cell_type": "code",
      "source": [
        "fig, ax = plt.subplots()  # создаем фигуру, содержащую одну ось.\n",
        "ax.plot(x, y, label='линейная')  # строим некоторые данные на осях.\n",
        "ax.set_xlabel('x-метка')  # x-метка к осям.\n",
        "ax.set_ylabel('y-метка')  # y-метка к осям.\n",
        "ax.set_title(\"Линейная зависимость y = x\")  # добавляем заголовок\n",
        "ax.legend()  # добавляем легенду\n",
        "ax.grid()  # включение отображение сетки"
      ],
      "metadata": {
        "id": "8SvmNGeNn2oO"
      },
      "execution_count": null,
      "outputs": []
    },
    {
      "cell_type": "markdown",
      "source": [
        "`pyplot`-подход:"
      ],
      "metadata": {
        "id": "WSPESrssprEM"
      }
    },
    {
      "cell_type": "code",
      "metadata": {
        "id": "VyW81bD_hQsI"
      },
      "source": [
        "#  plot(x, y)\n",
        "#    * x : массив или скаляр\n",
        "#        горизонтальные координаты точек данных. \n",
        "#        Не путать массив numpy и лист Python!\n",
        "#    * y : массив или скаляр\n",
        "#        вертикальные координаты точек данных\n",
        "\n",
        "plt.plot(x, y, label='линейная')  # построение графика\n",
        "plt.xlabel(\"x-метка\") # ось абсцисс\n",
        "plt.ylabel(\"y-метка\") # ось ординат\n",
        "plt.title(\"Линейная зависимость y = x\") # заголовок\n",
        "plt.legend()  # добавляем легенду\n",
        "plt.grid() # включение отображение сетки"
      ],
      "execution_count": null,
      "outputs": []
    },
    {
      "cell_type": "markdown",
      "metadata": {
        "id": "JxUtYNX_hRz9"
      },
      "source": [
        "Изменим тип линии и ее цвет, для этого в функцию plot(), в качестве третьего параметра передадим строку, сформированную определенным образом, в нашем случае это `“r–”`, где `“r”` означает красный цвет, а `“–”` – тип линии – пунктирная линия. Более подробно о том, как задавать цвет и какие типы линии можно использовать будет рассказано с одной из следующих глав."
      ]
    },
    {
      "cell_type": "markdown",
      "source": [
        "`pyplot`-подход:"
      ],
      "metadata": {
        "id": "seG-3_JVrDAH"
      }
    },
    {
      "cell_type": "code",
      "metadata": {
        "id": "mHQm54M8hTie"
      },
      "source": [
        "plt.title(\"Линейная зависимость y = x\") # заголовок\n",
        "plt.xlabel(\"x\") # ось абсцисс\n",
        "plt.ylabel(\"y\") # ось ординат\n",
        "plt.grid()      # включение отображение сетки\n",
        "plt.plot(x, y, \"r--\")  # построение графика"
      ],
      "execution_count": null,
      "outputs": []
    },
    {
      "cell_type": "markdown",
      "source": [
        "ОО-подход:"
      ],
      "metadata": {
        "id": "WfpQPCjYrJb3"
      }
    },
    {
      "cell_type": "code",
      "source": [
        "fig, ax = plt.subplots()  # создаем фигуру, содержащую одну ось.\n",
        "\n",
        "ax.plot(x, y, linestyle=\"--\", color='red')  # построение графика\n",
        "ax.set_title(\"Линейная зависимость y = x\") # заголовок\n",
        "ax.set_xlabel(\"x\") # ось абсцисс\n",
        "ax.set_ylabel(\"y\") # ось ординат\n",
        "plt.grid()      # включение отображение сетки"
      ],
      "metadata": {
        "id": "o2voB-1TrI4P"
      },
      "execution_count": null,
      "outputs": []
    },
    {
      "cell_type": "markdown",
      "source": [
        "### Несколько графиков на одном поле"
      ],
      "metadata": {
        "id": "zHeSA_zMr-V2"
      }
    },
    {
      "cell_type": "markdown",
      "metadata": {
        "id": "XiiR9OHIhVFU"
      },
      "source": [
        "\n",
        "\n",
        "Построим несколько графиков на одном поле, для этого добавим квадратичную зависимость:"
      ]
    },
    {
      "cell_type": "code",
      "metadata": {
        "id": "7fDmq_fuhW0f"
      },
      "source": [
        "# Линейная зависимость\n",
        "x = np.linspace(0, 10, 50)\n",
        "y1 = x\n",
        "# Квадратичная зависимость\n",
        "y2 = [i**2 for i in x]\n",
        "\n",
        "# Построение графика\n",
        "plt.title(\"Зависимости: y1 = x, y2 = x^2\") # заголовок\n",
        "plt.xlabel(\"x\")         # ось абсцисс\n",
        "plt.ylabel(\"y1, y2\")    # ось ординат\n",
        "plt.grid()              # включение отображение сетки\n",
        "plt.plot(x, y1, x, y2)  # построение графика"
      ],
      "execution_count": null,
      "outputs": []
    },
    {
      "cell_type": "code",
      "source": [
        "fig, ax = plt.subplots(figsize=(5, 2.7), layout='constrained')\n",
        "ax.plot(x, x, label='linear')  # закидываем данные на график\n",
        "ax.plot(x, x**2, label='quadratic')  # больше данных на график!!!\n",
        "ax.set_xlabel('x label')\n",
        "ax.set_ylabel('y label')\n",
        "ax.set_title(\"Фантастический график! 10 из 10 по мнению Антона Логвинова!\")\n",
        "ax.grid()\n",
        "ax.legend();  # точка с запятой это не баг, а фитча, чтоб не отображать \n",
        "              # информацию последней функции"
      ],
      "metadata": {
        "id": "FfR1dnUVsc2e"
      },
      "execution_count": null,
      "outputs": []
    },
    {
      "cell_type": "markdown",
      "source": [
        "Зачем точка с запятой в питоне появилась? Узнать ответ [тут](https://stackoverflow.com/questions/51627233/why-is-there-a-semicolon-after-matplotlibs-plot-function)."
      ],
      "metadata": {
        "id": "wMiAxzfDtWup"
      }
    },
    {
      "cell_type": "markdown",
      "source": [
        "### Несколько разделенных полей с графиками"
      ],
      "metadata": {
        "id": "zfembWGiuSnW"
      }
    },
    {
      "cell_type": "markdown",
      "metadata": {
        "id": "jCg7UIflhcEV"
      },
      "source": [
        "\n",
        "Третья, довольно часто встречающаяся задача – это отобразить два или более различных поля, на которых будет отображено по одному или более графику.\n",
        "\n",
        "Самый простой способ представить графики в отдельных полях – это использовать функцию `supplot()` для задания их мест размещения. До этого момента мы не работали с Фигурой (`Figure`) напрямую, значения ее параметров, задаваемые по умолчанию, нас устраивали. Для решения текущей задачи придется один из параметров – размер подложки, задать вручную. За это отвечает аргумент `figsize` функции `figure()`, которому присваивается кортеж из двух `float` элементов, определяющих высоту и ширину подложки."
      ]
    },
    {
      "cell_type": "code",
      "metadata": {
        "id": "tt95KOj2Njjy"
      },
      "source": [
        "fig, axes = plt.subplots(nrows = 2, ncols =2 )\n",
        "\n",
        "axes[0,0].set(title='axes[0,0]')\n",
        "axes[0,1].set(title='axes[0,1]')\n",
        "axes[1,0].set(title='axes[1,0]')\n",
        "axes[1,1].set(title='axes[1,1]')\n",
        "\n",
        "for ax in axes.flat:\n",
        "    ax.set(xticks=[], yticks=[])\n",
        "    \n",
        "plt.show()"
      ],
      "execution_count": null,
      "outputs": []
    },
    {
      "cell_type": "code",
      "metadata": {
        "id": "ejIYTOt9hckS"
      },
      "source": [
        "# Линейная зависимость\n",
        "x = np.linspace(0, 10, 50)\n",
        "y1 = x\n",
        "\n",
        "# Квадратичная зависимость\n",
        "y2 = [i**2 for i in x]\n",
        "\n",
        "# Построение графиков\n",
        "#  figure(x,y)\n",
        "#    функция для задания глобальных параметров отображения графиков. В нее, в \n",
        "#    качестве аргумента, мы передаем кортеж, определяющий размер общего поля. \n",
        "#  plt.figure(figsize=(9, 9)) # контейнер верхнего уровня для всех элементов поля\n",
        "#\n",
        "#  subplot(nrows, ncols, index)\n",
        "#    * nrows: int\n",
        "#        Количество строк.\n",
        "#    * ncols: int\n",
        "#        Количество столбцов.\n",
        "#    * index: int\n",
        "#        Местоположение элемента.\n",
        "\n",
        "plt.subplot(2, 1, 1)\n",
        "\n",
        "plt.plot(x, y1)               # построение графика\n",
        "plt.title(\"Зависимости: y1 = x, y2 = x^2\") # заголовок\n",
        "plt.ylabel(\"y1\", fontsize=14) # ось ординат\n",
        "plt.grid()                    # включение отображение сетки\n",
        "\n",
        "plt.subplot(2, 1, 2)\n",
        "plt.plot(x, y2)               # построение графика\n",
        "plt.xlabel(\"x\", fontsize=14)  # ось абсцисс\n",
        "plt.ylabel(\"y2\", fontsize=14) # ось ординат\n",
        "plt.grid()                    # включение отображение сетки"
      ],
      "execution_count": null,
      "outputs": []
    },
    {
      "cell_type": "code",
      "source": [
        "fig, axs = plt.subplots(2, 1, figsize=(5, 5), layout='constrained')\n",
        "\n",
        "axs[0].plot(x, y1)\n",
        "axs[0].grid()\n",
        "axs[0].set_ylabel(\"y1\", fontsize=14)\n",
        "axs[0].set_title(\"Зависимости: y1 = x, y2 = x^2\")\n",
        "\n",
        "axs[1].plot(x, y2)\n",
        "axs[1].grid()\n",
        "axs[1].set_ylabel(\"y2\", fontsize=14)\n",
        "axs[1].set_xlabel(\"x\", fontsize=14);"
      ],
      "metadata": {
        "id": "KPhbSU2cu03O"
      },
      "execution_count": null,
      "outputs": []
    },
    {
      "cell_type": "markdown",
      "source": [
        "### Построение диаграммы для категориальных данных"
      ],
      "metadata": {
        "id": "7Sflh5rJxBwD"
      }
    },
    {
      "cell_type": "markdown",
      "metadata": {
        "id": "b_ksy7_RheSl"
      },
      "source": [
        "\n",
        "До этого мы строили графики по численным данным, т.е. зависимая и независимая переменные имели числовой тип. На практике довольно часто приходится работать с данными нечисловой природы – имена людей, название фруктов, и т.п.\n",
        "\n",
        "Смотри подробнее про сетку графика [здесь](https://pyprog.pro/mpl/mpl_adding_a_grid.html)."
      ]
    },
    {
      "cell_type": "code",
      "metadata": {
        "id": "5ysjXRR5hjIp"
      },
      "source": [
        "from collections import Counter, OrderedDict\n",
        "\n",
        "poem = \"\"\"I was run over by the truth one day.\n",
        "Ever since the accident I've walked this way\n",
        "So stick my legs in plaster\n",
        "Tell me lies about Vietnam.\"\"\"\n",
        "\n",
        "# Считает частоту каждого символа\n",
        "frequency_analysis = OrderedDict(Counter(poem))\n",
        "\n",
        "x, y = frequency_analysis.keys(), frequency_analysis.values()\n",
        "\n",
        "fig = plt.figure(figsize=(15, 3)) # контейнер верхнего уровня для всех элементов поля\n",
        "\n",
        "ax = fig.add_subplot(1, 1, 1)\n",
        "ax.set_title(\"Частотный анализ стихотворения!\")\n",
        "ax.set_xlabel(\"Символ\", fontsize=14)\n",
        "ax.set_ylabel(\"Количество\", fontsize=14)\n",
        "ax.grid(axis = 'y')              # включение отображение сетки по оси Y\n",
        "ax.bar(x, y)\n",
        "\n",
        "plt.show() # это необязательно. См. ниже почему"
      ],
      "execution_count": null,
      "outputs": []
    },
    {
      "cell_type": "markdown",
      "source": [
        "С помощью `%matplotlib inline` выходные данные команд печати отображаются встроенно в интерфейсы, такие как блокнот Jupyter, непосредственно под ячейкой кода, которая его создала. Полученные графики также будут сохранены в блокноте. Подробнее [тут](https://stackoverflow.com/questions/43027980/purpose-of-matplotlib-inline)."
      ],
      "metadata": {
        "id": "pzmd2Vstx35p"
      }
    },
    {
      "cell_type": "markdown",
      "source": [
        "## [Коротко о NumPy](https://habr.com/ru/post/352678/)"
      ],
      "metadata": {
        "id": "ZmMEvO9vyPsS"
      }
    },
    {
      "cell_type": "markdown",
      "source": [
        "**NumPy** это open-source модуль для python, который предоставляет общие математические и числовые операции в виде пре-скомпилированных, быстрых функций. Они объединяются в высокоуровневые пакеты. Они обеспечивают функционал, который можно сравнить с функционалом MatLab. \n",
        "\n",
        "* `NumPy` (Numeric Python) предоставляет базовые методы для манипуляции с большими массивами и матрицами. \n",
        "* `SciPy` (Scientific Python) расширяет функционал numpy огромной коллекцией полезных алгоритмов, таких как минимизация, преобразование Фурье, регрессия, и другие прикладные математические техники."
      ],
      "metadata": {
        "id": "j4bVCFUWyUzn"
      }
    },
    {
      "cell_type": "markdown",
      "source": [
        "### Массивы"
      ],
      "metadata": {
        "id": "FrNki4XkyWad"
      }
    },
    {
      "cell_type": "markdown",
      "metadata": {
        "id": "FbucN6oZhoUE"
      },
      "source": [
        "\n",
        "\n",
        "Главной особенностью numpy является объект `array`. Массивы схожи со списками в python, исключая тот факт, что элементы массива должны иметь одинаковый тип данных, как `float` и `int`. С массивами можно проводить числовые операции с большим объемом информации в разы быстрее и, главное, намного эффективнее чем со списками.\n",
        "\n",
        "Создание массива из списка:"
      ]
    },
    {
      "cell_type": "code",
      "metadata": {
        "id": "v319_SQBhrOn"
      },
      "source": [
        "import numpy as np\n",
        "a = np.array([1, 4, 5, 8], float)\n",
        "print(a)\n",
        "print(type(a))"
      ],
      "execution_count": null,
      "outputs": []
    },
    {
      "cell_type": "markdown",
      "metadata": {
        "id": "uawWcHGOhuDA"
      },
      "source": [
        "Ко всем элементам можно получить доступ и манипулировать ими также, как вы бы это делали с обычными списками:"
      ]
    },
    {
      "cell_type": "code",
      "metadata": {
        "id": "ZJw5wueIhvVU"
      },
      "source": [
        "print(a[:2])\n",
        "print(a[3])\n",
        "a[0] = 5.\n",
        "print(a[0])\n",
        "print(len(a))"
      ],
      "execution_count": null,
      "outputs": []
    },
    {
      "cell_type": "markdown",
      "source": [
        "## Исследование основных характеристик датасета"
      ],
      "metadata": {
        "id": "zmMtMZ7ayjF6"
      }
    },
    {
      "cell_type": "markdown",
      "metadata": {
        "id": "vqtPSWdIERHX"
      },
      "source": [
        "\n",
        "### Загрузка git-репозитория в текущее окружение"
      ]
    },
    {
      "cell_type": "code",
      "metadata": {
        "id": "xsN5bVDDDJnm"
      },
      "source": [
        "%cd /content/\n",
        "!mkdir gitrepos\n",
        "%cd /content/gitrepos/\n",
        "!git clone https://github.com/anondigriz/inginirium-course-ai"
      ],
      "execution_count": null,
      "outputs": []
    },
    {
      "cell_type": "code",
      "metadata": {
        "id": "nbFIKj4ZDME9"
      },
      "source": [
        "!ls '/content/gitrepos/inginirium-course-ai/src/03-02-2022' -l"
      ],
      "execution_count": null,
      "outputs": []
    },
    {
      "cell_type": "markdown",
      "source": [
        "### Текстовое описание выбранного набора данных"
      ],
      "metadata": {
        "id": "fIHVTw5YyosP"
      }
    },
    {
      "cell_type": "markdown",
      "metadata": {
        "id": "9hMk87U2telV"
      },
      "source": [
        "\n",
        "\n",
        "В качестве набора данных мы будем использовать набор данных качества [красного вина](https://www.kaggle.com/uciml/red-wine-quality-cortez-et-al-2009). Данный датасет содержит следующие характеристики:\n",
        "\n",
        "| Column | Description |\n",
        "|---|---|\n",
        "| fixed acidity |  фиксированная кислотность |\n",
        "| volatile acidity |  изменяемые значения кислотности |\n",
        "| citric acid | лимонная кислота |\n",
        "| residual sugar | остаточный сахар |\n",
        "| chlorides | хлориды |\n",
        "| free sulfur dioxide | свободный диоксид серы |\n",
        "| total sulfur dioxide | общий диоксид серы |\n",
        "| density | плотность | \n",
        "| pH | водородный показатель |\n",
        "| sulphates | содержание сульфатов |\n",
        "| alcohol | содержание алкоголя |\n",
        "| quality | оценка вина по десятибалльной шкале |"
      ]
    },
    {
      "cell_type": "markdown",
      "source": [
        "### Загрузка датасета"
      ],
      "metadata": {
        "id": "p97NDW5oysyY"
      }
    },
    {
      "cell_type": "markdown",
      "metadata": {
        "id": "Gk2mFN_yzcy7"
      },
      "source": [
        "Загрузим файлы датасета в помощью библиотеки [`Pandas`](https://pandas.pydata.org/). Данный пакет делает Python мощным инструментом для анализа данных. Пакет дает возможность строить сводные таблицы, выполнять группировки, предоставляет удобный доступ к табличным данным, а при наличии пакета `matplotlib` дает возможность рисовать графики на полученных наборах данных.\n",
        "\n",
        "Также мы будем использовать для построения графиков пакет `Seaborn`. [`Seaborn`](https://seaborn.pydata.org/index.html) — это по сути более высокоуровневое API на базе библиотеки `matplotlib`. `Seaborn` содержит более адекватные дефолтные настройки оформления графиков. Также в библиотеке есть достаточно сложные типы визуализации, которые в `matplotlib` потребовали бы большого количество кода."
      ]
    },
    {
      "cell_type": "code",
      "metadata": {
        "id": "0y16E6BoDN1i"
      },
      "source": [
        "# Если запуск блокнота не в Google Colab, то указать здесь папку, в которой располагается загруженный датасет\n",
        "CURENT_DIR = '/content/gitrepos/inginirium-course-ai/src/03-02-2022'"
      ],
      "execution_count": null,
      "outputs": []
    },
    {
      "cell_type": "code",
      "metadata": {
        "id": "tT5m5vFxzukO"
      },
      "source": [
        "import pandas as pd\n",
        "import seaborn as sns\n",
        "\n",
        "# Есть пять предустановленная тем Seaborn: darkgrid, whitegrid, dark, white, \n",
        "# и ticks. Каждый из них подходит для различных приложений и личных предпочтений.\n",
        "sns.set(style=\"ticks\")\n",
        "\n",
        "# загрузка данных из csv\n",
        "data = pd.read_csv(CURENT_DIR+'/winequality-red.csv', sep=',')\n",
        "\n",
        "# изучение типа объекта, создаваемого функцией pd.read_csv\n",
        "print(type(data))\n",
        "\n",
        "# вывод первых 5 строк из датасета\n",
        "data.head()"
      ],
      "execution_count": null,
      "outputs": []
    },
    {
      "cell_type": "markdown",
      "metadata": {
        "id": "Sjt9FlC336Pv"
      },
      "source": [
        "### Исследование внешних признаков датасета"
      ]
    },
    {
      "cell_type": "markdown",
      "metadata": {
        "id": "z2OPphBS20aq"
      },
      "source": [
        "[`pandas.DataFrame.shape`](https://pandas.pydata.org/pandas-docs/stable/reference/api/pandas.DataFrame.shape.html) - вернуть кортеж размерности `DataFrame`."
      ]
    },
    {
      "cell_type": "code",
      "metadata": {
        "id": "z1yh-Mp9203m"
      },
      "source": [
        "print(data.shape)\n",
        "print(f'Всего строк: {data.shape[0]}')\n",
        "print(f'Всего колонок: {data.shape[1]}')"
      ],
      "execution_count": null,
      "outputs": []
    },
    {
      "cell_type": "markdown",
      "metadata": {
        "id": "KaGQm9B93RTj"
      },
      "source": [
        "[`pandas.DataFrame.columns`](https://pandas.pydata.org/pandas-docs/stable/reference/api/pandas.DataFrame.columns.html#pandas.DataFrame.columns) - вернуть названия столбцов фрейма данных."
      ]
    },
    {
      "cell_type": "code",
      "metadata": {
        "id": "jcJS4rJX3eif"
      },
      "source": [
        "data.columns"
      ],
      "execution_count": null,
      "outputs": []
    },
    {
      "cell_type": "markdown",
      "metadata": {
        "id": "ylrbJAB63j-u"
      },
      "source": [
        "[`pandas.DataFrame.dtypes`](https://pandas.pydata.org/pandas-docs/stable/reference/api/pandas.DataFrame.dtypes.html#pandas.DataFrame.dtypes) - вернуть типы данных, содержащихся в колонках."
      ]
    },
    {
      "cell_type": "code",
      "metadata": {
        "id": "ZWu0D5qM3uyb"
      },
      "source": [
        "data.dtypes"
      ],
      "execution_count": null,
      "outputs": []
    },
    {
      "cell_type": "markdown",
      "metadata": {
        "id": "-hg9RFGo42cK"
      },
      "source": [
        "[`Series`](https://devpractice.ru/pandas-series-and-dataframe-part2/) – это маркированная одномерная структура данных, ее можно представить, как таблицу с одной строкой. С `Series` можно работать как с обычным массивом (обращаться по номеру индекса), и как с ассоциированным массивом, когда можно использовать ключ для доступа к элементам данных. [`DataFrame`](https://devpractice.ru/pandas-series-and-dataframe-part2/) – это двумерная маркированная структура. Идейно она очень похожа на обычную таблицу, что выражается в способе ее создания и работе с ее элементами.\n",
        "\n",
        "Обратиться к колонке можно по индексу:"
      ]
    },
    {
      "cell_type": "code",
      "metadata": {
        "id": "j0M6_Vsb8iGd"
      },
      "source": [
        "print(type(data['fixed acidity']))\n",
        "data['fixed acidity'][:5]"
      ],
      "execution_count": null,
      "outputs": []
    },
    {
      "cell_type": "markdown",
      "metadata": {
        "id": "zo6BddUY9R84"
      },
      "source": [
        "Функция `isnull()` вернет `Series` с булевыми значениями:"
      ]
    },
    {
      "cell_type": "code",
      "metadata": {
        "id": "QbyI7agE9RNs"
      },
      "source": [
        "print(type(data['fixed acidity'].isnull()))\n",
        "data['fixed acidity'].isnull()[:5]"
      ],
      "execution_count": null,
      "outputs": []
    },
    {
      "cell_type": "markdown",
      "metadata": {
        "id": "TBMwNZz8_tJW"
      },
      "source": [
        "Также можно проверить данные по каким-то условиям:"
      ]
    },
    {
      "cell_type": "code",
      "metadata": {
        "id": "kI0oWMOG_vnX"
      },
      "source": [
        "print(type(data['chlorides'] >= 0.098))\n",
        "(data['chlorides'] >= 0.098)[:5]"
      ],
      "execution_count": null,
      "outputs": []
    },
    {
      "cell_type": "markdown",
      "metadata": {
        "id": "1vN9ZIqAAQhq"
      },
      "source": [
        "С помощью получившегося булевого `Series` можно обратиться к `DataFrame` и вывести строки, у которых проверка колонок дала значение `True`. Такой подход назыывается [обращение через логическое выражение](https://devpractice.ru/pandas-indexing-part3/). Продемонстрируем это на примере. \n",
        "\n",
        "Проверим наличие пустых значений в датасете. Для этого сделаем перебор по всем столбцам датасета:"
      ]
    },
    {
      "cell_type": "code",
      "metadata": {
        "id": "K6AQGPvX4pF7"
      },
      "source": [
        "for col in data.columns:\n",
        "    print('{} - {}'.format(col, data[data[col].isnull()].shape[0]))"
      ],
      "execution_count": null,
      "outputs": []
    },
    {
      "cell_type": "markdown",
      "metadata": {
        "id": "lpKh7i4pBVyh"
      },
      "source": [
        "[Кванти́ль](https://ru.wikipedia.org/wiki/%D0%9A%D0%B2%D0%B0%D0%BD%D1%82%D0%B8%D0%BB%D1%8C) — значение, которое заданная случайная величина не превышает с фиксированной вероятностью. Если вероятность задана в процентах, то квантиль называется процентилем или перцентилем.\n",
        "\n",
        "Основные характеристики датасета можно получить с помощью функции [`pandas.DataFrame.describe`](https://pandas.pydata.org/pandas-docs/stable/reference/api/pandas.DataFrame.describe.html).\n",
        "\n",
        "Например, фраза \"90-й процентиль массы тела у новорожденных мальчиков составляет 4 кг\" означает, что 90 % мальчиков рождаются с весом меньше, либо равным 4 кг, а 10 % мальчиков рождаются с весом больше 4 кг.\n",
        "\n",
        "В итоге получаем следующие стоки:\n",
        "\n",
        "* `count` - количество non-NA/null наблюдений.\n",
        "* `mean` - средняя значений в колонке.\n",
        "* `min` - минимальное значение в колонке.\n",
        "* `25%` - 25-й перцентиль (0,25-квантиль называется первым (или нижним) кварти́лем (от лат. quarta — четверть)).\n",
        "* `50%` - 50-й перцентиль (0,5-квантиль называется медианой (от лат. mediāna — середина) или вторым кварти́лем).\n",
        "* `75%` - 75-й перцентиль (0,75-квантиль называется третьим (или верхним) кварти́лем).\n",
        "* `max` - максимальное значение в колонке."
      ]
    },
    {
      "cell_type": "code",
      "metadata": {
        "id": "Xcd6cO9UBYDQ"
      },
      "source": [
        "data.describe()"
      ],
      "execution_count": null,
      "outputs": []
    },
    {
      "cell_type": "markdown",
      "metadata": {
        "id": "RnEuUh4sEaQZ"
      },
      "source": [
        "Уникальные значения из объекта `Series` можно получить с помощью функции `unique()`.\n",
        "\n",
        "Определим уникальные значения для колонки `'quality'`:"
      ]
    },
    {
      "cell_type": "code",
      "metadata": {
        "id": "v6HQ3jcpEYrE"
      },
      "source": [
        "print(data['quality'].unique())\n",
        "print(len(data['quality'].unique()))"
      ],
      "execution_count": null,
      "outputs": []
    },
    {
      "cell_type": "markdown",
      "source": [
        "## Визуальное исследование датасета"
      ],
      "metadata": {
        "id": "tPzITBQjz5A8"
      }
    },
    {
      "cell_type": "markdown",
      "source": [
        "### Диаграмма рассеяния"
      ],
      "metadata": {
        "id": "k7styK2gz7Gw"
      }
    },
    {
      "cell_type": "markdown",
      "metadata": {
        "id": "29j_R9RLE6K1"
      },
      "source": [
        "\n",
        "\n",
        "Позволяет построить распределение двух колонок данных и визуально обнаружить наличие зависимости. Не предполагается, что значения упорядочены (например, по времени).\n",
        "\n",
        "[`seaborn.scatterplot`](https://seaborn.pydata.org/generated/seaborn.scatterplot.html) - рисует точечную диаграмму с возможностью нескольких семантических группировок."
      ]
    },
    {
      "cell_type": "code",
      "metadata": {
        "id": "ymbvuBeUF3KQ"
      },
      "source": [
        "fig, ax = plt.subplots(figsize=(10,10))\n",
        "\n",
        "#  scatterplot(ax=None, x=None, y=None, data=None, hue=None)\n",
        "#    * ax : matplotlib Axes, optional\n",
        "#        Объект Axes для рисования графика, в противном случае используются текущие \n",
        "#        оси.\n",
        "#    * x, y : names of variables in data or vector data, optional\n",
        "#        Входные переменные данных; должны быть числовыми. Может передавать данные\n",
        "#        напрямую или ссылаться на столбцы в данных. В нашем случае мы передаем \n",
        "#        названия колонок в data\n",
        "#    * data : DataFrame\n",
        "#        Фрейм данных, где каждый столбец является переменной, а каждая \n",
        "#        строка-наблюдением.\n",
        "#    * hue : name of variables in data or vector data, optional\n",
        "#        Группирующая переменная, которая будет создавать точки с разными цветами. \n",
        "#        Может быть как категориальным, так и числовым, хотя в последнем случае \n",
        "#        цветовое отображение будет вести себя по-разному.\n",
        "#       P.S.: hue [hjuː] сущ - оттенок\n",
        "\n",
        "sns.scatterplot(ax=ax, x='density', y='alcohol', data=data)"
      ],
      "execution_count": null,
      "outputs": []
    },
    {
      "cell_type": "markdown",
      "metadata": {
        "id": "mFKpmtbVF954"
      },
      "source": [
        "Можно видеть, что между полями `density` и `alcohol` не наблюдается зависимости.\n",
        "Посмотрим как влияет целевой признак на данное отношение."
      ]
    },
    {
      "cell_type": "code",
      "metadata": {
        "id": "oG9pBAsaF-o6"
      },
      "source": [
        "fig, ax = plt.subplots(figsize=(10,10)) \n",
        "sns.scatterplot(ax=ax, x='density', y='alcohol', data=data, hue='quality')"
      ],
      "execution_count": null,
      "outputs": []
    },
    {
      "cell_type": "markdown",
      "source": [
        "### Гистограмма"
      ],
      "metadata": {
        "id": "htSFM-r70J-b"
      }
    },
    {
      "cell_type": "markdown",
      "metadata": {
        "id": "Hw54k3JyQK2B"
      },
      "source": [
        "\n",
        "Позволяет оценить плотность вероятности распределения данных.\n",
        "\n",
        "**Гистограмма плотности распределения** — это столбиковая диаграмма, которая показывает, как данные распределяются по группам значений. Собранные данные представляют в виде ряда прямоугольников, одинаковых по ширине и различающихся по высоте. Анализ характера изменения высот позволяет оценить динамику процесса.\n",
        "\n",
        "Ось Y показывает с какой вероятностью случайно выбранное значение из временного ряда будет принадлежать определенному интервалу.\n",
        "\n",
        "[`seaborn.distplot`](https://seaborn.pydata.org/generated/seaborn.distplot.html) строит гистограмму плотности распределения."
      ]
    },
    {
      "cell_type": "code",
      "metadata": {
        "id": "6kXG3OTMSH_x"
      },
      "source": [
        "fig, ax = plt.subplots(figsize=(10,10)) \n",
        "\n",
        "\"\"\" \n",
        "distplot(a)\n",
        "  * a : Series, 1d-array, or list.\n",
        "      Наблюдаемые данные. \n",
        "\"\"\"\n",
        "\n",
        "sns.histplot(data['alcohol'])"
      ],
      "execution_count": null,
      "outputs": []
    },
    {
      "cell_type": "markdown",
      "source": [
        "### Jointplot"
      ],
      "metadata": {
        "id": "KMvc1b_I0vID"
      }
    },
    {
      "cell_type": "markdown",
      "metadata": {
        "id": "OZEkUuVyVsWv"
      },
      "source": [
        "\n",
        "\n",
        "Комбинация гистограмм и диаграмм рассеивания. Для построения используется [`seaborn.jointplot`](https://seaborn.pydata.org/generated/seaborn.jointplot.html)."
      ]
    },
    {
      "cell_type": "code",
      "metadata": {
        "id": "DJEJwL3bVwQV"
      },
      "source": [
        "#  jointplot(x=None, y=None, data=None, kind='scatter')\n",
        "#    * x, y : names of variables in data or vector data, optional\n",
        "#        Входные переменные данных; должны быть числовыми. Может передавать данные\n",
        "#        напрямую или ссылаться на столбцы в данных. В нашем случае мы передаем \n",
        "#        названия колонок в data\n",
        "#    * data : DataFrame\n",
        "#        Фрейм данных, где каждый столбец является переменной, а каждая \n",
        "#        строка-наблюдением.\n",
        "#    * kind : { “scatter” | “reg” | “resid” | “kde” | “hex” }, optional\n",
        "#        Тип отрисовки графиков\n",
        "\n",
        "sns.jointplot(x='alcohol', y='quality', data=data) "
      ],
      "execution_count": null,
      "outputs": []
    },
    {
      "cell_type": "code",
      "metadata": {
        "id": "SWzruxu-WFMe"
      },
      "source": [
        "sns.jointplot(x='alcohol', y='quality', data=data, kind=\"hex\") "
      ],
      "execution_count": null,
      "outputs": []
    },
    {
      "cell_type": "code",
      "metadata": {
        "id": "Si7ICFSwWetT"
      },
      "source": [
        "sns.jointplot(x='alcohol', y='quality', data=data, kind=\"kde\") "
      ],
      "execution_count": null,
      "outputs": []
    },
    {
      "cell_type": "markdown",
      "source": [
        "### Парные диаграммы"
      ],
      "metadata": {
        "id": "xgHvCQAm0-UE"
      }
    },
    {
      "cell_type": "markdown",
      "metadata": {
        "id": "e7Mh96yEWk7i"
      },
      "source": [
        "\n",
        "Комбинация гистограмм и диаграмм рассеивания для всего набора данных.\n",
        "\n",
        "Выводится матрица графиков. На пересечении строки и столбца, которые соответстуют двум показателям, строится диаграмма рассеивания. В главной диагонали матрицы строятся гистограммы распределения соответствующих показателей.\n",
        "\n",
        "Для построения парной диаграммы используется [`seaborn.jointplot`](https://seaborn.pydata.org/generated/seaborn.pairplot.html)."
      ]
    },
    {
      "cell_type": "code",
      "metadata": {
        "id": "opHDMlyvWwFl"
      },
      "source": [
        "#  pairplot(data=None)\n",
        "#    * data : DataFrame\n",
        "#        Фрейм данных, где каждый столбец является переменной, а каждая \n",
        "#        строка-наблюдением.\n",
        "\n",
        "sns.pairplot(data) "
      ],
      "execution_count": null,
      "outputs": []
    },
    {
      "cell_type": "markdown",
      "source": [
        "### Ящик с усами"
      ],
      "metadata": {
        "id": "fSkAbR4o1R-x"
      }
    },
    {
      "cell_type": "markdown",
      "metadata": {
        "id": "djoK9Ef1Xqqr"
      },
      "source": [
        "\n",
        "\n",
        "Отображает одномерное распределение вероятности. Для построения используется [`seaborn.boxplot`](https://seaborn.pydata.org/generated/seaborn.boxplot.html)."
      ]
    },
    {
      "cell_type": "code",
      "metadata": {
        "id": "EWXNhkOGXvrf"
      },
      "source": [
        "#  boxplot(x=None, y=None, data=None)\n",
        "#    * x, y : names of variables in data or vector data, optional\n",
        "#        Входные данные для построения длинных форм данных. \n",
        "#    * data : DataFrame, array, or list of arrays, optional\n",
        "#        Набор данных для построения графика. Если x и y отсутствуют, это \n",
        "#        интерпретируется как \"широкая форма\". В противном случае ожидается,\n",
        "#        что он будет иметь \"длинную форму\".\n",
        "\n",
        "sns.boxplot(x=data['alcohol']) "
      ],
      "execution_count": null,
      "outputs": []
    },
    {
      "cell_type": "code",
      "metadata": {
        "id": "ZtUjtmFaarzC"
      },
      "source": [
        "sns.boxplot(y=data['alcohol']) "
      ],
      "execution_count": null,
      "outputs": []
    },
    {
      "cell_type": "code",
      "metadata": {
        "id": "NRIJxwamas5E"
      },
      "source": [
        "# Распределение параметра alcohol сгруппированные по quality.\n",
        "sns.boxplot(x='quality', y='alcohol', data=data)"
      ],
      "execution_count": null,
      "outputs": []
    },
    {
      "cell_type": "markdown",
      "source": [
        "### Скрипичная диаграмма (Violin plot)"
      ],
      "metadata": {
        "id": "TtqtIQUx1f_x"
      }
    },
    {
      "cell_type": "markdown",
      "metadata": {
        "id": "P0PJ_RS3ayEc"
      },
      "source": [
        "\n",
        "\n",
        "Ядерная оценка плотности является задачей сглаживания данных, когда делается заключение о совокупности, основываясь на конечных выборках данных. Для построения используется [`seaborn.boxplot`](https://seaborn.pydata.org/generated/seaborn.violinplot.html)."
      ]
    },
    {
      "cell_type": "code",
      "metadata": {
        "id": "JGtmYICHbTjb"
      },
      "source": [
        "\"\"\" \n",
        "violinplot(x=None, y=None)\n",
        "  * x, y : names of variables in data or vector data, optional\n",
        "      Входные данные для построения \"длинных форм\" данных.\n",
        "\"\"\" \n",
        "\n",
        "sns.violinplot(x=data['alcohol']) "
      ],
      "execution_count": null,
      "outputs": []
    },
    {
      "cell_type": "code",
      "metadata": {
        "id": "ilNRk3P4bmsT"
      },
      "source": [
        "fig, ax = plt.subplots(2, 1, figsize=(10,10))\n",
        "sns.violinplot(ax=ax[0], x=data['alcohol'])\n",
        "sns.histplot(data['alcohol'], ax=ax[1])"
      ],
      "execution_count": null,
      "outputs": []
    },
    {
      "cell_type": "markdown",
      "metadata": {
        "id": "TRJkdKLjbto4"
      },
      "source": [
        "Из приведенных выше графиков видно, что `violinplot` действительно показывает распределение плотности."
      ]
    },
    {
      "cell_type": "code",
      "metadata": {
        "id": "QOR8PivlbzJN"
      },
      "source": [
        "sns.violinplot(x='quality', y='alcohol', data=data) "
      ],
      "execution_count": null,
      "outputs": []
    },
    {
      "cell_type": "markdown",
      "source": [
        "### Информация о корреляции признаков"
      ],
      "metadata": {
        "id": "khzz6mna1uqU"
      }
    },
    {
      "cell_type": "markdown",
      "source": [
        "[**Корреляция**](https://ru.strephonsays.com/correlation-and-vs-covariance-6932) - это мера силы связи между двумя переменными. **Коэффициент корреляции** определяет степень изменения одной переменной на основе изменения другой переменной. В статистике корреляция связана с концепцией зависимости, которая представляет собой статистическую связь между двумя переменными.\n",
        "\n",
        "В статистической теории **ковариация** - это мера того, насколько две случайные величины изменяются вместе. Другими словами, ковариация - это мера силы корреляции между двумя случайными величинами.\n",
        "\n",
        "См. разницу между ковариация и корреляция [тут](https://wikimatik.ru/article/28) или [тут](https://voxt.ru/kovariacziya-protiv-korrelyaczii/)."
      ],
      "metadata": {
        "id": "EU6mu81b19GN"
      }
    },
    {
      "cell_type": "markdown",
      "metadata": {
        "id": "Cy15nZlFb5zC"
      },
      "source": [
        "\n",
        "**Корреляция** (от латинского «correlatio» – соотношение, взаимосвязь) – математический термин, который означает меру статистической вероятностной зависимости между случайными величинами (переменными).\n",
        "\n",
        "\n",
        "\n",
        "[Коэффициент корреляции](https://ktonanovenkogo.ru/voprosy-i-otvety/korrelyaciya-chto-ehto-takoe-prostymi-slovami.html) –  это число, которое обозначается как «r». Оно находится в промежутке от `-1` до `1`. Отражает силу и полюс взаимосвязи величин. Посмотрим на примере:\n",
        "\n",
        "| Значение коэффициента\t| Какая корреляция? | О чем это говорит? |\n",
        "| --- | --- | --- |\n",
        "| `r=1` |\tСильная положительная корреляция |\tЛюди, которые едят чернику, обладают острым зрением. Ешьте чернику! |\n",
        "| `r<0,5` | Слабая положительная корреляция\t| Некоторые люди, которые любят чернику, обладают острым зрением. <br/> Но это не точно. Короче, ничего не пока понятно. Но лучше есть чернику на всякий случай. |\n",
        "| `r=0` | Корреляция отсутствует | Черника и зрение никак не связаны. |\n",
        "| `r<-0,5` | Слабая отрицательная корреляция | Бывают случаи ухудшения зрения из-за черники. Не стоит рисковать. |\n",
        "| `r=-1` | Сильная отрицательная корреляция | Практически все, кто ел чернику, ослепли. Берегитесь черники! |"
      ]
    },
    {
      "cell_type": "markdown",
      "source": [
        "Для изучения корреляции воспользуемся функцией Pandas [`DataFrame.corr`](https://pandas.pydata.org/pandas-docs/stable/reference/api/pandas.DataFrame.corr.html)."
      ],
      "metadata": {
        "id": "aGrWDL912V6z"
      }
    },
    {
      "cell_type": "code",
      "metadata": {
        "id": "fENqS9NSeVT-"
      },
      "source": [
        "data.corr() "
      ],
      "execution_count": null,
      "outputs": []
    },
    {
      "cell_type": "markdown",
      "metadata": {
        "id": "ibdsAPOQefQ0"
      },
      "source": [
        "В таком виде тяжело понять какие параметры датасета коррелируют. Поэтому воспользуемся тепловой картой [`seaborn.heatmap`](https://seaborn.pydata.org/generated/seaborn.heatmap.html)."
      ]
    },
    {
      "cell_type": "code",
      "metadata": {
        "id": "2lFenUAnef6S"
      },
      "source": [
        "#  heatmap(data, annot=None, fmt='.2g', ax=None)\n",
        "#    * data : rectangular dataset\n",
        "#        2D набор данных, который может быть принудительно преобразован в ndarray. \n",
        "#        Если предоставляется фрейм данных Pandas, информация об индексе / столбце \n",
        "#        будет использоваться для обозначения столбцов и строк.\n",
        "#    * annot : bool or rectangular dataset, optional\n",
        "#        Если True, отобразится значение данных в каждой ячейке.\n",
        "#    * fmt : string, optional\n",
        "#        Шаблон форматирования строк, используемый при добавлении аннотаций.\n",
        "#    * ax : matplotlib Axes, optional\n",
        "#        Оси, по которым рисуется график, в противном случае используйте активные\n",
        "#        в данный момент оси.\n",
        "\n",
        "sns.heatmap(data.corr()) "
      ],
      "execution_count": null,
      "outputs": []
    },
    {
      "cell_type": "code",
      "metadata": {
        "id": "QhWaBRY5fK0g"
      },
      "source": [
        "# Вывод значений в ячейках\n",
        "fig, ax = plt.subplots(figsize=(10,10)) \n",
        "sns.heatmap(data.corr(), annot=True, fmt='.3f', ax=ax) "
      ],
      "execution_count": null,
      "outputs": []
    },
    {
      "cell_type": "markdown",
      "metadata": {
        "id": "ZmbUM7BegDGu"
      },
      "source": [
        "Отобразим только сильные корреляции (|r|>0.5):"
      ]
    },
    {
      "cell_type": "code",
      "metadata": {
        "id": "IM7FSBVhgBGJ"
      },
      "source": [
        "corr = data.corr()\n",
        "m = (corr.mask(np.eye(len(corr), dtype=bool)).abs() > 0.5).any()\n",
        "raw = corr.loc[m, m]\n",
        "raw"
      ],
      "execution_count": null,
      "outputs": []
    },
    {
      "cell_type": "code",
      "metadata": {
        "id": "TX5YkvSjglnf"
      },
      "source": [
        "# Треугольный вариант матрицы\n",
        "mask = np.zeros_like(raw, dtype=np.bool)\n",
        "# чтобы оставить нижнюю часть матрицы :\n",
        "# mask[np.triu_indices_from(mask)] = True\n",
        "# чтобы оставить верхнюю часть матрицы :\n",
        "mask[np.tril_indices_from(mask)] = True\n",
        "sns.heatmap(raw, mask=mask, annot=True, fmt='.3f')"
      ],
      "execution_count": null,
      "outputs": []
    },
    {
      "cell_type": "markdown",
      "source": [
        "## Самостоятельная работа"
      ],
      "metadata": {
        "id": "vQe6cnmO3Gux"
      }
    },
    {
      "cell_type": "markdown",
      "source": [
        "В данном блокноте вы познакомились с различными методами визуализация данных. В конце практического занятия вам предлогается создать блокнот, в котором вы самостоятельно попробуете построить несколько графиков, которые предоставляются билиотекой matplotlib.\n",
        "\n",
        "Выбрать график и ознакомиться с тем, как его построить, можно по [ссылке](https://matplotlib.org/stable/gallery/index.html)."
      ],
      "metadata": {
        "id": "lWmeX2IE3Nu7"
      }
    },
    {
      "cell_type": "markdown",
      "source": [
        "На следующем занятии вам предстоит:\n",
        "\n",
        "* Выбрать набор данных (датасет).\n",
        "* Создать ноутбук, который содержит следующие разделы:\n",
        "  * Текстовое описание выбранного Вами набора данных.\n",
        "    * Основные характеристики датасета.\n",
        "    * Визуальное исследование датасета.\n",
        "    * Информация о корреляции признаков."
      ],
      "metadata": {
        "id": "cB7mcCTZ3m4V"
      }
    }
  ]
}