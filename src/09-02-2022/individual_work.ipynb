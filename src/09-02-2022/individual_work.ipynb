{
  "nbformat": 4,
  "nbformat_minor": 0,
  "metadata": {
    "colab": {
      "name": "individual_work.ipynb",
      "provenance": [],
      "collapsed_sections": [],
      "authorship_tag": "ABX9TyNZK9dnrIM/p0K6dvrhRfMj"
    },
    "kernelspec": {
      "name": "python3",
      "display_name": "Python 3"
    },
    "language_info": {
      "name": "python"
    }
  },
  "cells": [
    {
      "cell_type": "markdown",
      "source": [
        "# Библиотеки Numpy, Pandas и другие"
      ],
      "metadata": {
        "id": "BOVIm9Ju_vG0"
      }
    },
    {
      "cell_type": "markdown",
      "source": [
        "План:\n",
        "\n",
        "* Numpy\n",
        "* SciPy\n",
        "* PandaSQL"
      ],
      "metadata": {
        "id": "OssmfpeD_zEH"
      }
    },
    {
      "cell_type": "markdown",
      "source": [
        "## Numpy"
      ],
      "metadata": {
        "id": "9KfTlQaHAE-z"
      }
    },
    {
      "cell_type": "markdown",
      "source": [
        "### Импортирование модуля"
      ],
      "metadata": {
        "id": "dnzxWBzrAtl8"
      }
    },
    {
      "cell_type": "markdown",
      "source": [
        "Обновим модуль до актуальной версии"
      ],
      "metadata": {
        "id": "4hKeEpOMAPii"
      }
    },
    {
      "cell_type": "code",
      "source": [
        "!pip install -U numpy"
      ],
      "metadata": {
        "id": "cq0dR3hVAIxd"
      },
      "execution_count": null,
      "outputs": []
    },
    {
      "cell_type": "markdown",
      "source": [
        "Затем в меню `Runtime` > `Restart runtime`. Проверяем:"
      ],
      "metadata": {
        "id": "9T5ilkCIASmL"
      }
    },
    {
      "cell_type": "markdown",
      "source": [
        "Импортируем модуль в блокнот:"
      ],
      "metadata": {
        "id": "8gjUw8V3AGRl"
      }
    },
    {
      "cell_type": "code",
      "execution_count": null,
      "metadata": {
        "id": "p9gnKzM1-Z_A"
      },
      "outputs": [],
      "source": [
        "import numpy as np\n",
        "np.__version__"
      ]
    },
    {
      "cell_type": "markdown",
      "source": [
        "### 1. Поэлементное сложение 2 массивов numpy"
      ],
      "metadata": {
        "id": "MMzDB_R_Ar7X"
      }
    },
    {
      "cell_type": "markdown",
      "source": [
        "Даны 2 массива numpy одинакового ранга. Как получить массив numpy, в котором каждый элемент является поэлементной суммой 2 исходных массивов?"
      ],
      "metadata": {
        "id": "NKrFRFRMBWKI"
      }
    },
    {
      "cell_type": "markdown",
      "source": [
        "Дано:"
      ],
      "metadata": {
        "id": "JukINVc0B7-2"
      }
    },
    {
      "cell_type": "code",
      "source": [
        "a = np.array([[1,2,3],\n",
        "              [4,5,6]])\n",
        "b = np.array([[10,11,12],\n",
        "              [13,14,15]])"
      ],
      "metadata": {
        "id": "hSTFZPTXB33q"
      },
      "execution_count": null,
      "outputs": []
    },
    {
      "cell_type": "markdown",
      "source": [
        "Решение:"
      ],
      "metadata": {
        "id": "J0sR1ialB9Q6"
      }
    },
    {
      "cell_type": "code",
      "source": [
        ""
      ],
      "metadata": {
        "id": "X8pCB26IB7Oy"
      },
      "execution_count": null,
      "outputs": []
    },
    {
      "cell_type": "markdown",
      "source": [
        "### 2. Умножение матрицы (числового массива) на скаляр"
      ],
      "metadata": {
        "id": "dJ4ptyCECJKn"
      }
    },
    {
      "cell_type": "markdown",
      "source": [
        "Продемонстируйте умножение матрицы на:\n",
        "\n",
        "1.   Скаляр\n",
        "2.   Вектор\n"
      ],
      "metadata": {
        "id": "aMYl1E5sCP8Y"
      }
    },
    {
      "cell_type": "markdown",
      "source": [
        "Дано:"
      ],
      "metadata": {
        "id": "UizyCap1Ccdx"
      }
    },
    {
      "cell_type": "code",
      "source": [
        "a = np.array([[1,2,3],\n",
        "              [4,5,6]])\n",
        "v = np.array([6,6,6])"
      ],
      "metadata": {
        "id": "jHxE5mdrCe9j"
      },
      "execution_count": null,
      "outputs": []
    },
    {
      "cell_type": "markdown",
      "source": [
        "Решение:"
      ],
      "metadata": {
        "id": "EDlUIHWqCk4V"
      }
    },
    {
      "cell_type": "code",
      "source": [
        ""
      ],
      "metadata": {
        "id": "iLlaIxZZCo-K"
      },
      "execution_count": null,
      "outputs": []
    },
    {
      "cell_type": "markdown",
      "source": [
        "### 3. Создание матриц"
      ],
      "metadata": {
        "id": "_nuEtXT8C3tx"
      }
    },
    {
      "cell_type": "markdown",
      "source": [
        "Продемонстрируете создания 2-мерной матрицы `a*b`, все значения которой:\n",
        "\n",
        "\n",
        "1. Последовательно заданы от `0` до `a*b-1`.\n",
        "2. Равны одному числу\n",
        "3. Заполнены пустыми значениями\n",
        "4. Случайными значениями"
      ],
      "metadata": {
        "id": "viwMqUMHC_zF"
      }
    },
    {
      "cell_type": "markdown",
      "source": [
        "Решение:"
      ],
      "metadata": {
        "id": "v6BALBMjDqVu"
      }
    },
    {
      "cell_type": "code",
      "source": [
        ""
      ],
      "metadata": {
        "id": "BCtWIgzEDwi2"
      },
      "execution_count": null,
      "outputs": []
    },
    {
      "cell_type": "markdown",
      "source": [
        "### 4. Изменение размеров матрицы"
      ],
      "metadata": {
        "id": "7ME6nIFWEfGz"
      }
    },
    {
      "cell_type": "markdown",
      "source": [
        "Продемонстрируйте преобразование 1-мерного массива в 3-мерный массив"
      ],
      "metadata": {
        "id": "rYwNh0fxElv9"
      }
    },
    {
      "cell_type": "markdown",
      "source": [
        "Дано:"
      ],
      "metadata": {
        "id": "hgcG1Kg1Et6f"
      }
    },
    {
      "cell_type": "code",
      "source": [
        "a = np.array([x for x in range(27)])"
      ],
      "metadata": {
        "id": "n4LBYVCREtg5"
      },
      "execution_count": null,
      "outputs": []
    },
    {
      "cell_type": "markdown",
      "source": [
        "Решение:"
      ],
      "metadata": {
        "id": "Agv85PTiEyi_"
      }
    },
    {
      "cell_type": "code",
      "source": [
        ""
      ],
      "metadata": {
        "id": "nzeG0rqmDpb4"
      },
      "execution_count": null,
      "outputs": []
    },
    {
      "cell_type": "markdown",
      "source": [
        "### 5. Преобразование типов данных массива"
      ],
      "metadata": {
        "id": "noHRLVTME95n"
      }
    },
    {
      "cell_type": "markdown",
      "source": [
        "Преобразуйте все элементы массива numpy из типа данных с плавающей точкой в целочисленный тип данных."
      ],
      "metadata": {
        "id": "lu9pr3GHFBjH"
      }
    },
    {
      "cell_type": "markdown",
      "source": [
        "Дано:"
      ],
      "metadata": {
        "id": "Nlx-ER09FFiz"
      }
    },
    {
      "cell_type": "code",
      "source": [
        "a = np.array([[2.5, 3.8, 1.5],\n",
        "              [4.7, 2.9, 1.56]])"
      ],
      "metadata": {
        "id": "KrMeTSy6FHAy"
      },
      "execution_count": null,
      "outputs": []
    },
    {
      "cell_type": "markdown",
      "source": [
        "Решение:"
      ],
      "metadata": {
        "id": "rSqBA8JDFIbR"
      }
    },
    {
      "cell_type": "code",
      "source": [
        ""
      ],
      "metadata": {
        "id": "fo1ugncMFH9p"
      },
      "execution_count": null,
      "outputs": []
    },
    {
      "cell_type": "markdown",
      "source": [
        "### 6. Получение логического массива из двоичного массива"
      ],
      "metadata": {
        "id": "38gWkN27GMRO"
      }
    },
    {
      "cell_type": "markdown",
      "source": [
        "Преобразуйте двоичный массив numpy (содержащий только `0` и `1`) в логический массив numpy"
      ],
      "metadata": {
        "id": "Jbg4vA1wGSvH"
      }
    },
    {
      "cell_type": "markdown",
      "source": [
        "Дано:"
      ],
      "metadata": {
        "id": "_42r5ROgGVDi"
      }
    },
    {
      "cell_type": "code",
      "source": [
        "a = np.array([[1, 0, 0],\n",
        "              [1, 1, 1],\n",
        "              [0, 0, 0]])"
      ],
      "metadata": {
        "id": "BFuxSUbqGYru"
      },
      "execution_count": null,
      "outputs": []
    },
    {
      "cell_type": "markdown",
      "source": [
        "Решение:"
      ],
      "metadata": {
        "id": "ZWTaUrUQGbVZ"
      }
    },
    {
      "cell_type": "code",
      "source": [
        ""
      ],
      "metadata": {
        "id": "bKYqr6dmGiow"
      },
      "execution_count": null,
      "outputs": []
    },
    {
      "cell_type": "markdown",
      "source": [
        "### 7. Горизонтальная укладка массивов Numpy"
      ],
      "metadata": {
        "id": "pAbmx6MkGpiD"
      }
    },
    {
      "cell_type": "markdown",
      "source": [
        "Сложите 2 массива numpy горизонтально, т.е. 2 массива, имеющие одинаковое 0-е измерение."
      ],
      "metadata": {
        "id": "QsKizjc7GyvY"
      }
    },
    {
      "cell_type": "markdown",
      "source": [
        "Дано:"
      ],
      "metadata": {
        "id": "_BcUZFkCHJFz"
      }
    },
    {
      "cell_type": "code",
      "source": [
        "a1 = np.array([[1,2,3],\n",
        "               [4,5,6]])\n",
        "a2 = np.array([[7,8,9],\n",
        "               [10,11,12]])"
      ],
      "metadata": {
        "id": "7TS00ftjHLB0"
      },
      "execution_count": null,
      "outputs": []
    },
    {
      "cell_type": "markdown",
      "source": [
        "Решение:"
      ],
      "metadata": {
        "id": "WACP0yLOG_5b"
      }
    },
    {
      "cell_type": "code",
      "source": [
        ""
      ],
      "metadata": {
        "id": "WW6Ss9-RHNe2"
      },
      "execution_count": null,
      "outputs": []
    },
    {
      "cell_type": "markdown",
      "source": [
        "### 8. Вертикальная укладка массивов Numpy"
      ],
      "metadata": {
        "id": "hHgLlm7vHT0W"
      }
    },
    {
      "cell_type": "markdown",
      "source": [
        "Сложите 2 массива numpy вертикально, т.е. 2 массива, имеющие одинаковое 1-е измерение."
      ],
      "metadata": {
        "id": "JqBuFStgHWy_"
      }
    },
    {
      "cell_type": "markdown",
      "source": [
        "Дано:"
      ],
      "metadata": {
        "id": "HaO-yRMrHaD4"
      }
    },
    {
      "cell_type": "code",
      "source": [
        "a1 = np.array([[1,2],\n",
        "               [3,4],\n",
        "               [5,6]])\n",
        "a2 = np.array([[7,8],\n",
        "               [9,10],\n",
        "               [10,11]])"
      ],
      "metadata": {
        "id": "LMAO1x5pHbDe"
      },
      "execution_count": null,
      "outputs": []
    },
    {
      "cell_type": "markdown",
      "source": [
        "Решение:"
      ],
      "metadata": {
        "id": "PhaPdW3YHclb"
      }
    },
    {
      "cell_type": "code",
      "source": [
        ""
      ],
      "metadata": {
        "id": "a3hSoMiIHe2L"
      },
      "execution_count": null,
      "outputs": []
    },
    {
      "cell_type": "markdown",
      "source": [
        "### 9. Генерация массива с заданными характеристиками"
      ],
      "metadata": {
        "id": "J4mPyfn6Ho46"
      }
    },
    {
      "cell_type": "markdown",
      "source": [
        "Сгенерируйте матрицу `2*25` с числами от 0 до 99 с пробелами в 2 числа, например: `0, 2, 4 ...`."
      ],
      "metadata": {
        "id": "SWAA8RMVHwKr"
      }
    },
    {
      "cell_type": "markdown",
      "source": [
        "Решение:"
      ],
      "metadata": {
        "id": "tyLG-9t_IFw5"
      }
    },
    {
      "cell_type": "code",
      "source": [
        ""
      ],
      "metadata": {
        "id": "0NY8Z_URIIO-"
      },
      "execution_count": null,
      "outputs": []
    },
    {
      "cell_type": "markdown",
      "source": [
        "### 10. Получение позиций (индексов), в которых совпадают элементы 2 массивов numpy"
      ],
      "metadata": {
        "id": "ohAaysdwIoWa"
      }
    },
    {
      "cell_type": "markdown",
      "source": [
        "Из 2-ух массивов numpy извлеките индексы, в которых совпадают элементы в 2-ух массивах"
      ],
      "metadata": {
        "id": "TCABLlCeIwU7"
      }
    },
    {
      "cell_type": "markdown",
      "source": [
        "Дано:"
      ],
      "metadata": {
        "id": "tqewQYUwI-SK"
      }
    },
    {
      "cell_type": "code",
      "source": [
        "a = np.array([1,2,3,4,5])\n",
        "b = np.array([1,3,2,4,5])"
      ],
      "metadata": {
        "id": "PMRh6YfXI7_v"
      },
      "execution_count": null,
      "outputs": []
    },
    {
      "cell_type": "markdown",
      "source": [
        "Решение:"
      ],
      "metadata": {
        "id": "NpMqry8EJCtm"
      }
    },
    {
      "cell_type": "code",
      "source": [
        ""
      ],
      "metadata": {
        "id": "1tWSg5MAJGI7"
      },
      "execution_count": null,
      "outputs": []
    },
    {
      "cell_type": "markdown",
      "source": [
        "### 11. Генерация заданного количества равномерно распределенных чисел в пределах заданного диапазона"
      ],
      "metadata": {
        "id": "8bQqg-WFJeL8"
      }
    },
    {
      "cell_type": "markdown",
      "source": [
        "Выведите последовательность из `5` чисел с одинаковым интервалом в диапазоне от `0` до `100` (оба включительно)."
      ],
      "metadata": {
        "id": "swPMT-8aJkoe"
      }
    },
    {
      "cell_type": "markdown",
      "source": [
        "Решение:"
      ],
      "metadata": {
        "id": "FQ-QN18RJnsZ"
      }
    },
    {
      "cell_type": "code",
      "source": [
        ""
      ],
      "metadata": {
        "id": "3wqmN7dlJsMC"
      },
      "execution_count": null,
      "outputs": []
    },
    {
      "cell_type": "markdown",
      "source": [
        "### 12. Генерация матрицы с одним конкретным значением"
      ],
      "metadata": {
        "id": "XiElp0pmJ28e"
      }
    },
    {
      "cell_type": "markdown",
      "source": [
        "Выведите матрицу (массив numpy) размером `2` на `3` с каждым значением, равным 6."
      ],
      "metadata": {
        "id": "CmjQFZZsJ3Bf"
      }
    },
    {
      "cell_type": "markdown",
      "source": [
        "Решение:"
      ],
      "metadata": {
        "id": "g4QYfweTJ9mu"
      }
    },
    {
      "cell_type": "code",
      "source": [
        ""
      ],
      "metadata": {
        "id": "J-IVc62fKAKy"
      },
      "execution_count": null,
      "outputs": []
    },
    {
      "cell_type": "markdown",
      "source": [
        "### 13. Генерация массива путем повторения небольшого массива в каждом измерении"
      ],
      "metadata": {
        "id": "CFfPdkkXKMUm"
      }
    },
    {
      "cell_type": "markdown",
      "source": [
        "Выведите массив, повторив меньший массив из 2 измерений 10 раз. Подсказка: (`tile`)."
      ],
      "metadata": {
        "id": "_Ru0M4PRKQzW"
      }
    },
    {
      "cell_type": "markdown",
      "source": [
        "Дано:"
      ],
      "metadata": {
        "id": "itkxLN5HKYd8"
      }
    },
    {
      "cell_type": "code",
      "source": [
        "a = np.array([[1,2,3],\n",
        "              [4,5,6]])"
      ],
      "metadata": {
        "id": "GJp-xxx3Kanz"
      },
      "execution_count": null,
      "outputs": []
    },
    {
      "cell_type": "markdown",
      "source": [
        "Решение:"
      ],
      "metadata": {
        "id": "yPZbxf0BKhp4"
      }
    },
    {
      "cell_type": "code",
      "source": [
        ""
      ],
      "metadata": {
        "id": "zhq4n4IQKjFc"
      },
      "execution_count": null,
      "outputs": []
    },
    {
      "cell_type": "markdown",
      "source": [
        "### 14. Генерация массива случайных целых чисел в пределах заданного диапазона"
      ],
      "metadata": {
        "id": "KtPyQs2UKxyj"
      }
    },
    {
      "cell_type": "markdown",
      "source": [
        "Выведите массив случайных целых чисел размером `5` на `5` от `0` (включительно) до `10` (исключительных)."
      ],
      "metadata": {
        "id": "RhkKiRekK1q9"
      }
    },
    {
      "cell_type": "markdown",
      "source": [
        "Решение:"
      ],
      "metadata": {
        "id": "xPiNFRjwK6Dz"
      }
    },
    {
      "cell_type": "code",
      "source": [
        ""
      ],
      "metadata": {
        "id": "22EBg5E0K8r8"
      },
      "execution_count": null,
      "outputs": []
    },
    {
      "cell_type": "markdown",
      "source": [
        "### 15. Генерация массива случайных чисел в соответствии с нормальным распределением"
      ],
      "metadata": {
        "id": "a0R0UZUTLEJ-"
      }
    },
    {
      "cell_type": "markdown",
      "source": [
        "Выведите массив случайных чисел размером 3 на 3, следуя нормальному распределению."
      ],
      "metadata": {
        "id": "depMWeuuLH1T"
      }
    },
    {
      "cell_type": "markdown",
      "source": [
        "Решение:"
      ],
      "metadata": {
        "id": "X_hz8TcKLLD0"
      }
    },
    {
      "cell_type": "code",
      "source": [
        ""
      ],
      "metadata": {
        "id": "iyVo-0AGLNuw"
      },
      "execution_count": null,
      "outputs": []
    },
    {
      "cell_type": "markdown",
      "source": [
        "### 16. Транспонирование матрицы"
      ],
      "metadata": {
        "id": "LXcBcrLuLUvr"
      }
    },
    {
      "cell_type": "markdown",
      "source": [
        "Сделайте транспонирования матрицы (в виде массива numpy)."
      ],
      "metadata": {
        "id": "1C_UZ8wTLaYk"
      }
    },
    {
      "cell_type": "markdown",
      "source": [
        "Дано:"
      ],
      "metadata": {
        "id": "xD4pUaBnLkUg"
      }
    },
    {
      "cell_type": "code",
      "source": [
        "a = np.array([[1,2,3],\n",
        "              [4,5,6],\n",
        "              [7,8,9]])"
      ],
      "metadata": {
        "id": "skcUXBRELjxs"
      },
      "execution_count": null,
      "outputs": []
    },
    {
      "cell_type": "markdown",
      "source": [
        "Решение:"
      ],
      "metadata": {
        "id": "ZuAATcvqLgWo"
      }
    },
    {
      "cell_type": "code",
      "source": [
        ""
      ],
      "metadata": {
        "id": "2RqRgg37Lhyf"
      },
      "execution_count": null,
      "outputs": []
    },
    {
      "cell_type": "markdown",
      "source": [
        "### 17. Фильтрация значений"
      ],
      "metadata": {
        "id": "Wr6cIOWwLvPv"
      }
    },
    {
      "cell_type": "markdown",
      "source": [
        "Получите список координат, где существуют элементы, находящиеся в промежутке `[4, 7)`."
      ],
      "metadata": {
        "id": "jIX8rglgLyFs"
      }
    },
    {
      "cell_type": "markdown",
      "source": [
        "Дано:"
      ],
      "metadata": {
        "id": "8FkmIBN9MNbH"
      }
    },
    {
      "cell_type": "code",
      "source": [
        "a = np.array([[1, 2, 3, 4],\n",
        "              [5, 6, 7, 8], \n",
        "              [9, 10, 0, 12]])"
      ],
      "metadata": {
        "id": "Gr93yK1eMOom"
      },
      "execution_count": null,
      "outputs": []
    },
    {
      "cell_type": "markdown",
      "source": [
        "Решение:"
      ],
      "metadata": {
        "id": "exkjk8iyMSqh"
      }
    },
    {
      "cell_type": "code",
      "source": [
        ""
      ],
      "metadata": {
        "id": "2vcQjU_fMUCA"
      },
      "execution_count": null,
      "outputs": []
    },
    {
      "cell_type": "markdown",
      "source": [
        "### 18. Минимальное и максимальное значение"
      ],
      "metadata": {
        "id": "cJ_MyJZfOFWK"
      }
    },
    {
      "cell_type": "markdown",
      "source": [
        "Напишите программу на Python для поиска максимального и минимального."
      ],
      "metadata": {
        "id": "NtMtl1VyOSE8"
      }
    },
    {
      "cell_type": "markdown",
      "source": [
        "Дано:"
      ],
      "metadata": {
        "id": "PAE1Te6fOZMb"
      }
    },
    {
      "cell_type": "code",
      "source": [
        "a = np.arange(4).reshape((2,2))\n",
        "a"
      ],
      "metadata": {
        "id": "2DyEgPQ9Oaz2"
      },
      "execution_count": null,
      "outputs": []
    },
    {
      "cell_type": "markdown",
      "source": [
        "Решение:"
      ],
      "metadata": {
        "id": "mAGFXfJfOdDB"
      }
    },
    {
      "cell_type": "code",
      "source": [
        ""
      ],
      "metadata": {
        "id": "CkNKuJTYOeK3"
      },
      "execution_count": null,
      "outputs": []
    },
    {
      "cell_type": "markdown",
      "source": [
        "### 19. Максимальное и минимальное значение по заданой оси"
      ],
      "metadata": {
        "id": "ERbmQC-ROoKP"
      }
    },
    {
      "cell_type": "markdown",
      "source": [
        "Напишите программу для вычисления разницы между максимальным и минимальным значениями заданного массива по 1-ой оси. Подсказка: `ptp`, `amax`, `amin`."
      ],
      "metadata": {
        "id": "3qBn455yOxnt"
      }
    },
    {
      "cell_type": "markdown",
      "source": [
        "Дано:"
      ],
      "metadata": {
        "id": "m4Hv0ahTO27l"
      }
    },
    {
      "cell_type": "code",
      "source": [
        "x = np.arange(12).reshape((2, 6))\n",
        "x"
      ],
      "metadata": {
        "id": "tnB9trr3O8R4"
      },
      "execution_count": null,
      "outputs": []
    },
    {
      "cell_type": "markdown",
      "source": [
        "Решение:"
      ],
      "metadata": {
        "id": "oY5D0-kCPHFK"
      }
    },
    {
      "cell_type": "code",
      "source": [
        ""
      ],
      "metadata": {
        "id": "xQ4dUvmDPI1p"
      },
      "execution_count": null,
      "outputs": []
    },
    {
      "cell_type": "markdown",
      "source": [
        "### 20. Работа с датами"
      ],
      "metadata": {
        "id": "_oV5k7n8RjIB"
      }
    },
    {
      "cell_type": "markdown",
      "source": [
        "Напишите программу NumPy, чтобы найти количество дней недели в марте 2017 года. Подсказка: в документации описана функция для работы с датами, которая позволяет провести подсчет рабочих дней."
      ],
      "metadata": {
        "id": "YtjmT2uNRsnA"
      }
    },
    {
      "cell_type": "markdown",
      "source": [
        "Решение:"
      ],
      "metadata": {
        "id": "kzIRrZBBVl-h"
      }
    },
    {
      "cell_type": "code",
      "source": [
        ""
      ],
      "metadata": {
        "id": "gAR9AVMgVnxu"
      },
      "execution_count": null,
      "outputs": []
    },
    {
      "cell_type": "markdown",
      "source": [
        "## SciPy"
      ],
      "metadata": {
        "id": "7LimoofwVwuO"
      }
    },
    {
      "cell_type": "markdown",
      "source": [
        "### Импортирование модуля"
      ],
      "metadata": {
        "id": "ptPWCLSPWlDI"
      }
    },
    {
      "cell_type": "markdown",
      "source": [
        "Обновим модуль до актуальной версии"
      ],
      "metadata": {
        "id": "NqVgL_84WoUW"
      }
    },
    {
      "cell_type": "code",
      "source": [
        "!pip install -U scipy"
      ],
      "metadata": {
        "id": "uPicYdQwWiNw"
      },
      "execution_count": null,
      "outputs": []
    },
    {
      "cell_type": "markdown",
      "source": [
        "Затем в меню `Runtime` > `Restart runtime`. Проверяем:"
      ],
      "metadata": {
        "id": "9Bpj6nOgWqcS"
      }
    },
    {
      "cell_type": "code",
      "source": [
        "import scipy as sp\n",
        "import numpy as np\n",
        "\n",
        "sp.__version__"
      ],
      "metadata": {
        "id": "xUZt7_1LWtgX"
      },
      "execution_count": null,
      "outputs": []
    },
    {
      "cell_type": "markdown",
      "source": [
        "Минутка доброты:"
      ],
      "metadata": {
        "id": "yb9nVdiYXCAa"
      }
    },
    {
      "cell_type": "code",
      "source": [
        "from scipy import misc\n",
        "from matplotlib import pyplot as plt\n",
        "\n",
        "panda = misc.face()\n",
        "plt.imshow(panda)\n",
        "plt.show()"
      ],
      "metadata": {
        "id": "vyi-gHFJW-Lw"
      },
      "execution_count": null,
      "outputs": []
    },
    {
      "cell_type": "markdown",
      "source": [
        ""
      ],
      "metadata": {
        "id": "dmM1lw_hW9jF"
      }
    },
    {
      "cell_type": "markdown",
      "source": [
        "### 1. Формат списка координат (COO)"
      ],
      "metadata": {
        "id": "RIsDZYv6WaNa"
      }
    },
    {
      "cell_type": "markdown",
      "source": [
        "Дана матрица:\n",
        "\n",
        "```\n",
        "[[  0,   0,   9,   0],\n",
        " [  0,   2,   0,   0],\n",
        " [  0,   0,   0,   1],\n",
        " [  0,   0,   0, 333]]\n",
        "```\n",
        "\n",
        "Задайте ее в формате COO.\n",
        "\n"
      ],
      "metadata": {
        "id": "av8Fj02uXW5b"
      }
    },
    {
      "cell_type": "markdown",
      "source": [
        "Дано:"
      ],
      "metadata": {
        "id": "y1CFINVGX6si"
      }
    },
    {
      "cell_type": "code",
      "source": [
        "from scipy import sparse"
      ],
      "metadata": {
        "id": "Smh7hbr0X8GE"
      },
      "execution_count": null,
      "outputs": []
    },
    {
      "cell_type": "markdown",
      "source": [
        "Решение:"
      ],
      "metadata": {
        "id": "KZrioCXVX9IK"
      }
    },
    {
      "cell_type": "code",
      "source": [
        ""
      ],
      "metadata": {
        "id": "_ONN3hjmXNda"
      },
      "execution_count": null,
      "outputs": []
    },
    {
      "cell_type": "markdown",
      "source": [
        "### 2. Тригонометрические задачи"
      ],
      "metadata": {
        "id": "EepP7OJIZJMl"
      }
    },
    {
      "cell_type": "markdown",
      "source": [
        "Продемонстрируйте вычисление синуса, косинуса, 2 и 10 степени от числа."
      ],
      "metadata": {
        "id": "nTAoza5dZQ8q"
      }
    },
    {
      "cell_type": "markdown",
      "source": [
        "Решение:"
      ],
      "metadata": {
        "id": "gSailz71Zs-_"
      }
    },
    {
      "cell_type": "code",
      "source": [
        ""
      ],
      "metadata": {
        "id": "82JiHWm0ZQVf"
      },
      "execution_count": null,
      "outputs": []
    },
    {
      "cell_type": "markdown",
      "source": [
        "### Обратная матрица"
      ],
      "metadata": {
        "id": "N19fgueYZPPo"
      }
    },
    {
      "cell_type": "markdown",
      "source": [
        "Вычислите обратную матрицу."
      ],
      "metadata": {
        "id": "FVT3xEF8aKOz"
      }
    },
    {
      "cell_type": "markdown",
      "source": [
        "Дано:"
      ],
      "metadata": {
        "id": "rbXh7DngaNxq"
      }
    },
    {
      "cell_type": "code",
      "source": [
        "from scipy import linalg\n",
        "\n",
        "A = np.array([[1,2],[3,4]])\n",
        "A"
      ],
      "metadata": {
        "id": "fYkZcVMTaN7p"
      },
      "execution_count": null,
      "outputs": []
    },
    {
      "cell_type": "markdown",
      "source": [
        "Решение:"
      ],
      "metadata": {
        "id": "KTGIlUtYaUoP"
      }
    },
    {
      "cell_type": "code",
      "source": [
        ""
      ],
      "metadata": {
        "id": "mr9q7MUKaW0H"
      },
      "execution_count": null,
      "outputs": []
    },
    {
      "cell_type": "markdown",
      "source": [
        "## PandaSQL"
      ],
      "metadata": {
        "id": "2hS0sAAIasFr"
      }
    },
    {
      "cell_type": "markdown",
      "source": [
        "### Обновление текущего SQLite"
      ],
      "metadata": {
        "id": "XVw51dEscn4f"
      }
    },
    {
      "cell_type": "code",
      "source": [
        "import sqlite3\n",
        "sqlite3.sqlite_version"
      ],
      "metadata": {
        "id": "vRiBV-dlcp2w"
      },
      "execution_count": null,
      "outputs": []
    },
    {
      "cell_type": "code",
      "source": [
        "!curl https://www.sqlite.org/src/tarball/sqlite.tar.gz?r=release | tar xz\n",
        "%cd sqlite/\n",
        "!./configure\n",
        "!make sqlite3.c\n",
        "%cd /content\n",
        "!npx degit coleifer/pysqlite3 -f\n",
        "!cp sqlite/sqlite3.[ch] .\n",
        "!python setup.py build_static build\n",
        "!cp build/lib.linux-x86_64-3.7/pysqlite3/_sqlite3.cpython-37m-x86_64-linux-gnu.so \\\n",
        "     /usr/lib/python3.7/lib-dynload/"
      ],
      "metadata": {
        "id": "IRVXE3OwcsPN"
      },
      "execution_count": null,
      "outputs": []
    },
    {
      "cell_type": "markdown",
      "source": [
        "Затем в меню `Runtime` > `Restart runtime`. Проверяем:"
      ],
      "metadata": {
        "id": "IbLhnH9Dcu4b"
      }
    },
    {
      "cell_type": "code",
      "source": [
        "import sqlite3\n",
        "sqlite3.sqlite_version"
      ],
      "metadata": {
        "id": "4UK9leXxctvi"
      },
      "execution_count": null,
      "outputs": []
    },
    {
      "cell_type": "markdown",
      "source": [
        "### Загрузка git-репозитория в текущее окружение"
      ],
      "metadata": {
        "id": "XCzTi_BwdB7T"
      }
    },
    {
      "cell_type": "code",
      "source": [
        "%cd /content/\n",
        "!mkdir gitrepos\n",
        "%cd /content/gitrepos/\n",
        "!git clone https://github.com/lerocha/chinook-database"
      ],
      "metadata": {
        "id": "-Hl23oeidH6V"
      },
      "execution_count": null,
      "outputs": []
    },
    {
      "cell_type": "markdown",
      "source": [
        "Копирование базы данных в папку, в которой будем работать:"
      ],
      "metadata": {
        "id": "zFIqVIFXdJVx"
      }
    },
    {
      "cell_type": "code",
      "source": [
        "%cd /content/\n",
        "!mkdir testdata\n",
        "%cd /content/testdata"
      ],
      "metadata": {
        "id": "xL26ixOfdKqh"
      },
      "execution_count": null,
      "outputs": []
    },
    {
      "cell_type": "code",
      "source": [
        "!cp /content/gitrepos/chinook-database/ChinookDatabase/DataSources/Chinook_Sqlite.sqlite  Chinook_Sqlite.sqlite"
      ],
      "metadata": {
        "id": "OOY9zkWIdLyY"
      },
      "execution_count": null,
      "outputs": []
    },
    {
      "cell_type": "markdown",
      "source": [
        "Тащим интересующие нас таблицы в DataFrame:"
      ],
      "metadata": {
        "id": "fdfOOElIdOue"
      }
    },
    {
      "cell_type": "code",
      "source": [
        "import pandas as pd\n",
        "\n",
        "cnx = sqlite3.connect('/content/testdata/Chinook_Sqlite.sqlite')\n",
        "\n",
        "album = pd.read_sql_query(\"SELECT * FROM album\", cnx)\n",
        "album.head()"
      ],
      "metadata": {
        "id": "3Ofj16ssdU9J"
      },
      "execution_count": null,
      "outputs": []
    },
    {
      "cell_type": "markdown",
      "source": [
        "### Подключение модуля PandaSQL"
      ],
      "metadata": {
        "id": "IQiDn5c7d_7J"
      }
    },
    {
      "cell_type": "code",
      "source": [
        "!pip install -U pandasql"
      ],
      "metadata": {
        "id": "7EI6aWvKd9VH"
      },
      "execution_count": null,
      "outputs": []
    },
    {
      "cell_type": "markdown",
      "source": [
        "Разрешить использовать в запросах переменные текущего модуля:\n"
      ],
      "metadata": {
        "id": "KEl1feAJdzTM"
      }
    },
    {
      "cell_type": "code",
      "source": [
        "from pandasql import sqldf\n",
        "\n",
        "pysqldf = lambda q: sqldf(q, globals())"
      ],
      "metadata": {
        "id": "9pOgt3Hhd10v"
      },
      "execution_count": null,
      "outputs": []
    },
    {
      "cell_type": "markdown",
      "source": [
        "### 1. Join по нескольким таблицам"
      ],
      "metadata": {
        "id": "Ijc7frODeO7y"
      }
    },
    {
      "cell_type": "markdown",
      "source": [
        "Осуществите запрос на поиск исполнителей, у которых нет альбомов. "
      ],
      "metadata": {
        "id": "qn0MelTheTEg"
      }
    },
    {
      "cell_type": "markdown",
      "source": [
        "Дано:"
      ],
      "metadata": {
        "id": "Vrd_mo9deZyg"
      }
    },
    {
      "cell_type": "code",
      "source": [
        "album = pd.read_sql_query(\"SELECT * FROM album\", cnx)\n",
        "artist = pd.read_sql_query(\"SELECT * FROM artist\", cnx)"
      ],
      "metadata": {
        "id": "CDCJifb4eZXq"
      },
      "execution_count": null,
      "outputs": []
    },
    {
      "cell_type": "markdown",
      "source": [
        "Решение:"
      ],
      "metadata": {
        "id": "pHs8QbGEef9o"
      }
    },
    {
      "cell_type": "code",
      "source": [
        ""
      ],
      "metadata": {
        "id": "FXIplEdWehmk"
      },
      "execution_count": null,
      "outputs": []
    },
    {
      "cell_type": "markdown",
      "source": [
        "### 2. Команда WHERE"
      ],
      "metadata": {
        "id": "_UQeBl5Te4v5"
      }
    },
    {
      "cell_type": "markdown",
      "source": [
        "Осуществите поиск всех треков в идентификаторе альбома 1.\n",
        "\n"
      ],
      "metadata": {
        "id": "dN6bdRcue8v2"
      }
    },
    {
      "cell_type": "markdown",
      "source": [
        "Дано:"
      ],
      "metadata": {
        "id": "HRGZZrFrfImq"
      }
    },
    {
      "cell_type": "code",
      "source": [
        "track = pd.read_sql_query(\"SELECT * FROM track\", cnx)"
      ],
      "metadata": {
        "id": "X8FFedE_fKeP"
      },
      "execution_count": null,
      "outputs": []
    },
    {
      "cell_type": "markdown",
      "source": [
        "Решение:"
      ],
      "metadata": {
        "id": "KEBsQYHufLx5"
      }
    },
    {
      "cell_type": "code",
      "source": [
        ""
      ],
      "metadata": {
        "id": "LXaQV3N5fLWv"
      },
      "execution_count": null,
      "outputs": []
    },
    {
      "cell_type": "markdown",
      "source": [
        "### 3. Использование GROUP BY "
      ],
      "metadata": {
        "id": "8SGXaoaAft13"
      }
    },
    {
      "cell_type": "markdown",
      "source": [
        "В каких странах больше всего счетов? Используйте таблицу `Invoice`, чтобы определить страны с наибольшим количеством счетов-фактур. Предоставьте таблицу BillingCountry и Invoices, упорядоченную по количеству счетов для каждой страны. Страна с наибольшим количеством счетов-фактур должна отображаться первой."
      ],
      "metadata": {
        "id": "r1ocjJECf-54"
      }
    },
    {
      "cell_type": "markdown",
      "source": [
        "Дано:"
      ],
      "metadata": {
        "id": "NClDzhYZgHSk"
      }
    },
    {
      "cell_type": "code",
      "source": [
        "invoice = pd.read_sql_query(\"SELECT * FROM invoice\", cnx)"
      ],
      "metadata": {
        "id": "OlmIBGIggIjw"
      },
      "execution_count": null,
      "outputs": []
    },
    {
      "cell_type": "markdown",
      "source": [
        "Решение:"
      ],
      "metadata": {
        "id": "FKY-B9nDgMJ0"
      }
    },
    {
      "cell_type": "code",
      "source": [
        ""
      ],
      "metadata": {
        "id": "16kVlVu_gNxF"
      },
      "execution_count": null,
      "outputs": []
    },
    {
      "cell_type": "markdown",
      "source": [
        "### Дополнительные задания\n"
      ],
      "metadata": {
        "id": "mg0DjJWNhUQk"
      }
    },
    {
      "cell_type": "markdown",
      "source": [
        "1. Предоставьте запрос, показывающий общий объем продаж по странам.\n",
        "1. Клиенты какой страны потратили больше всего?\n",
        "1. Предоставьте запрос, который показывает топ-5 самых покупаемых песен."
      ],
      "metadata": {
        "id": "mcmQ06llhbWt"
      }
    }
  ]
}