{
  "nbformat": 4,
  "nbformat_minor": 0,
  "metadata": {
    "colab": {
      "name": "individual-work-dataset-1.ipynb",
      "provenance": [],
      "collapsed_sections": [],
      "authorship_tag": "ABX9TyPLA+ES5un4RDmF5Myr7t+Z"
    },
    "kernelspec": {
      "name": "python3",
      "display_name": "Python 3"
    },
    "language_info": {
      "name": "python"
    }
  },
  "cells": [
    {
      "cell_type": "markdown",
      "source": [
        "# Футбольные данные: Ожидаемые голы и другие показатели"
      ],
      "metadata": {
        "id": "2KrLca1Cnwgv"
      }
    },
    {
      "cell_type": "markdown",
      "source": [
        "## Текстовое описание выбранного набора данных"
      ],
      "metadata": {
        "id": "eS1H-aa7n0FU"
      }
    },
    {
      "cell_type": "markdown",
      "source": [
        "В качестве набора данных мы будем использовать [Extended Football Stats and Expected Goals (xG)](https://www.kaggle.com/slehkyi/extended-football-stats-for-european-leagues-xg) - лучшие европейские лиги расширенная статистика, начиная с 2014 года, включает в себя показатели xG.\n",
        "\n",
        "Набор данных содержит сводные статистические данные по итогам каждого сезона с 2014 года для 6 Лиг УЕФА:\n",
        "\n",
        "*\tLa Liga\n",
        "*\tEPL\n",
        "*\tBundesLiga\n",
        "*\tSerie A\n",
        "*\tLigue 1\n",
        "*\tRFPL"
      ],
      "metadata": {
        "id": "j2x3L3Evn018"
      }
    },
    {
      "cell_type": "markdown",
      "source": [
        "\n",
        "Стандартные параметры: позиция (`position`), команда (`team`), количество сыгранных матчей (`amount of matches played`), победы (`wins`), ничьи (`draws`), поражения (`loses`), забитые голы (`goals scored`), пропущенные голы (`goals missed`), очки (`points`)."
      ],
      "metadata": {
        "id": "7R-J6Gf0oZSK"
      }
    },
    {
      "cell_type": "markdown",
      "source": [
        "Дополнительные показатели:\n",
        "\n",
        "*\t`xG` - показатель ожидаемых голов - это статистический показатель качества созданных и пропущенных моментов.\n",
        "*\t`xG_diff` - разница между фактическими забитыми голами и ожидаемыми голами.\n",
        "*\t`npxG` - ожидаемые голы без пенальти и собственные голы.\n",
        "*\t`xGA` - ожидаемые цели против.\n",
        "*\t`xGA_diff` - разница между фактическими пропущенными голами и ожидаемыми голами против.\n",
        "*\t`npxGA` - ожидаемые голы в ворота без пенальти и собственные голы.\n",
        "*\t`npxGD` - разница между \"за\" и \"против\" ожидаемых голов без пенальти и собственных голов.\n",
        "*\t`ppda_coef` - пропуски, разрешенные за оборонительное действие на половине поля соперника (сила давления).\n",
        "*\t`oppda_coef` - пасы соперника, разрешенные за оборонительное действие на половине поля соперника (сила давления соперника).\n",
        "*\t`deep` - пасы, выполненные примерно в 20 ярдах от ворот (исключаются кресты)\n",
        "*\t`deep_allowed` - пасы соперника, выполненные примерно в 20 ярдах от ворот (исключаются кресты).\n",
        "*\t`xpts` - ожидаемые баллы.\n",
        "*\t`xpts_diff` - разница между фактическими и ожидаемыми баллами."
      ],
      "metadata": {
        "id": "kjEWXYHNoaJM"
      }
    },
    {
      "cell_type": "markdown",
      "source": [
        "## Загрузка git-репозитория в текущее окружение"
      ],
      "metadata": {
        "id": "PZohwBIgpUKV"
      }
    },
    {
      "cell_type": "markdown",
      "source": [
        ""
      ],
      "metadata": {
        "id": "OyFGTmtppWKm"
      }
    },
    {
      "cell_type": "code",
      "source": [
        "%cd /content/\n",
        "!mkdir gitrepos\n",
        "%cd /content/gitrepos/\n",
        "!git clone https://github.com/anondigriz/inginirium-course-ai"
      ],
      "metadata": {
        "id": "I3k1dyfkpWhn"
      },
      "execution_count": null,
      "outputs": []
    },
    {
      "cell_type": "code",
      "source": [
        "!ls '/content/gitrepos/inginirium-course-ai/src/05-02-2022/datasets/Extended Football Stats and Expected Goals' -l"
      ],
      "metadata": {
        "id": "C0_O-Of3pWl5"
      },
      "execution_count": null,
      "outputs": []
    },
    {
      "cell_type": "markdown",
      "source": [
        "## Загрузка датасета"
      ],
      "metadata": {
        "id": "fmgGxKksphSC"
      }
    },
    {
      "cell_type": "code",
      "execution_count": null,
      "metadata": {
        "id": "AgDP_1-bmR6y"
      },
      "outputs": [],
      "source": [
        "import numpy as np\n",
        "import pandas as pd\n",
        "import seaborn as sns\n",
        "import matplotlib.pyplot as plt\n",
        "\n",
        "# 'Магическая' функция matplotlib\n",
        "%matplotlib inline \n",
        "\n",
        "# Есть пять предустановленная тем Seaborn: darkgrid, whitegrid, dark, white, \n",
        "# и ticks. Каждый из них подходит для различных приложений и личных предпочтений.\n",
        "sns.set(style=\"ticks\")"
      ]
    },
    {
      "cell_type": "code",
      "source": [
        "CURENT_DIR = '/content/gitrepos/inginirium-course-ai/src/05-02-2022/datasets/Extended Football Stats and Expected Goals'"
      ],
      "metadata": {
        "id": "wXy8GG3IpjB-"
      },
      "execution_count": null,
      "outputs": []
    },
    {
      "cell_type": "code",
      "source": [
        "# загрузка данных из csv\n",
        "data = pd.read_csv(CURENT_DIR+'/understat.com.csv', sep=',')\n",
        "\n",
        "# изучение типа объекта, создаваемого функцией pd.read_csv\n",
        "print(type(data))\n",
        "\n",
        "# вывод первых 5 строк из датасета\n",
        "data.head()"
      ],
      "metadata": {
        "id": "uvf-aPyppmuz"
      },
      "execution_count": null,
      "outputs": []
    },
    {
      "cell_type": "markdown",
      "source": [
        "## Исследование основных характеристик датасета\n"
      ],
      "metadata": {
        "id": "p500MbQdpxEa"
      }
    },
    {
      "cell_type": "markdown",
      "source": [
        "### Исследование внешних признаков датасета"
      ],
      "metadata": {
        "id": "X7HAAUHYqKcg"
      }
    },
    {
      "cell_type": "code",
      "source": [
        "data.dtypes"
      ],
      "metadata": {
        "id": "QqoVgoMOppxt"
      },
      "execution_count": null,
      "outputs": []
    },
    {
      "cell_type": "code",
      "source": [
        "data.shape"
      ],
      "metadata": {
        "id": "A4AOM14Kpq8k"
      },
      "execution_count": null,
      "outputs": []
    },
    {
      "cell_type": "code",
      "source": [
        "data.isna().sum()"
      ],
      "metadata": {
        "id": "MxoOgs9WptWN"
      },
      "execution_count": null,
      "outputs": []
    },
    {
      "cell_type": "code",
      "source": [
        "data.head()"
      ],
      "metadata": {
        "id": "8isHinB4rqp_"
      },
      "execution_count": null,
      "outputs": []
    },
    {
      "cell_type": "markdown",
      "source": [
        "Кодирование категорий целочисленными значениями - label encoding:"
      ],
      "metadata": {
        "id": "S8RvJ9E2st2x"
      }
    },
    {
      "cell_type": "code",
      "source": [
        "from sklearn.preprocessing import LabelEncoder\n",
        "\n",
        "LebEncoders = {'Unnamed: 0' : LabelEncoder(), 'team' : LabelEncoder()}\n",
        "\n",
        "# LabelEncoder может использоваться для нормализации меток (кодирование меток со значением от 0 до n_classes-1)\n",
        "col_le_make = LebEncoders['team'].fit_transform(data['team']) # взять исходные метки и вернуть зашифрованные надписи\n",
        "np.unique(col_le_make)"
      ],
      "metadata": {
        "id": "OqIUEVAXr_kE"
      },
      "execution_count": null,
      "outputs": []
    },
    {
      "cell_type": "code",
      "source": [
        "# Заменяем столбцы нашим энкодером\n",
        "for col in LebEncoders:\n",
        "    data[col] = LebEncoders[col].fit_transform(data[col])"
      ],
      "metadata": {
        "id": "LgvlMq5-sUQH"
      },
      "execution_count": null,
      "outputs": []
    }
  ]
}