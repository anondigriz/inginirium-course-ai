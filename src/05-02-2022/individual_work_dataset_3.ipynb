{
  "nbformat": 4,
  "nbformat_minor": 0,
  "metadata": {
    "colab": {
      "name": "individual-work-dataset-3.ipynb",
      "provenance": [],
      "collapsed_sections": []
    },
    "kernelspec": {
      "name": "python3",
      "display_name": "Python 3"
    }
  },
  "cells": [
    {
      "cell_type": "markdown",
      "source": [
        "# Погода в Сегеде 2006-2016"
      ],
      "metadata": {
        "id": "5A9p6nFNDjYH"
      }
    },
    {
      "cell_type": "markdown",
      "source": [
        "## Текстовое описание выбранного набора данных"
      ],
      "metadata": {
        "id": "qudplegeDm2A"
      }
    },
    {
      "cell_type": "markdown",
      "metadata": {
        "id": "8tRzfi9iNgb-"
      },
      "source": [
        "В качестве набора данных [Weather in Szeged 2006-2016](https://www.kaggle.com/budincsevity/szeged-weather) - почасовая / ежедневная сводка с температурой, давлением, скоростью ветра и многое другое.\n",
        "\n",
        "Существует ли связь между влажностью и температурой? Как насчет между влажностью и кажущейся температурой? Можете ли вы предсказать кажущуюся температуру, учитывая влажность?\n",
        "\n",
        "Данные, доступные в ежечасном ответе:\n",
        "\n",
        "* time\n",
        "* summary\n",
        "* precipType\n",
        "* temperature\n",
        "* apparentTemperature\n",
        "* humidity\n",
        "* windSpeed\n",
        "* windBearing\n",
        "* visibility\n",
        "* loudCover\n",
        "* pressure"
      ]
    },
    {
      "cell_type": "markdown",
      "source": [
        "## Загрузка git-репозитория в текущее окружение"
      ],
      "metadata": {
        "id": "Vs5ltiCtDuxZ"
      }
    },
    {
      "cell_type": "code",
      "source": [
        "%cd /content/\n",
        "!mkdir gitrepos\n",
        "%cd /content/gitrepos/\n",
        "!git clone https://github.com/anondigriz/inginirium-course-ai"
      ],
      "metadata": {
        "id": "Ow_xVT3EDwSn"
      },
      "execution_count": null,
      "outputs": []
    },
    {
      "cell_type": "code",
      "source": [
        "!ls '/content/gitrepos/inginirium-course-ai/src/05-02-2022/datasets/Weather in Szeged 2006-2016' -l"
      ],
      "metadata": {
        "id": "EX_suuT3Dy4d"
      },
      "execution_count": null,
      "outputs": []
    },
    {
      "cell_type": "markdown",
      "source": [
        "## Загрузка датасета"
      ],
      "metadata": {
        "id": "5HCXmnaSD6uy"
      }
    },
    {
      "cell_type": "code",
      "metadata": {
        "id": "A8Krh3D1N4Gr"
      },
      "source": [
        "import numpy as np\n",
        "import pandas as pd\n",
        "import seaborn as sns\n",
        "import matplotlib.pyplot as plt\n",
        "\n",
        "# 'Магическая' функция matplotlib\n",
        "%matplotlib inline \n",
        "\n",
        "# Есть пять предустановленная тем Seaborn: darkgrid, whitegrid, dark, white, \n",
        "# и ticks. Каждый из них подходит для различных приложений и личных предпочтений.\n",
        "sns.set(style=\"ticks\")"
      ],
      "execution_count": null,
      "outputs": []
    },
    {
      "cell_type": "code",
      "metadata": {
        "id": "_t1_KyifOtTU"
      },
      "source": [
        "# Если запуск блокнота не в Google Colab, то указать здесь папку, в которой располагается загруженный датасет\n",
        "CURENT_DIR = '/content/gitrepos/inginirium-course-ai/src/05-02-2022/datasets/Weather in Szeged 2006-2016'"
      ],
      "execution_count": null,
      "outputs": []
    },
    {
      "cell_type": "code",
      "metadata": {
        "id": "G9ngMtwMPORi"
      },
      "source": [
        "# загрузка данных из csv\n",
        "data = pd.read_csv(CURENT_DIR+'/weatherHistory.csv', sep=',')\n",
        "\n",
        "# изучение типа объекта, создаваемого функцией pd.read_csv\n",
        "print(type(data))\n",
        "\n",
        "# вывод первых 5 строк из датасета\n",
        "data.head()"
      ],
      "execution_count": null,
      "outputs": []
    },
    {
      "cell_type": "markdown",
      "source": [
        "## Исследование основных характеристик датасета"
      ],
      "metadata": {
        "id": "3YkwpJr1EmiU"
      }
    },
    {
      "cell_type": "markdown",
      "source": [
        "### Исследование внешних признаков датасета"
      ],
      "metadata": {
        "id": "VJll-VsbEn6F"
      }
    },
    {
      "cell_type": "code",
      "metadata": {
        "id": "FUo3kzkgPXv6"
      },
      "source": [
        "data.dtypes"
      ],
      "execution_count": null,
      "outputs": []
    },
    {
      "cell_type": "code",
      "metadata": {
        "id": "npNX1PElQA9B"
      },
      "source": [
        "data.shape"
      ],
      "execution_count": null,
      "outputs": []
    },
    {
      "cell_type": "code",
      "metadata": {
        "id": "7TpbmynIQu3a"
      },
      "source": [
        "data.isna().sum()"
      ],
      "execution_count": null,
      "outputs": []
    },
    {
      "cell_type": "markdown",
      "metadata": {
        "id": "U_c7CJstX7YH"
      },
      "source": [
        "Обработка пропусков в данных:"
      ]
    },
    {
      "cell_type": "code",
      "metadata": {
        "id": "UfuRydvCX8o6"
      },
      "source": [
        "data = data.dropna(axis=0, how='any')\n",
        "data.isna().sum()"
      ],
      "execution_count": null,
      "outputs": []
    },
    {
      "cell_type": "markdown",
      "metadata": {
        "id": "LMNrNA67YDts"
      },
      "source": [
        "Кодирование категорий целочисленными значениями - label encoding:"
      ]
    },
    {
      "cell_type": "code",
      "metadata": {
        "id": "PkSYnLK5YIr3"
      },
      "source": [
        "from sklearn.preprocessing import LabelEncoder\n",
        "\n",
        "LebEncoders = {'Summary' : LabelEncoder(), 'Precip Type' : LabelEncoder(),\n",
        "               'Daily Summary' : LabelEncoder()}\n",
        "\n",
        "# Заменяем столбцы нашим энкодером\n",
        "for col in LebEncoders:\n",
        "    data[col] = LebEncoders[col].fit_transform(data[col])\n",
        "\n",
        "data.head()"
      ],
      "execution_count": null,
      "outputs": []
    },
    {
      "cell_type": "markdown",
      "source": [
        "Преобразуем к нужному типу колонку `date`:"
      ],
      "metadata": {
        "id": "cx3C4_0SE0qB"
      }
    },
    {
      "cell_type": "code",
      "source": [
        "data_new = data.copy()\n",
        "data_new['Formatted Date'] =  pd.to_datetime(data_new['Formatted Date'], format=\"%Y-%m-%d %H:%M:%S.%f %z\",\n",
        "                           utc=True)\n",
        "data_new.dtypes"
      ],
      "metadata": {
        "id": "Zzza6ExrE19y"
      },
      "execution_count": null,
      "outputs": []
    },
    {
      "cell_type": "code",
      "source": [
        "data_new.head()"
      ],
      "metadata": {
        "id": "_3Nc8OuPFJII"
      },
      "execution_count": null,
      "outputs": []
    },
    {
      "cell_type": "code",
      "source": [
        "data = data_new"
      ],
      "metadata": {
        "id": "l0XYacmnE6DU"
      },
      "execution_count": null,
      "outputs": []
    }
  ]
}