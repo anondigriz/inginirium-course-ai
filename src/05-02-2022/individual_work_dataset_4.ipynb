{
  "nbformat": 4,
  "nbformat_minor": 0,
  "metadata": {
    "colab": {
      "name": "individual-work-dataset-4.ipynb",
      "provenance": [],
      "collapsed_sections": []
    },
    "kernelspec": {
      "name": "python3",
      "display_name": "Python 3"
    }
  },
  "cells": [
    {
      "cell_type": "markdown",
      "source": [
        "# Погодные условия во время Второй мировой войны"
      ],
      "metadata": {
        "id": "vGvFu6FpKja5"
      }
    },
    {
      "cell_type": "markdown",
      "source": [
        "## Текстовое описание выбранного набора данных"
      ],
      "metadata": {
        "id": "HpvkJUTfKmlN"
      }
    },
    {
      "cell_type": "markdown",
      "metadata": {
        "id": "8tRzfi9iNgb-"
      },
      "source": [
        "В качестве набора данных мы будем использовать [Weather Conditions in World War Two](https://www.kaggle.com/smid80/weatherww2/data) - ежедневные сводки погоды за 1940-1945 годы.\n",
        "\n",
        "Существует ли связь между дневным минимумом и максимальной температурой? Можете ли вы предсказать максимальную температуру, учитывая минимальную температуру?\n",
        "\n",
        "Датасет состоит из:\n",
        "\n",
        "* `STA` - Метеостанция\n",
        "* `Date` - Самоочевидный\n",
        "* `Precip` - Осадки в мм\n",
        "* `WindGustSpd` - Максимальная скорость порывов ветра в км/ч\n",
        "* `maxTemp` - Максимальная температура в градусах Цельсия\n",
        "* `minTemp` - Минимальная температура в градусах Цельсия\n",
        "* `MeanTemp` - Средняя температура в градусах Цельсия\n",
        "* `Snowfall` - Осадки снега и льда в мм\n",
        "* `Poor` -  повторение столбца `TSHDSBRSGF` с плохой погодой\n",
        "* `YR` - Год наблюдения\n",
        "* `MO` - Месяц наблюдения\n",
        "* `DA` - День наблюдения\n",
        "* `PRCP` - Осадки в дюймах и сотых долях\n",
        "* `DR` - Пиковое направление порывов ветра в десятках градусов\n",
        "* `SPD` - Пиковая скорость порывов ветра в узлах\n",
        "* `MAX` - Максимальная температура в градусах Фаренгейта\n",
        "* `MIN` - Минимальная температура в градусах Фаренгейта\n",
        "* `MEA` - Средняя температура в градусах Фаренгейта\n",
        "* `SNF` - Снегопад в дюймах и десятых долях\n",
        "* `SND` - Глубина снега (включая ледяные гранулы), зафиксированная в 1200 по Гринвичу, за исключением 0000 по Гринвичу в районе Дальневосточной Азии, в дюймах и десятых долях\n",
        "* `FT` - Верхняя часть мерзлого грунта (глубина в дюймах)\n",
        "* `FB` - Основание мерзлого грунта (глубина в дюймах)\n",
        "* `FTI` - Толщина мерзлого грунта (толщина в дюймах)\n",
        "* `ITHv` - Толщина льда на воде (дюймы и десятые доли)\n",
        "* `PGT` - Пиковое время порывов ветра (часы и десятые доли)\n",
        "* `TSHDSBRSGF` - День с: Громом; Мокрым снегом; Градом; Пылью или Песком; Дымом или Дымкой; Метелью; Дождем; Снегом; Гололедицей; Туманом; 0 = Нет, 1 = Да\n",
        "* `SD3` - Глубина снега в 00:30 по Гринвичу включает ледяные гранулы в дюймах и десятых долях\n",
        "* `RHX` - 24-часовая максимальная относительная влажность, в целом процентах\n",
        "* `RHN` - 24-часовая минимальная относительная влажность, в целом процентах\n",
        "* `RVG` - Размер реки в футах и десятых долях\n",
        "* `WTE` - Водный эквивалент снега и льда на земле в дюймах и сотых долях\n"
      ]
    },
    {
      "cell_type": "markdown",
      "source": [
        "## Загрузка git-репозитория в текущее окружение"
      ],
      "metadata": {
        "id": "Y45cqTebKr8r"
      }
    },
    {
      "cell_type": "code",
      "source": [
        "%cd /content/\n",
        "!mkdir gitrepos\n",
        "%cd /content/gitrepos/\n",
        "!git clone https://github.com/anondigriz/inginirium-course-ai"
      ],
      "metadata": {
        "id": "Hb6rxW-_KuFg"
      },
      "execution_count": null,
      "outputs": []
    },
    {
      "cell_type": "code",
      "source": [
        "!ls '/content/gitrepos/inginirium-course-ai/src/05-02-2022/datasets/Weather Conditions in World War Two' -l"
      ],
      "metadata": {
        "id": "LUAOiDBMKvQA"
      },
      "execution_count": null,
      "outputs": []
    },
    {
      "cell_type": "markdown",
      "source": [
        "## Загрузка датасета"
      ],
      "metadata": {
        "id": "TQxFFBHUKtdK"
      }
    },
    {
      "cell_type": "code",
      "metadata": {
        "id": "A8Krh3D1N4Gr"
      },
      "source": [
        "import numpy as np\n",
        "import pandas as pd\n",
        "import seaborn as sns\n",
        "import matplotlib.pyplot as plt\n",
        "\n",
        "# 'Магическая' функция matplotlib\n",
        "%matplotlib inline \n",
        "\n",
        "# Есть пять предустановленная тем Seaborn: darkgrid, whitegrid, dark, white, \n",
        "# и ticks. Каждый из них подходит для различных приложений и личных предпочтений.\n",
        "sns.set(style=\"ticks\")"
      ],
      "execution_count": null,
      "outputs": []
    },
    {
      "cell_type": "code",
      "metadata": {
        "id": "_t1_KyifOtTU"
      },
      "source": [
        "# Если запуск блокнота не в Google Colab, то указать здесь папку, в которой располагается загруженный датасет\n",
        "CURENT_DIR = '/content/gitrepos/inginirium-course-ai/src/05-02-2022/datasets/Weather Conditions in World War Two'"
      ],
      "execution_count": null,
      "outputs": []
    },
    {
      "cell_type": "code",
      "metadata": {
        "id": "G9ngMtwMPORi"
      },
      "source": [
        "# загрузка данных из csv\n",
        "data = pd.read_csv(CURENT_DIR+'/Summary of Weather.csv', sep=',')\n",
        "\n",
        "# изучение типа объекта, создаваемого функцией pd.read_csv\n",
        "print(type(data))\n",
        "\n",
        "# вывод первых 5 строк из датасета\n",
        "data.head()"
      ],
      "execution_count": null,
      "outputs": []
    },
    {
      "cell_type": "markdown",
      "source": [
        "## Исследование основных характеристик датасета"
      ],
      "metadata": {
        "id": "ANeCp6pQLCH8"
      }
    },
    {
      "cell_type": "markdown",
      "source": [
        "### Исследование внешних признаков датасета"
      ],
      "metadata": {
        "id": "AuBHnyXbLD6c"
      }
    },
    {
      "cell_type": "code",
      "metadata": {
        "id": "FUo3kzkgPXv6"
      },
      "source": [
        "data.dtypes"
      ],
      "execution_count": null,
      "outputs": []
    },
    {
      "cell_type": "code",
      "metadata": {
        "id": "npNX1PElQA9B"
      },
      "source": [
        "data.shape"
      ],
      "execution_count": null,
      "outputs": []
    },
    {
      "cell_type": "code",
      "metadata": {
        "id": "7TpbmynIQu3a"
      },
      "source": [
        "data.isna().sum()"
      ],
      "execution_count": null,
      "outputs": []
    },
    {
      "cell_type": "markdown",
      "metadata": {
        "id": "f51_dxnJbH_B"
      },
      "source": [
        "Обработка пропусков в данных. Про удаление стобцов см. [здесь](https://riptutorial.com/ru/pandas/example/5621/%D1%83%D0%B4%D0%B0%D0%BB%D0%B5%D0%BD%D0%B8%D0%B5-%D1%81%D1%82%D0%BE%D0%BB%D0%B1%D1%86%D0%B0-%D0%B2-dataframe)."
      ]
    },
    {
      "cell_type": "code",
      "metadata": {
        "id": "UjlD7Z6YbJMg"
      },
      "source": [
        "data_new = data.drop(['WindGustSpd', 'PoorWeather', 'DR', 'SPD', 'SND', 'FT','FTI','FB','ITH','PGT','TSHDSBRSGF','SD3','RHX','RHN','RVG','WTE'], axis=1)"
      ],
      "execution_count": null,
      "outputs": []
    },
    {
      "cell_type": "code",
      "metadata": {
        "id": "lcubVk4ybREn"
      },
      "source": [
        "data_new.isna().sum()"
      ],
      "execution_count": null,
      "outputs": []
    },
    {
      "cell_type": "code",
      "source": [
        "data_new.dtypes"
      ],
      "metadata": {
        "id": "hop9VaaJTqPF"
      },
      "execution_count": null,
      "outputs": []
    },
    {
      "cell_type": "markdown",
      "source": [
        "Данные попали не чистые и в них встречаются мешающие данные, например значения `#VALUE!`:"
      ],
      "metadata": {
        "id": "E7lP_Y-ZUfHg"
      }
    },
    {
      "cell_type": "code",
      "source": [
        "data[\"Snowfall\"].unique()"
      ],
      "metadata": {
        "id": "O3bB7NKULZIy"
      },
      "execution_count": null,
      "outputs": []
    },
    {
      "cell_type": "markdown",
      "source": [
        "Приводим колонки к нужному типу за:"
      ],
      "metadata": {
        "id": "-QQKQCZUUX1J"
      }
    },
    {
      "cell_type": "code",
      "source": [
        "data_new.Snowfall = pd.to_numeric(data_new.Snowfall, downcast=\"float\", errors='coerce')\n",
        "data_new.PRCP = pd.to_numeric(data_new.PRCP, downcast=\"float\", errors='coerce')\n",
        "data_new.SNF = pd.to_numeric(data_new.SNF, downcast=\"float\", errors='coerce')\n",
        "data_new.Precip = pd.to_numeric(data_new.Precip, downcast=\"float\", errors='coerce')"
      ],
      "metadata": {
        "id": "V_8Ay-ZzTjqR"
      },
      "execution_count": null,
      "outputs": []
    },
    {
      "cell_type": "code",
      "source": [
        "data_new['Date'] =  pd.to_datetime(data_new['Date'], format=\"%Y-%m-%d\",\n",
        "                           utc=True)"
      ],
      "metadata": {
        "id": "Kya2hialU2Dp"
      },
      "execution_count": null,
      "outputs": []
    },
    {
      "cell_type": "code",
      "source": [
        "data_new.dtypes"
      ],
      "metadata": {
        "id": "wTN_Pu3aMP54"
      },
      "execution_count": null,
      "outputs": []
    },
    {
      "cell_type": "code",
      "metadata": {
        "id": "oeG5pwwxcTst"
      },
      "source": [
        "data_new = data_new.dropna(axis=0, how='any')\n",
        "data_new.isna().sum()"
      ],
      "execution_count": null,
      "outputs": []
    },
    {
      "cell_type": "code",
      "source": [
        "print(data_new.shape)\n",
        "print(data.shape)"
      ],
      "metadata": {
        "id": "UvC3soPZUMmC"
      },
      "execution_count": null,
      "outputs": []
    },
    {
      "cell_type": "code",
      "source": [
        "data = data_new"
      ],
      "metadata": {
        "id": "OrDtUQTQVeiT"
      },
      "execution_count": null,
      "outputs": []
    }
  ]
}