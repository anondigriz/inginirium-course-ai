{
  "nbformat": 4,
  "nbformat_minor": 0,
  "metadata": {
    "colab": {
      "name": "individual-work-dataset-2.ipynb",
      "provenance": [],
      "authorship_tag": "ABX9TyO9+9As9cOtbmwTZgFRkhgC"
    },
    "kernelspec": {
      "name": "python3",
      "display_name": "Python 3"
    },
    "language_info": {
      "name": "python"
    }
  },
  "cells": [
    {
      "cell_type": "markdown",
      "source": [
        "# Обнаружению присутствия людей в помещении"
      ],
      "metadata": {
        "id": "M8X2jjcR_8gN"
      }
    },
    {
      "cell_type": "markdown",
      "source": [
        "## Текстовое описание выбранного набора данных"
      ],
      "metadata": {
        "id": "lmhDHkwM_-J3"
      }
    },
    {
      "cell_type": "markdown",
      "source": [
        "В качестве набора данных мы будем использовать набор данных по обнаружению присутствия людей в помещении - [Occupancy Detection Data Set](https://archive.ics.uci.edu/ml/datasets/Occupancy+Detection+).\n",
        "\n",
        "Эта задача является очень актуальной для создания \"умных зданий\", которые выполняют все требования по кондиционированию воздуха, температурным условиям, но при этом экономят электроэнергию в том случае, если людей в помещении нет.\n",
        "\n",
        "Датасет состоит из трех файлов:\n",
        "\n",
        "* `datatraining.txt` - обучающая выборка (в этом примере используется только данный файл)\n",
        "* `datatest.txt` - тестовая выборка\n",
        "* `datatest2.txt` - тестовая выборка большего размера\n",
        "\n",
        "Каждый файл содержит следующие колонки:\n",
        "\n",
        "* `date` - дата-время в формате `ГОД-МЕСЯЦ-ДЕНЬ ЧАСЫ:МИНУТЫ:СЕКУНДЫ`. Набор данных содержит данные с интервалом измерения в минуту.\n",
        "* `Temperature` - температура в градусах Цельсия.\n",
        "* `Humidity` - относительная влажность в %.\n",
        "* `Light` - освещенность в Люксах.\n",
        "* `CO2` - концентрация углекислого газа в миллионных долях.\n",
        "* `HumidityRatio` - величина, производная от температуры и относительной влажности.\n",
        "* `Occupancy` - целевой признак. Если в помещении находятся люди то `1`, иначе `0`."
      ],
      "metadata": {
        "id": "sVKhqtacAAUH"
      }
    },
    {
      "cell_type": "markdown",
      "source": [
        "## Загрузка git-репозитория в текущее окружение"
      ],
      "metadata": {
        "id": "TCk_TjsGADa8"
      }
    },
    {
      "cell_type": "code",
      "source": [
        "%cd /content/\n",
        "!mkdir gitrepos\n",
        "%cd /content/gitrepos/\n",
        "!git clone https://github.com/anondigriz/inginirium-course-ai"
      ],
      "metadata": {
        "id": "soThAAk3AHtq"
      },
      "execution_count": null,
      "outputs": []
    },
    {
      "cell_type": "code",
      "source": [
        "!ls '/content/gitrepos/inginirium-course-ai/src/05-02-2022/datasets/Occupancy Detection Data Set' -l"
      ],
      "metadata": {
        "id": "mN3gLF1IAJXU"
      },
      "execution_count": null,
      "outputs": []
    },
    {
      "cell_type": "markdown",
      "source": [
        "## Загрузка датасета"
      ],
      "metadata": {
        "id": "7JZ1GUHMARTD"
      }
    },
    {
      "cell_type": "code",
      "source": [
        "import numpy as np\n",
        "import pandas as pd\n",
        "import seaborn as sns\n",
        "import matplotlib.pyplot as plt\n",
        "\n",
        "# 'Магическая' функция matplotlib\n",
        "%matplotlib inline \n",
        "\n",
        "# Есть пять предустановленная тем Seaborn: darkgrid, whitegrid, dark, white, \n",
        "# и ticks. Каждый из них подходит для различных приложений и личных предпочтений.\n",
        "sns.set(style=\"ticks\")"
      ],
      "metadata": {
        "id": "OhsEKfe7ASWZ"
      },
      "execution_count": null,
      "outputs": []
    },
    {
      "cell_type": "code",
      "source": [
        "# Если запуск блокнота не в Google Colab, то указать здесь папку, в которой располагается загруженный датасет\n",
        "CURENT_DIR = '/content/gitrepos/inginirium-course-ai/src/05-02-2022/datasets/Occupancy Detection Data Set'"
      ],
      "metadata": {
        "id": "M9zV3kuwAX17"
      },
      "execution_count": null,
      "outputs": []
    },
    {
      "cell_type": "code",
      "source": [
        "# загрузка данных из txt\n",
        "data = pd.read_csv(CURENT_DIR+'/datatraining.txt', sep=',')\n",
        "\n",
        "# изучение типа объекта, создаваемого функцией pd.read_csv\n",
        "print(type(data))\n",
        "\n",
        "# вывод первых 5 строк из датасета\n",
        "data.head()"
      ],
      "metadata": {
        "id": "CP0s0eU7AdmH"
      },
      "execution_count": null,
      "outputs": []
    },
    {
      "cell_type": "markdown",
      "source": [
        "## Исследование основных характеристик датасета"
      ],
      "metadata": {
        "id": "TAjuGjkNAhlM"
      }
    },
    {
      "cell_type": "markdown",
      "source": [
        "### Исследование внешних признаков датасета"
      ],
      "metadata": {
        "id": "MPp2rLYvAjDx"
      }
    },
    {
      "cell_type": "code",
      "source": [
        "data.dtypes"
      ],
      "metadata": {
        "id": "iV8hUJPkAkqo"
      },
      "execution_count": null,
      "outputs": []
    },
    {
      "cell_type": "code",
      "source": [
        "data.shape"
      ],
      "metadata": {
        "id": "vZeUfqI8ApxD"
      },
      "execution_count": null,
      "outputs": []
    },
    {
      "cell_type": "code",
      "source": [
        "data.isna().sum()"
      ],
      "metadata": {
        "id": "xAzdzGgNAr7i"
      },
      "execution_count": null,
      "outputs": []
    },
    {
      "cell_type": "code",
      "source": [
        "data.head()"
      ],
      "metadata": {
        "id": "KG3lSuNqBolO"
      },
      "execution_count": null,
      "outputs": []
    },
    {
      "cell_type": "markdown",
      "source": [
        "Преобразуем к нужному типу колонку `date`:"
      ],
      "metadata": {
        "id": "FPf-ZzFUBOG3"
      }
    },
    {
      "cell_type": "code",
      "source": [
        "data['date'] =  pd.to_datetime(data['date'])\n",
        "data.dtypes"
      ],
      "metadata": {
        "id": "nkcLGwm7A1v9"
      },
      "execution_count": null,
      "outputs": []
    }
  ]
}