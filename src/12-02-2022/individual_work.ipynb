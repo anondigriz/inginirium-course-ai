{
  "nbformat": 4,
  "nbformat_minor": 0,
  "metadata": {
    "colab": {
      "name": "individual_work.ipynb",
      "provenance": [],
      "authorship_tag": "ABX9TyN84Ub490d12GRC29Y7rirO"
    },
    "kernelspec": {
      "name": "python3",
      "display_name": "Python 3"
    },
    "language_info": {
      "name": "python"
    }
  },
  "cells": [
    {
      "cell_type": "markdown",
      "source": [
        "# Обработка пропусков в данных, кодирование категориальных признаков, масштабирование данных"
      ],
      "metadata": {
        "id": "BFQrwdJz-bme"
      }
    },
    {
      "cell_type": "markdown",
      "source": [
        "План:\n",
        "\n",
        "* Самостоятельная работа"
      ],
      "metadata": {
        "id": "Cxj1DlNs-qFa"
      }
    },
    {
      "cell_type": "markdown",
      "source": [
        "Дополнительный материал:\n",
        "\n",
        "* [Installing the Kaggle API in Colab](https://colab.research.google.com/github/corrieann/kaggle/blob/master/kaggle_api_in_colab.ipynb)"
      ],
      "metadata": {
        "id": "Oag5GFEE_7O3"
      }
    },
    {
      "cell_type": "markdown",
      "source": [
        "Задание:\n",
        "\n",
        "* Зарегистрироваться на [kaggle.com](https://www.kaggle.com/).\n",
        "* Выбрать набор данных (датасет), содержащий категориальные признаки и пропуски в данных. Для выполнения следующих пунктов можно использовать несколько различных наборов данных (один для обработки пропусков, другой для категориальных признаков и т.д.). Можно также воспользоваться датасетом, представленный в этом блокноте. \n",
        "* Для выбранного датасета (датасетов) на основе материалов лекции решить следующие задачи:\n",
        "  * обработку пропусков в данных;\n",
        "  * кодирование категориальных признаков.\n",
        "* С помощью библиотеки Seaborn и Matplotlib поверхностный разведочный анализ получившегося результата."
      ],
      "metadata": {
        "id": "nv9fMs1nLWSK"
      }
    },
    {
      "cell_type": "markdown",
      "source": [
        "## Загрузка датасета"
      ],
      "metadata": {
        "id": "cb60nxtj_Fmu"
      }
    },
    {
      "cell_type": "code",
      "source": [
        "!pip install kaggle"
      ],
      "metadata": {
        "id": "JWJ_FWd5ME2G"
      },
      "execution_count": null,
      "outputs": []
    },
    {
      "cell_type": "markdown",
      "source": [
        "Перейдите к https://www.kaggle.com. Затем перейдите на вкладку [Account tab of your user profile](https://www.kaggle.com/me/account) и выберите `Create API Token`. Это приведет к загрузке файла `kaggle.json`, содержащего ваши учетные данные API.\n",
        "\n",
        "\n",
        "Затем запустите ячейку ниже, чтобы загрузить `kaggle.json` для вашей среды выполнения `Colab`."
      ],
      "metadata": {
        "id": "JB8WjjvOMQCm"
      }
    },
    {
      "cell_type": "code",
      "source": [
        "from google.colab import files\n",
        "\n",
        "uploaded = files.upload()\n",
        "\n",
        "for fn in uploaded.keys():\n",
        "  print('User uploaded file \"{name}\" with length {length} bytes'.format(\n",
        "      name=fn, length=len(uploaded[fn])))\n",
        "  \n",
        "# Then move kaggle.json into the folder where the API expects to find it.\n",
        "!mkdir -p ~/.kaggle/ && mv kaggle.json ~/.kaggle/ && chmod 600 ~/.kaggle/kaggle.json"
      ],
      "metadata": {
        "id": "sTSAhTl-MIiz"
      },
      "execution_count": null,
      "outputs": []
    },
    {
      "cell_type": "markdown",
      "source": [
        "Нас интересует датасет [House Prices - Advanced Regression Techniques](https://www.kaggle.com/c/house-prices-advanced-regression-techniques/data?select=test.csv):"
      ],
      "metadata": {
        "id": "Q9MqDxa3M5FY"
      }
    },
    {
      "cell_type": "code",
      "source": [
        "!cd /content/\n",
        "!mkdir super-dataset\n",
        "!cd /content/super-dataset"
      ],
      "metadata": {
        "id": "Q-wwg-kiNJfA"
      },
      "execution_count": null,
      "outputs": []
    },
    {
      "cell_type": "code",
      "source": [
        "!kaggle competitions download -c house-prices-advanced-regression-techniques -p /content/super-dataset"
      ],
      "metadata": {
        "id": "crQ9BOVcLbkk"
      },
      "execution_count": null,
      "outputs": []
    },
    {
      "cell_type": "code",
      "source": [
        "import numpy as np\n",
        "import pandas as pd\n",
        "import seaborn as sns\n",
        "import matplotlib.pyplot as plt\n",
        "%matplotlib inline \n",
        "sns.set(style=\"ticks\")"
      ],
      "metadata": {
        "id": "iRALgPIr_V1z"
      },
      "execution_count": null,
      "outputs": []
    },
    {
      "cell_type": "markdown",
      "source": [
        "Грузим через pandas наш датасет:"
      ],
      "metadata": {
        "id": "SNRSO7zyO0yZ"
      }
    },
    {
      "cell_type": "code",
      "source": [
        "data = pd.read_csv('/content/super-dataset/train.csv', sep=\",\")"
      ],
      "metadata": {
        "id": "c-SE37wgOU4P"
      },
      "execution_count": null,
      "outputs": []
    },
    {
      "cell_type": "code",
      "source": [
        "data.head()"
      ],
      "metadata": {
        "id": "i1ET2aCU_ZsS"
      },
      "execution_count": null,
      "outputs": []
    }
  ]
}