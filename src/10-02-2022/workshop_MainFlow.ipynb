{
  "nbformat": 4,
  "nbformat_minor": 0,
  "metadata": {
    "colab": {
      "name": "workshop_MainFlow.ipynb",
      "provenance": [],
      "collapsed_sections": [],
      "toc_visible": true
    },
    "kernelspec": {
      "name": "python3",
      "display_name": "Python 3"
    }
  },
  "cells": [
    {
      "cell_type": "markdown",
      "source": [
        "# Обработка пропусков в данных, кодирование категориальных признаков, масштабирование данных"
      ],
      "metadata": {
        "id": "YrPyBtbOwIj2"
      }
    },
    {
      "cell_type": "markdown",
      "metadata": {
        "id": "oaDPQu6z1m8I"
      },
      "source": [
        "План занятия:\n",
        "\n",
        "* Обработка пропусков в данных\n",
        "* Преобразование категориальных признаков в числовые\n",
        "* Масштабирование и нормализация данных"
      ]
    },
    {
      "cell_type": "markdown",
      "source": [
        "Дополнительный материал:\n",
        "\n",
        "* [Preprocessing data](https://scikit-learn.org/stable/modules/preprocessing.html)\n",
        "* [Encoding Categorical Features](https://towardsdatascience.com/encoding-categorical-features-21a2651a065c)\n",
        "* [Data Cleaning Challenge: Handling missing values](https://www.kaggle.com/rtatman/data-cleaning-challenge-handling-missing-values)\n",
        "* [Отличия LabelEncoder и OneHotEncoder в SciKit Learn](https://habr.com/ru/post/456294/)"
      ],
      "metadata": {
        "id": "u8yWqojbwn7T"
      }
    },
    {
      "cell_type": "markdown",
      "source": [
        "Для подготовки использовался [блокнот](https://github.com/ugapanyuk/ml_course_2021/blob/main/common/notebooks/missing/handling_missing_norm.ipynb) за авторством Ю.Е. Гапанюка. Также использовался материал с ресурса [blog.datalytica.ru](http://blog.datalytica.ru/2018/04/blog-post.html).\n",
        "\n",
        "Все права сохранены за авторами блокнтотов и ресурсов.\n",
        "\n"
      ],
      "metadata": {
        "id": "NGEcUW4-vhc1"
      }
    },
    {
      "cell_type": "markdown",
      "source": [
        "## Проблема предобработки данных"
      ],
      "metadata": {
        "id": "KRqci8lMxine"
      }
    },
    {
      "cell_type": "markdown",
      "metadata": {
        "id": "DRHqo1gqlkuz"
      },
      "source": [
        "В чем состоит проблема:\n",
        "\n",
        "* Если в данных есть пропуски, то большинство алгоритмов машинного обучения не будут с ними работать. Даже корреляционная матрица не будет строиться корректно.\n",
        "* Большинство алгоритмов машинного обучения требуют явного перекодирования категориальных признаков в числовые. Даже если алгоритм не требует этого явно, такое перекодирование возможно стоит попробовать, чтобы повысить качество модели.\n",
        "* Большинство алгоритмов показывает лучшее качество на отмасштабированных признаках, в особенности алгоритмы, использующие методы градиентного спуска."
      ]
    },
    {
      "cell_type": "markdown",
      "source": [
        "## Загрузка и первичный анализ данных"
      ],
      "metadata": {
        "id": "PmjNv2x1yRjW"
      }
    },
    {
      "cell_type": "markdown",
      "metadata": {
        "id": "Ecem5ZENnvOj"
      },
      "source": [
        "\n",
        "\n",
        "В качестве примера возьмем датасет «Automobile Data Set» с ресурса [UCI Machine Learning Repository](https://archive.ics.uci.edu/ml/datasets/Automobile)."
      ]
    },
    {
      "cell_type": "code",
      "metadata": {
        "id": "sy8so0mmigp-"
      },
      "source": [
        "import numpy as np\n",
        "import pandas as pd\n",
        "import seaborn as sns\n",
        "import matplotlib.pyplot as plt\n",
        "\n",
        "# 'Магическая' функция matplotlib\n",
        "%matplotlib inline \n",
        "\n",
        "# Есть пять предустановленная тем Seaborn: darkgrid, whitegrid, dark, white, \n",
        "# и ticks. Каждый из них подходит для различных приложений и личных предпочтений.\n",
        "sns.set(style=\"ticks\")"
      ],
      "execution_count": null,
      "outputs": []
    },
    {
      "cell_type": "markdown",
      "metadata": {
        "id": "p1pwzx1ZmxCK"
      },
      "source": [
        "Загрузим датасет:"
      ]
    },
    {
      "cell_type": "code",
      "metadata": {
        "id": "iG288l5imzxE"
      },
      "source": [
        "url = \"https://archive.ics.uci.edu/ml/machine-learning-databases/autos/imports-85.data\"\n",
        "names = ['symboling', 'normalized-losses', 'make', 'fuel-type', 'aspiration', \n",
        "         'num-of-doors','body-style','drive-wheels','engine-location','wheel-base',\n",
        "         'length','width','height','curb-weight','engine-type',\n",
        "         'num-of-cylinders', 'engine-size','fuel-system','bore','stroke',\n",
        "         'compression-ratio','horsepower','peak-rpm','city-mpg','highway-mpg',\n",
        "         'price']\n",
        "data = pd.read_csv(url, names=names)\n",
        "print(data.shape)\n",
        "data.head()"
      ],
      "execution_count": null,
      "outputs": []
    },
    {
      "cell_type": "code",
      "metadata": {
        "id": "Kxkjv8pMsexO"
      },
      "source": [
        "data.dtypes"
      ],
      "execution_count": null,
      "outputs": []
    },
    {
      "cell_type": "markdown",
      "source": [
        "Количество уникальных значений для каждого столбца:"
      ],
      "metadata": {
        "id": "dOt9AjKbcWP6"
      }
    },
    {
      "cell_type": "code",
      "metadata": {
        "id": "4LeMgs3yozsv"
      },
      "source": [
        "data.nunique()"
      ],
      "execution_count": null,
      "outputs": []
    },
    {
      "cell_type": "markdown",
      "metadata": {
        "id": "8pR60ckRpASV"
      },
      "source": [
        "Было бы неплохо увидеть информацию о количестве каждого уникального значения для каждого столбца в наборе данных:"
      ]
    },
    {
      "cell_type": "code",
      "metadata": {
        "id": "nz7rGPpKpGtD"
      },
      "source": [
        "for col in data.columns:\n",
        "    print('{} - {}'.format(col, data[col].unique()))"
      ],
      "execution_count": null,
      "outputs": []
    },
    {
      "cell_type": "markdown",
      "source": [
        "Но лучше такое не делать, когда у нас много уникальных значений. Все равно все значения сходу просмотреть не удастся =)"
      ],
      "metadata": {
        "id": "UR_q2yIdCmKf"
      }
    },
    {
      "cell_type": "markdown",
      "metadata": {
        "id": "oKpUTXU1pUj1"
      },
      "source": [
        "Большинство столбцов выглядят хорошо, но есть несколько нуждающихся в очистке и нормализации. Примеры некорректных значений данных ниже.\n",
        "\n",
        "* Строки имеют символ '?', обозначающий пропуск.\n",
        "* Имеются категориальные признаки `'four' 'six' 'five' 'three' 'twelve' 'two' 'eight'`.\n",
        "* `price` типа `object`."
      ]
    },
    {
      "cell_type": "markdown",
      "metadata": {
        "id": "WWoJhMZrsVmE"
      },
      "source": [
        "## Замена '?' на None"
      ]
    },
    {
      "cell_type": "code",
      "metadata": {
        "id": "uBzdZmBvsbDU"
      },
      "source": [
        "data = data.replace({'?' : None })\n",
        "data.head()"
      ],
      "execution_count": null,
      "outputs": []
    },
    {
      "cell_type": "markdown",
      "metadata": {
        "id": "YLtdyo8E1d6a"
      },
      "source": [
        "## Приведение колонок к нужным типам"
      ]
    },
    {
      "cell_type": "code",
      "source": [
        "data.dtypes"
      ],
      "metadata": {
        "id": "4luIQCXaxM-z"
      },
      "execution_count": null,
      "outputs": []
    },
    {
      "cell_type": "markdown",
      "metadata": {
        "id": "y2jZSMsqG6fj"
      },
      "source": [
        "Видим, что колонка `\"price\"` имеет неправильный тип. Для исправления этого воспользуемся [`pandas.DataFrame.astype`](https://pandas.pydata.org/pandas-docs/stable/reference/api/pandas.DataFrame.astype.html#pandas-dataframe-astype)"
      ]
    },
    {
      "cell_type": "code",
      "source": [
        "data['price'] =  pd.to_numeric(data['price'], errors='coerce')\n",
        "data['peak-rpm'] =  pd.to_numeric(data['peak-rpm'], errors='coerce')\n",
        "data['horsepower'] =  pd.to_numeric(data['horsepower'], errors='coerce')\n",
        "data['stroke'] =  pd.to_numeric(data['stroke'], errors='coerce')\n",
        "data['bore'] =  pd.to_numeric(data['bore'], errors='coerce')\n",
        "\n",
        "data.dtypes"
      ],
      "metadata": {
        "id": "bkI_BeF4tVM9"
      },
      "execution_count": null,
      "outputs": []
    },
    {
      "cell_type": "markdown",
      "metadata": {
        "id": "jta3vfDiD178"
      },
      "source": [
        "Итоговый результат будет таковым:"
      ]
    },
    {
      "cell_type": "code",
      "metadata": {
        "id": "oj0yggpPDzHX"
      },
      "source": [
        "data.head()"
      ],
      "execution_count": null,
      "outputs": []
    },
    {
      "cell_type": "markdown",
      "metadata": {
        "id": "zQ74PBgEqo18"
      },
      "source": [
        "\n",
        "\n",
        "Зачастую не существует шаблонных подходов к этой задаче, поскольку подходы во многом зависит от контекста и характера данных. Например, являются ли данные случайными пропусками или же есть скрытая связь между пропусками и некоторым другим записями в обучающем примере?\n",
        "\n",
        "Один из способов простых способов решения этой проблемы - просто игнорировать или удалять строки, в которых отсутствуют данные, выбрасывая их из нашего анализа. Однако этот метод может быть плох из-за потери информации.\n",
        "\n",
        "Еще один способ — это заполнение пропусков, где мы заменяем отсутствующее значение каким-либо образом. Базовые реализации просто заменят все отсутствующие значения средним, медианным, либо же константой."
      ]
    },
    {
      "cell_type": "markdown",
      "source": [
        "## Обработка пропусков в данных"
      ],
      "metadata": {
        "id": "v9ndpsInnzTz"
      }
    },
    {
      "cell_type": "markdown",
      "metadata": {
        "id": "Z-881Kb8slUn"
      },
      "source": [
        "### Удаление колонок, содержащих пустые значения"
      ]
    },
    {
      "cell_type": "code",
      "metadata": {
        "id": "ZNzDGzIyuckw"
      },
      "source": [
        "data.isna().sum()"
      ],
      "execution_count": null,
      "outputs": []
    },
    {
      "cell_type": "markdown",
      "source": [
        "Удаление колонок, содержащих пустые значения:"
      ],
      "metadata": {
        "id": "iRB5ZRSoceKi"
      }
    },
    {
      "cell_type": "code",
      "metadata": {
        "id": "FieoEAepsiuz"
      },
      "source": [
        "data_new_1 = data.dropna(axis=1, how='any')\n",
        "(data.shape, data_new_1.shape)"
      ],
      "execution_count": null,
      "outputs": []
    },
    {
      "cell_type": "code",
      "metadata": {
        "id": "aHwc7qjNuYEL"
      },
      "source": [
        "data_new_1.isna().sum()"
      ],
      "execution_count": null,
      "outputs": []
    },
    {
      "cell_type": "markdown",
      "metadata": {
        "id": "KWP2EltYt-SO"
      },
      "source": [
        "### Удаление строк, содержащих пустые значения"
      ]
    },
    {
      "cell_type": "code",
      "metadata": {
        "id": "5bSx9rJFsRkZ"
      },
      "source": [
        "data_new_2 = data.dropna(axis=0, how='any')\n",
        "(data.shape, data_new_2.shape)"
      ],
      "execution_count": null,
      "outputs": []
    },
    {
      "cell_type": "code",
      "metadata": {
        "id": "vz9fZHlWtlK6"
      },
      "source": [
        "data_new_2.isna().sum()"
      ],
      "execution_count": null,
      "outputs": []
    },
    {
      "cell_type": "markdown",
      "metadata": {
        "id": "CXwrMzxJuvhg"
      },
      "source": [
        "### Заполнение всех пропущенных значений нулями"
      ]
    },
    {
      "cell_type": "markdown",
      "source": [
        "Заполнение всех пустых ячеек одним значением может быть некорректно, так как пустые ячейки могут содержаться в категориальных колонках."
      ],
      "metadata": {
        "id": "-_ZnAquVB9xN"
      }
    },
    {
      "cell_type": "code",
      "metadata": {
        "id": "sYJTKuFkuwpj"
      },
      "source": [
        "data_new_3 = data.fillna(0)\n",
        "data_new_3.isnull().sum()"
      ],
      "execution_count": null,
      "outputs": []
    },
    {
      "cell_type": "markdown",
      "source": [
        "### \"Внедрение значений\" - импьютация (imputation)"
      ],
      "metadata": {
        "id": "V_AM3StGEsMC"
      }
    },
    {
      "cell_type": "markdown",
      "source": [
        "#### Обработка пропусков в числовых данных"
      ],
      "metadata": {
        "id": "PInjU_6AE6y7"
      }
    },
    {
      "cell_type": "markdown",
      "source": [
        "Выберем числовые колонки с пропущенными значениями. \n",
        "\n",
        "Сначала подготовим функцию, которая будет возвращать названия колонок датасета типа `float64` или `int64`, содержащие пустые значения:"
      ],
      "metadata": {
        "id": "-kS8yDuZcsZy"
      }
    },
    {
      "cell_type": "code",
      "source": [
        "def get_columns_with_null_numbers(data):\n",
        "  num_cols = []\n",
        "  for col in data.columns:\n",
        "    # Количество пустых значений \n",
        "    temp_null_count = data[data[col].isnull()].shape[0]\n",
        "    total_count = data.shape[0]\n",
        "    dt = str(data[col].dtype)\n",
        "    if temp_null_count>0 and (dt=='float64' or dt=='int64'):\n",
        "      num_cols.append(col)\n",
        "      temp_perc = round((temp_null_count / total_count) * 100.0, 2)\n",
        "      print(f'''Колонка {col}. Тип данных {dt}. Количество пустых значений {temp_null_count}, {temp_perc}%.''')\n",
        "  return num_cols"
      ],
      "metadata": {
        "id": "KSl6P_u3E_k5"
      },
      "execution_count": null,
      "outputs": []
    },
    {
      "cell_type": "markdown",
      "source": [
        "Фильтр по колонкам с пропущенными значениями:"
      ],
      "metadata": {
        "id": "sXh778VfcQN1"
      }
    },
    {
      "cell_type": "code",
      "source": [
        "data_num = data[get_columns_with_null_numbers(data)]\n",
        "data_num.head()"
      ],
      "metadata": {
        "id": "5_8de27FKCHZ"
      },
      "execution_count": null,
      "outputs": []
    },
    {
      "cell_type": "markdown",
      "source": [
        "Построем гистограмму по признакам, которые содержат пустые значения:\n"
      ],
      "metadata": {
        "id": "rwmKlbTwddtH"
      }
    },
    {
      "cell_type": "code",
      "source": [
        "col = get_columns_with_null_numbers(data)\n",
        "for col in data_num:\n",
        "    plt.hist(data[col], 50)\n",
        "    plt.xlabel(col)\n",
        "    plt.show()"
      ],
      "metadata": {
        "id": "6H4UqNkTPOWM"
      },
      "execution_count": null,
      "outputs": []
    },
    {
      "cell_type": "markdown",
      "source": [
        "Будем использовать встроенные [средства импьютации библиотеки scikit-learn](https://scikit-learn.org/stable/modules/impute.html).\n"
      ],
      "metadata": {
        "id": "ppaHXlZuSFIJ"
      }
    },
    {
      "cell_type": "markdown",
      "source": [
        "Сначала вытащим представление колонки, которое хотим обработать:"
      ],
      "metadata": {
        "id": "o0t0EtPZSdJp"
      }
    },
    {
      "cell_type": "code",
      "source": [
        "data_num_price = data_num[['price']]\n",
        "data_num_price.head()"
      ],
      "metadata": {
        "id": "VQyTCZMmSUuU"
      },
      "execution_count": null,
      "outputs": []
    },
    {
      "cell_type": "markdown",
      "source": [
        "Фильтр для проверки заполнения пустых значений"
      ],
      "metadata": {
        "id": "aHuTLfMYZN7e"
      }
    },
    {
      "cell_type": "code",
      "source": [
        "from sklearn.impute import SimpleImputer\n",
        "from sklearn.impute import MissingIndicator"
      ],
      "metadata": {
        "id": "z4rg_1TvZOkG"
      },
      "execution_count": null,
      "outputs": []
    },
    {
      "cell_type": "code",
      "source": [
        "indicator = MissingIndicator()\n",
        "mask_missing_values_only = indicator.fit_transform(data_num_price)"
      ],
      "metadata": {
        "id": "bbPYZ1juZdBx"
      },
      "execution_count": null,
      "outputs": []
    },
    {
      "cell_type": "code",
      "source": [
        "np.sum(mask_missing_values_only)"
      ],
      "metadata": {
        "id": "Rj2OD6-wapb2"
      },
      "execution_count": null,
      "outputs": []
    },
    {
      "cell_type": "markdown",
      "source": [
        "С помощью класса [SimpleImputer](https://scikit-learn.org/stable/modules/generated/sklearn.impute.SimpleImputer.html) можно проводить импьютацию различными показателями [центра распределения](https://ru.wikipedia.org/wiki/%D0%9F%D0%BE%D0%BA%D0%B0%D0%B7%D0%B0%D1%82%D0%B5%D0%BB%D0%B8_%D1%86%D0%B5%D0%BD%D1%82%D1%80%D0%B0_%D1%80%D0%B0%D1%81%D0%BF%D1%80%D0%B5%D0%B4%D0%B5%D0%BB%D0%B5%D0%BD%D0%B8%D1%8F):"
      ],
      "metadata": {
        "id": "nq0smMAJZm-F"
      }
    },
    {
      "cell_type": "code",
      "source": [
        "strategies=['mean', 'median', 'most_frequent']"
      ],
      "metadata": {
        "id": "Kl7FZSN5Z4-B"
      },
      "execution_count": null,
      "outputs": []
    },
    {
      "cell_type": "markdown",
      "source": [
        "Виды [стратегий](https://scikit-learn.org/stable/modules/generated/sklearn.impute.SimpleImputer.html) внедрений значений:\n",
        "\n",
        "* Если `mean`, то преобразование заменит отсутствующие значения, используя среднее значение по каждому столбцу. Может использоваться только с числовыми данными.\n",
        "* Если `median`, то преобразование заменит отсутствующие значения, используя медиану по каждому столбцу. Может использоваться только с числовыми данными.\n",
        "* Если `most_frequent`, то преобразование заменит отсутствующие значения, используя наиболее частое значение в каждом столбце. Может использоваться со строками или числовыми данными. Если таких значений несколько, возвращается только наименьшее.\n",
        "* Если `constant`,  то преобразование заменит отсутствующие значения на `fill_value`. Может использоваться со строками или числовыми данными."
      ],
      "metadata": {
        "id": "G6AxvyeQbM5x"
      }
    },
    {
      "cell_type": "code",
      "source": [
        "def test_num_impute(strategy_param, column, mask_missing_values):\n",
        "    imp_num = SimpleImputer(strategy=strategy_param)\n",
        "    data_num_imp = imp_num.fit_transform(column)\n",
        "    return data_num_imp[mask_missing_values]"
      ],
      "metadata": {
        "id": "w1jwDRbZZ9Cd"
      },
      "execution_count": null,
      "outputs": []
    },
    {
      "cell_type": "markdown",
      "source": [
        "Стратегия `mean`:"
      ],
      "metadata": {
        "id": "gOThrR7LbIJP"
      }
    },
    {
      "cell_type": "code",
      "source": [
        "test_num_impute(strategies[0], data_num_price, mask_missing_values_only)"
      ],
      "metadata": {
        "id": "96coTtDIZ_V1"
      },
      "execution_count": null,
      "outputs": []
    },
    {
      "cell_type": "markdown",
      "source": [
        "Стратегия `median`:"
      ],
      "metadata": {
        "id": "GEJZXE9JekxM"
      }
    },
    {
      "cell_type": "code",
      "source": [
        "test_num_impute(strategies[1], data_num_price, mask_missing_values_only)"
      ],
      "metadata": {
        "id": "OP1KnkohelIO"
      },
      "execution_count": null,
      "outputs": []
    },
    {
      "cell_type": "markdown",
      "source": [
        "Стратегия `most_frequent`:"
      ],
      "metadata": {
        "id": "UKO410SQfGDa"
      }
    },
    {
      "cell_type": "code",
      "source": [
        "test_num_impute(strategies[2], data_num_price, mask_missing_values_only)"
      ],
      "metadata": {
        "id": "5BXROR_qfCB4"
      },
      "execution_count": null,
      "outputs": []
    },
    {
      "cell_type": "markdown",
      "source": [
        "Крассивая функция для просмотра стратегии:"
      ],
      "metadata": {
        "id": "lQyn1gJffWwB"
      }
    },
    {
      "cell_type": "code",
      "source": [
        "def test_num_impute_col(dataset, column, strategy_param):\n",
        "    temp_data = dataset[[column]]\n",
        "    \n",
        "    indicator = MissingIndicator()\n",
        "    mask_missing_values_only = indicator.fit_transform(temp_data)\n",
        "    \n",
        "    imp_num = SimpleImputer(strategy=strategy_param)\n",
        "    data_num_imp = imp_num.fit_transform(temp_data)\n",
        "    \n",
        "    filled_data = data_num_imp[mask_missing_values_only]\n",
        "    \n",
        "    return column, strategy_param, filled_data.size, filled_data[0], filled_data[filled_data.size-1]"
      ],
      "metadata": {
        "id": "yCfCglTPfctq"
      },
      "execution_count": null,
      "outputs": []
    },
    {
      "cell_type": "code",
      "source": [
        "data[['horsepower']].describe()"
      ],
      "metadata": {
        "id": "-NwmyUOKf_Fz"
      },
      "execution_count": null,
      "outputs": []
    },
    {
      "cell_type": "code",
      "source": [
        "test_num_impute_col(data, 'horsepower', strategies[0])"
      ],
      "metadata": {
        "id": "X86ZAuongOCf"
      },
      "execution_count": null,
      "outputs": []
    },
    {
      "cell_type": "code",
      "source": [
        "test_num_impute_col(data, 'horsepower', strategies[1])"
      ],
      "metadata": {
        "id": "KF9okRw6gpBc"
      },
      "execution_count": null,
      "outputs": []
    },
    {
      "cell_type": "code",
      "source": [
        "test_num_impute_col(data, 'horsepower', strategies[2])"
      ],
      "metadata": {
        "id": "VB9k0mqugqpM"
      },
      "execution_count": null,
      "outputs": []
    },
    {
      "cell_type": "markdown",
      "source": [
        "#### Обработка пропусков в категориальных данных"
      ],
      "metadata": {
        "id": "eBDr_IwwhQq8"
      }
    },
    {
      "cell_type": "markdown",
      "source": [
        "Выберем категориальные колонки с пропущенными значениями. \n",
        "\n",
        "Сначала подготовим функцию, которая будет возвращать названия колонок датасета типа `object`, содержащие пустые значения:"
      ],
      "metadata": {
        "id": "rzy5mTPjlKcw"
      }
    },
    {
      "cell_type": "code",
      "source": [
        "def get_columns_with_null_strings(data):\n",
        "  total_count = data.shape[0]\n",
        "  cat_cols = []\n",
        "  for col in data.columns:\n",
        "    # Количество пустых значений \n",
        "    temp_null_count = data[data[col].isnull()].shape[0]\n",
        "    dt = str(data[col].dtype)\n",
        "    if temp_null_count>0 and (dt=='object'):\n",
        "      cat_cols.append(col)\n",
        "      temp_perc = round((temp_null_count / total_count) * 100.0, 2)\n",
        "      print(f'''Колонка {col}. Тип данных {dt}. Количество пустых значений {temp_null_count}, {temp_perc}%.''')\n",
        "  return cat_cols"
      ],
      "metadata": {
        "id": "uTzjESvBid7o"
      },
      "execution_count": null,
      "outputs": []
    },
    {
      "cell_type": "code",
      "source": [
        "cat_cols = get_columns_with_null_strings(data)\n",
        "cat_cols"
      ],
      "metadata": {
        "id": "KDHRrtVti4l4"
      },
      "execution_count": null,
      "outputs": []
    },
    {
      "cell_type": "markdown",
      "source": [
        "Класс SimpleImputer можно использовать для категориальных признаков со стратегиями `most_frequent` или `constant`."
      ],
      "metadata": {
        "id": "RTTEo0eIllWW"
      }
    },
    {
      "cell_type": "code",
      "source": [
        "cat_temp_data = data[['num-of-doors']]\n",
        "cat_temp_data.head()"
      ],
      "metadata": {
        "id": "KMcrZm4ymJ5c"
      },
      "execution_count": null,
      "outputs": []
    },
    {
      "cell_type": "code",
      "source": [
        "data['num-of-doors'].unique()"
      ],
      "metadata": {
        "id": "2TM4Cx_0mNgb"
      },
      "execution_count": null,
      "outputs": []
    },
    {
      "cell_type": "code",
      "source": [
        "cat_temp_data[cat_temp_data['num-of-doors'].isnull()].shape"
      ],
      "metadata": {
        "id": "OIBm9EVjpwUi"
      },
      "execution_count": null,
      "outputs": []
    },
    {
      "cell_type": "markdown",
      "source": [
        "Импьютация наиболее частыми значениями:"
      ],
      "metadata": {
        "id": "0B340LxQqLDF"
      }
    },
    {
      "cell_type": "code",
      "source": [
        "imp2 = SimpleImputer(missing_values=None, strategy='most_frequent')\n",
        "data_imp2 = imp2.fit_transform(cat_temp_data)\n",
        "np.unique(data_imp2)"
      ],
      "metadata": {
        "id": "z4oiM3x1qANu"
      },
      "execution_count": null,
      "outputs": []
    },
    {
      "cell_type": "markdown",
      "source": [
        "Импьютация константой:"
      ],
      "metadata": {
        "id": "jzA4ghG8rZ3n"
      }
    },
    {
      "cell_type": "code",
      "source": [
        "imp3 = SimpleImputer(missing_values=None, strategy='constant', fill_value='NA')\n",
        "data_imp3 = imp3.fit_transform(cat_temp_data)\n",
        "np.unique(data_imp3) # Пустые значения отсутствуют"
      ],
      "metadata": {
        "id": "3vd6rVEvrcs4"
      },
      "execution_count": null,
      "outputs": []
    },
    {
      "cell_type": "markdown",
      "source": [
        "## Преобразование категориальных признаков в числовые"
      ],
      "metadata": {
        "id": "D-xC1NdXyZrp"
      }
    },
    {
      "cell_type": "markdown",
      "metadata": {
        "id": "ARCPIonMqAIw"
      },
      "source": [
        "\n",
        "\n",
        "Многие алгоритмы машинного обучения ожидают числовые входные данные, поэтому нам нужно выяснить способ представления наших категориальных данных численным образом.\n",
        "\n",
        "\n"
      ]
    },
    {
      "cell_type": "markdown",
      "source": [
        "### Кодирование категорий целочисленными значениями - label encoding"
      ],
      "metadata": {
        "id": "Si3bKnSqyb3E"
      }
    },
    {
      "cell_type": "markdown",
      "metadata": {
        "id": "2U6i86uZrG-4"
      },
      "source": [
        "\n",
        "\n",
        "Для кодирования категориальных признаков мы также можем воспользоваться произвольным присвоением числового значения для каждой категории и отображение набора данных из исходных категорий в каждое соответствующее число."
      ]
    },
    {
      "cell_type": "code",
      "metadata": {
        "id": "bqL65DOfq1Z6"
      },
      "source": [
        "data = data.replace({'eight':8,'five':5,'four':4,'six':6, 'three':3, 'twelve':12, 'two':2})\n",
        "data.head()"
      ],
      "execution_count": null,
      "outputs": []
    },
    {
      "cell_type": "code",
      "metadata": {
        "id": "rrAaA0u7tI5A"
      },
      "source": [
        "data['num-of-doors'].unique()"
      ],
      "execution_count": null,
      "outputs": []
    },
    {
      "cell_type": "markdown",
      "metadata": {
        "id": "COXISZ6ZwiAz"
      },
      "source": [
        "Этот процесс известен как `Label Encoding` и `sklearn` может сделать это за нас. Воспользуемся [`sklearn.preprocessing.LabelEncoder`](https://scikit-learn.org/0.21/modules/generated/sklearn.preprocessing.LabelEncoder.html):"
      ]
    },
    {
      "cell_type": "code",
      "metadata": {
        "id": "cbzuAj5tzbtL"
      },
      "source": [
        "from sklearn.preprocessing import LabelEncoder\n",
        "\n",
        "LebEncoders = {'make' : LabelEncoder(), 'fuel-system' : LabelEncoder(),\n",
        "               'body-style' : LabelEncoder(), 'fuel-type' : LabelEncoder(),\n",
        "               'aspiration' : LabelEncoder(), 'drive-wheels' : LabelEncoder(),\n",
        "               'engine-location' : LabelEncoder(), 'engine-type': LabelEncoder()\n",
        "               }\n",
        "\n",
        "# LabelEncoder может использоваться для нормализации меток (кодирование меток со значением от 0 до n_classes-1)\n",
        "col_le_make = LebEncoders['make'].fit_transform(data['make']) # взять исходные метки и вернуть зашифрованные надписи\n",
        "np.unique(col_le_make)"
      ],
      "execution_count": null,
      "outputs": []
    },
    {
      "cell_type": "code",
      "metadata": {
        "id": "Ga2eesJxGtwO"
      },
      "source": [
        "col_le_make[:10]"
      ],
      "execution_count": null,
      "outputs": []
    },
    {
      "cell_type": "code",
      "metadata": {
        "id": "o05vFtnZGZQl"
      },
      "source": [
        "# преобразовать метки обратно в оригинальную кодировку\n",
        "LebEncoders['make'].inverse_transform(col_le_make)[:10]"
      ],
      "execution_count": null,
      "outputs": []
    },
    {
      "cell_type": "code",
      "metadata": {
        "id": "RTb6v8TJzgYT"
      },
      "source": [
        "data_new = data.copy()\n",
        "\n",
        "# Заменяем столбцы нашим энкодером\n",
        "for col in LebEncoders:\n",
        "    data_new[col] = LebEncoders[col].fit_transform(data[col])\n",
        "\n",
        "data_new.head()"
      ],
      "execution_count": null,
      "outputs": []
    },
    {
      "cell_type": "markdown",
      "source": [
        "### Кодирование категорий наборами бинарных значений - one-hot encoding"
      ],
      "metadata": {
        "id": "1-JVHoSdyiTy"
      }
    },
    {
      "cell_type": "markdown",
      "source": [
        "в зависимости от имеющихся у нас данных мы можем столкнуться с ситуацией, когда после кодирования признаков наша модель запутается, ложно предположив, что данные связаны порядком или иерархией, которого на самом деле нет. Чтобы этого избежать мы воспользуемся `OneHotEncoder`.\n",
        "\n",
        "\n",
        "Этот кодировщик берёт столбец с категориальными данными, который был предварительно закодирован в признак, и создаёт для него несколько новых столбцов. Числа заменяются на единицы и нули, в зависимости от того, какому столбцу какое значение присуще."
      ],
      "metadata": {
        "id": "vCrEIkhX73Fx"
      }
    },
    {
      "cell_type": "code",
      "source": [
        "from sklearn.preprocessing import OneHotEncoder\n",
        "\n",
        "# взять исходные метки и вернуть зашифрованные надписи\n",
        "ohe = OneHotEncoder()\n",
        "col_oh_make = ohe.fit_transform(data[['make']]) \n",
        "col_oh_make"
      ],
      "metadata": {
        "id": "9px6PdZ06KR2"
      },
      "execution_count": null,
      "outputs": []
    },
    {
      "cell_type": "code",
      "source": [
        "col_oh_make.shape"
      ],
      "metadata": {
        "id": "CKsn06Tc7Wty"
      },
      "execution_count": null,
      "outputs": []
    },
    {
      "cell_type": "code",
      "source": [
        "col_oh_make.todense()[0:10]"
      ],
      "metadata": {
        "id": "b6jeZ6WO7bDA"
      },
      "execution_count": null,
      "outputs": []
    },
    {
      "cell_type": "markdown",
      "source": [
        "Быстрый вариант one-hot кодирования через метод [`pandas.get_dummies`](https://pandas.pydata.org/pandas-docs/stable/reference/api/pandas.get_dummies.html): "
      ],
      "metadata": {
        "id": "2_jpekc89C1L"
      }
    },
    {
      "cell_type": "code",
      "source": [
        "pd.get_dummies(data[['make']]).head()"
      ],
      "metadata": {
        "id": "CDYX03Ew9E_d"
      },
      "execution_count": null,
      "outputs": []
    },
    {
      "cell_type": "markdown",
      "source": [
        "Добавить столбец для указания `NaN`:"
      ],
      "metadata": {
        "id": "tjnSnndi9iU8"
      }
    },
    {
      "cell_type": "code",
      "source": [
        "pd.get_dummies(data[['make']], dummy_na=True).head()"
      ],
      "metadata": {
        "id": "l4ERrOer9T_4"
      },
      "execution_count": null,
      "outputs": []
    },
    {
      "cell_type": "markdown",
      "source": [
        "## Масштабирование и нормализация данных"
      ],
      "metadata": {
        "id": "R2H8Nn0I2mvn"
      }
    },
    {
      "cell_type": "markdown",
      "source": [
        "Термины \"масштабирование\" и \"нормализация\" часто используются как синонимы. Масштабирование предполагает изменение диапазона измерения величины, а нормализация - изменение распределения этой величины.\n",
        "\n",
        "Подробнее можно ознакомиться по ссылкам:\n",
        "\n",
        "* [Блокнот](https://github.com/ugapanyuk/ml_course_2021/blob/main/common/notebooks/missing/handling_missing_norm.ipynb) Ю.Е. Гапанюка\n",
        "* [Что такое Scikit Learn - гайд по популярной библиотеке Python для начинающих](https://datastart.ru/blog/read/chto-takoe-scikit-learn-gayd-po-populyarnoy-biblioteke-python-dlya-nachinayuschih)\n",
        "* [Standardization, or mean removal and variance scaling](https://scikit-learn.org/stable/modules/preprocessing.html#standardization-or-mean-removal-and-variance-scaling)\n",
        "* [2 простых способа нормализовать данные в Python](https://dev-gang.ru/article/-prostyh-sposoba-normalizovat-dannye-v-python-7qqrhmlppl/)"
      ],
      "metadata": {
        "id": "N2NoDe0yBo5N"
      }
    }
  ]
}