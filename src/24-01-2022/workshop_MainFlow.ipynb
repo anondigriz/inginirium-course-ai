{
  "nbformat": 4,
  "nbformat_minor": 0,
  "metadata": {
    "colab": {
      "name": "Занятие 24 янв 2022 (Прак MainFlow).ipynb",
      "provenance": [],
      "collapsed_sections": []
    },
    "kernelspec": {
      "name": "python3",
      "display_name": "Python 3"
    }
  },
  "cells": [
    {
      "cell_type": "markdown",
      "metadata": {
        "id": "4jPQ1aexoVYs"
      },
      "source": [
        "## План занятия\n",
        "\n",
        "1. Методы основных типов\n",
        "1. List, dict, set comprehensions (генераторы)\n",
        "1. Классы и объекты\n",
        "1. Полезные приёмы и хитрости Python\n",
        "1. Работа с модулями (import и from)\n",
        "1. Assert"
      ]
    },
    {
      "cell_type": "markdown",
      "source": [
        "## Методы основных типов\n",
        "\n",
        "В данном разделе:\n",
        "\n",
        "* Срезы\n",
        "* Операции и методы списков\n",
        "* Методы словарей\n",
        "* Работа со строками"
      ],
      "metadata": {
        "id": "LTfRlwtgRfc0"
      }
    },
    {
      "cell_type": "markdown",
      "source": [
        "### [Срезы](https://tproger.ru/articles/spiski-v-python-osnovy-i-metody/)\n",
        "\n",
        "Срезы позволяют получить некое подмножество значений. Следующий код вернёт список с элементами, начиная индексом 0 и не включая при этом индекс 2 и выше:\n"
      ],
      "metadata": {
        "id": "yJP0FHuZVx9b"
      }
    },
    {
      "cell_type": "code",
      "source": [
        "numbers = [1, 5, 9, 6]\n",
        "print(numbers[0:2])"
      ],
      "metadata": {
        "id": "LNKhwRbsWCdn"
      },
      "execution_count": null,
      "outputs": []
    },
    {
      "cell_type": "markdown",
      "source": [
        "Далее выведем всё, за исключением элемента на позиции 3:"
      ],
      "metadata": {
        "id": "LxvKp_weXevQ"
      }
    },
    {
      "cell_type": "code",
      "source": [
        "print(numbers[:3])"
      ],
      "metadata": {
        "id": "BgWYujJ5XgFF"
      },
      "execution_count": null,
      "outputs": []
    },
    {
      "cell_type": "markdown",
      "source": [
        "А теперь начиная с индекса 1 и до конца:"
      ],
      "metadata": {
        "id": "_mBkUhPzXiVG"
      }
    },
    {
      "cell_type": "code",
      "source": [
        "print(numbers[1:])"
      ],
      "metadata": {
        "id": "D1PrLEtOXh20"
      },
      "execution_count": null,
      "outputs": []
    },
    {
      "cell_type": "markdown",
      "source": [
        "### Операции над списками Python\n",
        "\n",
        "`x in l` — `true`, если элемент `x` есть в списке `l`:"
      ],
      "metadata": {
        "id": "n21hK7uYXpi_"
      }
    },
    {
      "cell_type": "code",
      "source": [
        "print(1 in numbers)\n",
        "print(666 in numbers)"
      ],
      "metadata": {
        "id": "QGw3DhLYXqZ1"
      },
      "execution_count": null,
      "outputs": []
    },
    {
      "cell_type": "markdown",
      "source": [
        "`x not in l` — `true`, если элемент `x` отсутствует в `l`:"
      ],
      "metadata": {
        "id": "jlJSIsU1YWJS"
      }
    },
    {
      "cell_type": "code",
      "source": [
        "print(1 not in numbers)\n",
        "print(666 not in numbers)"
      ],
      "metadata": {
        "id": "w7hxt6UTYZt-"
      },
      "execution_count": null,
      "outputs": []
    },
    {
      "cell_type": "markdown",
      "source": [
        "`l1 + l2` — объединение двух списков:"
      ],
      "metadata": {
        "id": "0PwkGmCnYeuV"
      }
    },
    {
      "cell_type": "code",
      "source": [
        "a = [1, 2, 3]\n",
        "b = [3, 4, 5]\n",
        "\n",
        "c = a + b\n",
        "print(a)\n",
        "print(b)\n",
        "print(c)"
      ],
      "metadata": {
        "id": "sThxrWpXYjHN"
      },
      "execution_count": null,
      "outputs": []
    },
    {
      "cell_type": "markdown",
      "source": [
        "`l * n`, `n * l` — копирует список `n` раз:"
      ],
      "metadata": {
        "id": "Cx8wMa5KYxG1"
      }
    },
    {
      "cell_type": "code",
      "source": [
        "a = [1, 11, 111]\n",
        "print(a * 6)"
      ],
      "metadata": {
        "id": "Vc0AzKyiY1CK"
      },
      "execution_count": null,
      "outputs": []
    },
    {
      "cell_type": "markdown",
      "source": [
        "`len(l)` — количество элементов в `l`:"
      ],
      "metadata": {
        "id": "xQ6IEMzFY80G"
      }
    },
    {
      "cell_type": "code",
      "source": [
        "print(len(a))"
      ],
      "metadata": {
        "id": "PQ7hYaGLY-9y"
      },
      "execution_count": null,
      "outputs": []
    },
    {
      "cell_type": "markdown",
      "source": [
        "`min(l)` — наименьший элемент:"
      ],
      "metadata": {
        "id": "Qmm6LE8JZC_H"
      }
    },
    {
      "cell_type": "code",
      "source": [
        "print(min(a))"
      ],
      "metadata": {
        "id": "8dD4vz7RZEdi"
      },
      "execution_count": null,
      "outputs": []
    },
    {
      "cell_type": "markdown",
      "source": [
        "`max(l)` — наибольший элемент:"
      ],
      "metadata": {
        "id": "CfFuzvAiZJkx"
      }
    },
    {
      "cell_type": "code",
      "source": [
        "print(max(a))"
      ],
      "metadata": {
        "id": "q2lQOp0CZMzL"
      },
      "execution_count": null,
      "outputs": []
    },
    {
      "cell_type": "markdown",
      "source": [
        "`sum(l)` — сумма чисел списка:"
      ],
      "metadata": {
        "id": "vxNOKJf6ZSlR"
      }
    },
    {
      "cell_type": "code",
      "source": [
        "print(sum(a))"
      ],
      "metadata": {
        "id": "ZKoCK96vZT33"
      },
      "execution_count": null,
      "outputs": []
    },
    {
      "cell_type": "markdown",
      "source": [
        "### Методы списков\n",
        "\n",
        "#### Index\n",
        "\n",
        "Возвращает положение первого совпавшего элемента. Поиск совпадения происходит слева направо."
      ],
      "metadata": {
        "id": "BC282cqvZXzs"
      }
    },
    {
      "cell_type": "code",
      "source": [
        "numbers = [1, 5, 9, 6, 1, 2, 1]\n",
        "print(numbers.index(1))"
      ],
      "metadata": {
        "id": "MNdbdG0fZoSX"
      },
      "execution_count": null,
      "outputs": []
    },
    {
      "cell_type": "markdown",
      "source": [
        "#### Count\n",
        "\n",
        "Данный метод считает, сколько раз указанное значение появляется в списке Python:"
      ],
      "metadata": {
        "id": "2D-PXBivZtjy"
      }
    },
    {
      "cell_type": "code",
      "source": [
        "numbers = [1, 5, 9, 6, 1, 2, 1]\n",
        "print(numbers.count(1))"
      ],
      "metadata": {
        "id": "UJr5NW41Zwdv"
      },
      "execution_count": null,
      "outputs": []
    },
    {
      "cell_type": "markdown",
      "source": [
        "#### Append\n",
        "\n",
        "Добавляет указанное значение в конец:"
      ],
      "metadata": {
        "id": "Hm8R4tKnZzFl"
      }
    },
    {
      "cell_type": "code",
      "source": [
        "numbers = [1, 5, 9, 6]\n",
        "numbers.append(3)\n",
        "print(numbers)"
      ],
      "metadata": {
        "id": "68bcMN9wZ0_p"
      },
      "execution_count": null,
      "outputs": []
    },
    {
      "cell_type": "markdown",
      "source": [
        "#### Sort\n",
        "\n",
        "Сортирует список в Пайтоне. По умолчанию от меньшего к большему:"
      ],
      "metadata": {
        "id": "7WQImH9zZ4sv"
      }
    },
    {
      "cell_type": "code",
      "source": [
        "numbers = [1, 5, 9, 6]\n",
        "numbers.sort()\n",
        "print(numbers)"
      ],
      "metadata": {
        "id": "xjXaqEBtZ6dh"
      },
      "execution_count": null,
      "outputs": []
    },
    {
      "cell_type": "markdown",
      "source": [
        "Также можно сортировать последовательность элементов от большего к меньшему:"
      ],
      "metadata": {
        "id": "SuEmJNvAZ-YH"
      }
    },
    {
      "cell_type": "code",
      "source": [
        "numbers = [1, 5, 9, 6]\n",
        "numbers.sort(reverse = True)\n",
        "print(numbers)"
      ],
      "metadata": {
        "id": "5wX1gOSbaCPj"
      },
      "execution_count": null,
      "outputs": []
    },
    {
      "cell_type": "markdown",
      "source": [
        "#### Insert\n",
        "\n",
        "Вставляет элемент перед указанным индексом:"
      ],
      "metadata": {
        "id": "KM0LrVtQaM1Y"
      }
    },
    {
      "cell_type": "code",
      "source": [
        "numbers = [1, 5, 9, 6]\n",
        "numbers.insert(3, [2, 3])\n",
        "print(numbers)\n",
        "numbers.insert(2, 666)\n",
        "print(numbers)"
      ],
      "metadata": {
        "id": "zo9dN1FnaR_C"
      },
      "execution_count": null,
      "outputs": []
    },
    {
      "cell_type": "markdown",
      "source": [
        "#### Remove\n",
        "\n",
        "Удаляет первое попавшееся вхождение элемента в списке Python:"
      ],
      "metadata": {
        "id": "P0J9C76FgILi"
      }
    },
    {
      "cell_type": "code",
      "source": [
        "numbers = [1, 5, 9, 6, 1, 2, 1]\n",
        "numbers.remove(1)\n",
        "print(numbers)"
      ],
      "metadata": {
        "id": "iRor2obdgLzm"
      },
      "execution_count": null,
      "outputs": []
    },
    {
      "cell_type": "markdown",
      "source": [
        "#### Extend\n",
        "\n",
        "Подобно методу `append()`, добавляет элементы, но преимущество метода `extend()` в том, что он также позволяет добавлять списки:\n"
      ],
      "metadata": {
        "id": "kUL3_TxvgWRw"
      }
    },
    {
      "cell_type": "code",
      "source": [
        "numbers = [1, 5, 9, 6]\n",
        "numbers.append([2, 3])\n",
        "print(numbers)\n",
        "\n",
        "numbers = [1, 5, 9, 6]\n",
        "numbers.extend([2, 3])\n",
        "print(numbers)"
      ],
      "metadata": {
        "id": "ygAi-CQbgXH-"
      },
      "execution_count": null,
      "outputs": []
    },
    {
      "cell_type": "markdown",
      "source": [
        "#### Pop\n",
        "\n",
        "А данный метод удаляет элемент в конкретно указанном индексе, а также выводит удалённый элемент. Если индекс не указан, метод по умолчанию удалит последний элемент:\n"
      ],
      "metadata": {
        "id": "wENDgNyngk0h"
      }
    },
    {
      "cell_type": "code",
      "source": [
        "numbers = [1, 5, 9, 6]\n",
        "print(numbers.pop(1))\n",
        "print(numbers)"
      ],
      "metadata": {
        "id": "c5KgXXIWglg1"
      },
      "execution_count": null,
      "outputs": []
    },
    {
      "cell_type": "markdown",
      "source": [
        "#### Join\n",
        "\n",
        "Преобразовывает список в строку. Разделитель элементов пишут в кавычках перед методом, а сам список Питона должен состоять из строк:"
      ],
      "metadata": {
        "id": "BxTxiqwFgv7h"
      }
    },
    {
      "cell_type": "code",
      "source": [
        "mylist = ['тут', 'был', 'текст']\n",
        "print(', '.join(mylist))"
      ],
      "metadata": {
        "id": "_FTffTmfgt4O"
      },
      "execution_count": null,
      "outputs": []
    },
    {
      "cell_type": "markdown",
      "source": [
        "### [Методы словарей](https://tproger.ru/explain/python-dictionaries/)\n",
        "\n",
        "О методах можно подробнее ознакомиться по ссылке в заголовке."
      ],
      "metadata": {
        "id": "SuK-mcb2g91z"
      }
    },
    {
      "cell_type": "markdown",
      "source": [
        "#### Итерация через словарь"
      ],
      "metadata": {
        "id": "5usf7S9OhW5I"
      }
    },
    {
      "cell_type": "code",
      "source": [
        "dictionary = {'персона': 'человек',\n",
        "              'марафон': 'гонка бегунов длиной около 26 миль',\n",
        "              'противостоять': 'оставаться сильным, несмотря на давление',\n",
        "              'бежать': 'двигаться со скоростью'}"
      ],
      "metadata": {
        "id": "3W4HL3F2hcJp"
      },
      "execution_count": null,
      "outputs": []
    },
    {
      "cell_type": "code",
      "source": [
        "for key in dictionary:\n",
        "   print(key)"
      ],
      "metadata": {
        "id": "DtZgziE7hfNR"
      },
      "execution_count": null,
      "outputs": []
    },
    {
      "cell_type": "code",
      "source": [
        "for key, value in dictionary.items():\n",
        "        print(key, value)"
      ],
      "metadata": {
        "id": "wWci7z_khiCX"
      },
      "execution_count": null,
      "outputs": []
    },
    {
      "cell_type": "code",
      "source": [
        "for value in dictionary.values():\n",
        "        print(value)"
      ],
      "metadata": {
        "id": "zuosaVdXhlo0"
      },
      "execution_count": null,
      "outputs": []
    },
    {
      "cell_type": "markdown",
      "source": [
        "### Работа со строками\n",
        "#### [Операторы строк](https://pythonru.com/osnovy/stroki-python)\n",
        "\n",
        "`+` — оператор конкатенации строк. Он возвращает строку, состоящую из других строк:"
      ],
      "metadata": {
        "id": "AnfHmboAiGc-"
      }
    },
    {
      "cell_type": "code",
      "source": [
        "s = 'py'\n",
        "t = 'th'\n",
        "u = 'on'"
      ],
      "metadata": {
        "id": "8NBH6TDSiZky"
      },
      "execution_count": null,
      "outputs": []
    },
    {
      "cell_type": "code",
      "source": [
        " s + t"
      ],
      "metadata": {
        "id": "EZDwnQ58icme"
      },
      "execution_count": null,
      "outputs": []
    },
    {
      "cell_type": "code",
      "source": [
        "s + t + u"
      ],
      "metadata": {
        "id": "My-ClLweie1i"
      },
      "execution_count": null,
      "outputs": []
    },
    {
      "cell_type": "markdown",
      "source": [
        "`*` — оператор создает несколько копий строки:"
      ],
      "metadata": {
        "id": "RJTzxkY3ijeJ"
      }
    },
    {
      "cell_type": "code",
      "source": [
        "s * 4"
      ],
      "metadata": {
        "id": "yurgoCwLikHA"
      },
      "execution_count": null,
      "outputs": []
    },
    {
      "cell_type": "code",
      "source": [
        "4 * s"
      ],
      "metadata": {
        "id": "8S-IzPR3irZJ"
      },
      "execution_count": null,
      "outputs": []
    },
    {
      "cell_type": "markdown",
      "source": [
        "#### Функции строк\n",
        "\n",
        "\n",
        "| Функция | Описание |\n",
        "| --- | --- |\n",
        "| chr() |\tПреобразует целое число в символ |\n",
        "| ord() | Преобразует символ в целое число |\n",
        "| len() |\tВозвращает длину строки |\n",
        "| str() |\tИзменяет тип объекта на string |"
      ],
      "metadata": {
        "id": "KNwhIoIZi02w"
      }
    },
    {
      "cell_type": "markdown",
      "source": [
        "#### Индексация строк"
      ],
      "metadata": {
        "id": "AoQDBFRUjfoP"
      }
    },
    {
      "cell_type": "code",
      "source": [
        "s = 'foobar'\n",
        "print(s[0])\n",
        "print(s[1])\n",
        "print(s[-1])\n",
        "print(s[-6])"
      ],
      "metadata": {
        "id": "yqNtQ8C7jdZG"
      },
      "execution_count": null,
      "outputs": []
    },
    {
      "cell_type": "markdown",
      "source": [
        "#### Срезы строк\n",
        "\n",
        "Аналогично спискам."
      ],
      "metadata": {
        "id": "rxhY53ASjxAb"
      }
    },
    {
      "cell_type": "markdown",
      "source": [
        "#### [Форматирование строки](https://pythonru.com/osnovy/stroki-python)\n",
        "\n",
        "\n",
        "В Python версии 3.6 был представлен новый способ форматирования строк. Эта функция официально названа литералом отформатированной строки, но обычно упоминается как f-string.\n",
        "\n",
        "Возможности форматирования строк огромны и не будут подробно описана здесь.\n",
        "Одной простой особенностью f-строк, которые вы можете начать использовать сразу, является интерполяция переменной. Вы можете указать имя переменной непосредственно в f-строковом литерале (`f'string'`), и python заменит имя соответствующим значением."
      ],
      "metadata": {
        "id": "CaAMg3k5j3D4"
      }
    },
    {
      "cell_type": "code",
      "source": [
        "n = 20\n",
        "m = 25\n",
        "prod = n * m"
      ],
      "metadata": {
        "id": "BB6WCghHkNi_"
      },
      "execution_count": null,
      "outputs": []
    },
    {
      "cell_type": "code",
      "source": [
        "print('Произведение' + str(n) + 'на' + str(m) + 'равно' + str(prod))"
      ],
      "metadata": {
        "id": "axZU1305kuUg"
      },
      "execution_count": null,
      "outputs": []
    },
    {
      "cell_type": "code",
      "source": [
        "print('Произведение', n, 'на', m, 'равно', prod)"
      ],
      "metadata": {
        "id": "Hbzq_-3pkuaa"
      },
      "execution_count": null,
      "outputs": []
    },
    {
      "cell_type": "code",
      "source": [
        " print(f'Произведение {n} на {m} равно {prod}')"
      ],
      "metadata": {
        "id": "9CRspcy6kSH9"
      },
      "execution_count": null,
      "outputs": []
    },
    {
      "cell_type": "markdown",
      "source": [
        "Любой из трех типов кавычек в python можно использовать для f-строки:"
      ],
      "metadata": {
        "id": "2GEAbRFLlUP_"
      }
    },
    {
      "cell_type": "code",
      "source": [
        "var = 'Гав'\n",
        "print(f'Собака говорит {var}!')\n",
        "print(f\"Собака говорит {var}!\")\n",
        "print(f'''Собака говорит {var}!''')"
      ],
      "metadata": {
        "id": "2RjRhQqwlV7K"
      },
      "execution_count": null,
      "outputs": []
    },
    {
      "cell_type": "markdown",
      "source": [
        "#### Изменение строк\n",
        "\n",
        "Строки — один из типов данных, которые Python считает неизменяемыми, что означает невозможность их изменять."
      ],
      "metadata": {
        "id": "TvBbAea9la8y"
      }
    },
    {
      "cell_type": "code",
      "source": [
        " s = 'python'\n",
        " s[3] = 't'"
      ],
      "metadata": {
        "id": "mHAgeoGAljN0"
      },
      "execution_count": null,
      "outputs": []
    },
    {
      "cell_type": "code",
      "source": [
        "s = s[:3] + 't' + s[4:]\n",
        "print(s)"
      ],
      "metadata": {
        "id": "Yq4yDuu3lmhl"
      },
      "execution_count": null,
      "outputs": []
    },
    {
      "cell_type": "code",
      "source": [
        "s = 'python'\n",
        "s = s.replace('h', 't')\n",
        "print(s)"
      ],
      "metadata": {
        "id": "dekL8zv0lsGa"
      },
      "execution_count": null,
      "outputs": []
    },
    {
      "cell_type": "markdown",
      "source": [
        "#### [Функции и методы строк](https://pythonworld.ru/tipy-dannyx-v-python/stroki-funkcii-i-metody-strok.html)\n",
        "\n",
        "О методах можно подробнее ознакомиться по ссылке в заголовке."
      ],
      "metadata": {
        "id": "6uPjG8otl7g6"
      }
    },
    {
      "cell_type": "markdown",
      "source": [
        "### [List, dict, set comprehensions](https://pyneng.readthedocs.io/ru/latest/book/08_python_basic_examples/x_comprehensions.html)\n",
        "\n",
        "Python поддерживает специальные выражения, которые позволяют компактно создавать списки, словари и множества.\n",
        "\n",
        "На английском эти выражения называются, соответственно:\n",
        "\n",
        "* [List comprehensions](https://pythonru.com/osnovy/python-list-comprehension) `[kɒmprɪˈhenʃns]`\n",
        "* [Dict comprehensions](https://pythonguides.com/python-dictionary-comprehension/)\n",
        "* [Set comprehensions](https://medium.com/swlh/set-comprehension-in-python3-for-beginners-80561a9b4007)\n",
        "\n",
        "\n",
        "С примерами можно ознакомиться ниже.\n"
      ],
      "metadata": {
        "id": "n46OhlG5m1ms"
      }
    },
    {
      "cell_type": "markdown",
      "metadata": {
        "id": "3TYFoLqkxIRU"
      },
      "source": [
        "## Классы и объекты\n",
        "### [Основные понятия объектно-ориентированного программирования](https://otus.ru/nest/post/651/)\n",
        "\n",
        "Выделяют три основных \"столпа\" ООП - это инкапсуляция, наследование и полиморфизм.\n",
        "\n",
        "![alt text](https://otus.ru/media/61/b4/1-20219-61b428.png)\n",
        "\n",
        "#### Инкапсуляция\n",
        "\n",
        "Этот термин для объектно-ориентированного программирования означает ограничение доступа к каким-либо данным, то есть ограничивается возможность изменения этих самых данных. Проще говоря, есть «капсула», в которую мы «прячем» важные параметры, когда не хотим, чтобы кто-либо их менял. \n",
        "\n",
        "#### Наследование\n",
        "\n",
        "Это механизм, позволяющий описать новый класс на основании родительского (существующего). Причём функциональность и свойства родительского класса заимствуются новым. \n",
        "\n",
        "Иными словами, когда вы применяете наследование в программировании, отпадает необходимость реализовывать общий базовый функционал прочих классов, так как вполне достаточно применить наследование, благодаря которому ваш класс сразу будет обладать нужными родительскими знаниями.\n",
        "\n",
        "Большие проблемы наследования в ООП: [ссылка](https://habr.com/ru/post/351730/) и [несерьезная ссылка](https://www.youtube.com/watch?v=-n6784KeQMs)\n",
        "\n",
        "#### Полиморфизм\n",
        "\n",
        "Полиморфизм позволяет одинаково обращаться с объектами, имеющими однотипный интерфейс, независимо от внутренней реализации объекта. Например, с объектом класса \"грузовой автомобиль\" можно производить те же операции, что и с объектом класса \"автомобиль\", т.к. первый является наследником второго, при этом обратное утверждение неверно (во всяком случае не всегда). Другими словами полиморфизм предполагает ***разную реализацию методов с одинаковыми именами***. Это очень полезно при наследовании, когда в классе наследнике можно переопределить методы класса родителя.\n",
        "\n",
        "Также полиморфизмом называют способность функции обрабатывать данные разных типов. Пример — автомат на вокзале, принимающий для оплаты как наличные, так и банковские карты.\n",
        "\n",
        "Другими словами о [полиморфизме](https://vertex-academy.com/tutorials/ru/chto-takoe-polimorfizm-java/):\n",
        "\n",
        "**Полиморфизм** - возможность применения одноименных методов с одинаковыми или различными наборами параметров в одном классе или в группе классов, связанных отношением наследования.\n",
        "\n",
        "#### Недостаки ООП\n",
        "\n",
        "С одной из критик ООП можно ознакомиться [здесь](https://tproger.ru/translations/oop-the-trillion-dollar-disaster/)."
      ]
    },
    {
      "cell_type": "markdown",
      "metadata": {
        "id": "ddyFDYnk0I_M"
      },
      "source": [
        "### [Создание классов и объектов](https://devpractice.ru/python-lesson-14-classes-and-objects/)\n",
        "\n",
        "Создание класса в Python начинается с инструкции class. Вот так будет выглядеть минимальный класс:"
      ]
    },
    {
      "cell_type": "code",
      "metadata": {
        "id": "MO6ZKajtoL2v"
      },
      "source": [
        "class C: \n",
        "  pass"
      ],
      "execution_count": null,
      "outputs": []
    },
    {
      "cell_type": "markdown",
      "metadata": {
        "id": "vVdGr-Fr0bCE"
      },
      "source": [
        "Класс состоит из объявления (инструкция `class`), имени класса (нашем случае это имя `C`) и тела класса, которое содержит атрибуты и методы (в нашем минимальном классе есть только одна инструкция `pass`).\n",
        "\n",
        "Для того чтобы создать объект класса необходимо воспользоваться следующим синтаксисом:"
      ]
    },
    {
      "cell_type": "code",
      "metadata": {
        "id": "ewH-s31J1Woz"
      },
      "source": [
        "object_name = C()"
      ],
      "execution_count": null,
      "outputs": []
    },
    {
      "cell_type": "markdown",
      "metadata": {
        "id": "e7lqum4X1U6P"
      },
      "source": [
        "Функция `DIR` возвращает имена [переменных], доступные в локальной области, либо атрибуты указанного объекта в алфавитном порядке.\n"
      ]
    },
    {
      "cell_type": "code",
      "metadata": {
        "id": "izHkcUca0xZh"
      },
      "source": [
        "import pprint\n",
        "pp = pprint.PrettyPrinter(indent=4)\n",
        "\n",
        "pp.pprint(dir(object_name))"
      ],
      "execution_count": null,
      "outputs": []
    },
    {
      "cell_type": "markdown",
      "metadata": {
        "id": "YoNRHSS22fov"
      },
      "source": [
        "Без аргументов, dir() возвращает список имён, определённых в текущей области видимости:"
      ]
    },
    {
      "cell_type": "code",
      "metadata": {
        "id": "OvHpB8QF2QnR"
      },
      "source": [
        "pp.pprint(dir())"
      ],
      "execution_count": null,
      "outputs": []
    },
    {
      "cell_type": "markdown",
      "metadata": {
        "id": "Pq1NM_n83q8j"
      },
      "source": [
        "### Статические и не статические атрибуты класса\n",
        "\n",
        "Как уже было сказано выше, класс может содержать атрибуты и методы. Атрибут может быть статическим и не статическим (уровня объекта класса). Суть в том, что для работы со статическим атрибутом, вам не нужно создавать экземпляр класса, а для работы с не статическим – нужно. Пример:"
      ]
    },
    {
      "cell_type": "code",
      "metadata": {
        "id": "0yP7TNXW4A-j"
      },
      "source": [
        "class Rectangle:\n",
        "  default_color = \"red\"\n",
        "\n",
        "  def __init__(self, width, height):\n",
        "    self.width = width\n",
        "    self.height = height"
      ],
      "execution_count": null,
      "outputs": []
    },
    {
      "cell_type": "code",
      "metadata": {
        "id": "dCgJIFR14Wgw"
      },
      "source": [
        "myRectangle = Rectangle(22,88)\n",
        "pp.pprint(dir(myRectangle))\n",
        "print(myRectangle.default_color)\n",
        "print(myRectangle.default_color)\n",
        "print(myRectangle.default_color)\n",
        "print(myRectangle.width)"
      ],
      "execution_count": null,
      "outputs": []
    },
    {
      "cell_type": "markdown",
      "metadata": {
        "id": "i8iAndah51O1"
      },
      "source": [
        "Присвоим ему новое значение:"
      ]
    },
    {
      "cell_type": "code",
      "metadata": {
        "id": "Hr3Yrxu95r5m"
      },
      "source": [
        "Rectangle.default_color = \"green\"\n",
        "print(Rectangle.default_color)"
      ],
      "execution_count": null,
      "outputs": []
    },
    {
      "cell_type": "markdown",
      "metadata": {
        "id": "fs84RoXs575X"
      },
      "source": [
        "Вообще напрямую работать с атрибутами – не очень хорошая идея, лучше для этого использовать свойства.\n",
        "\n",
        "### Методы класса\n",
        "\n",
        "Добавим к нашему классу метод. **Метод** – это функция, находящаяся внутри класса и выполняющая определенную работу.\n",
        "\n",
        "Методы бывают *статическими*, *классовыми* (среднее между статическими и обычными) и *уровня класса* (будем их называть просто словом метод). Статический метод создается с декоратором `@staticmethod`, классовый – с декоратором `@classmethod`, первым аргументом в него передается cls, обычный метод создается без специального декоратора, ему первым аргументом передается self:"
      ]
    },
    {
      "cell_type": "code",
      "metadata": {
        "id": "Y4EOC9VM592E"
      },
      "source": [
        "class Rectangle:\n",
        "  default_color = \"red\"\n",
        "\n",
        "  def __init__(self, width, height):\n",
        "    self.width = width\n",
        "    self.height = height\n",
        "\n",
        "  @staticmethod\n",
        "  def ex_static_method():\n",
        "    print(\"static method\")\n",
        "  \n",
        "  @classmethod\n",
        "  def ex_class_method(cls):\n",
        "    print(\"class method\", cls)\n",
        "  \n",
        "  def ex_method(self):\n",
        "    print(\"method\", self)"
      ],
      "execution_count": null,
      "outputs": []
    },
    {
      "cell_type": "markdown",
      "metadata": {
        "id": "WdgciRVU6gXM"
      },
      "source": [
        "Статический и классовый метод можно вызвать, не создавая экземпляр класса, для вызова ex_method() нужен объект:"
      ]
    },
    {
      "cell_type": "code",
      "metadata": {
        "id": "VeUuAd_v6jUP"
      },
      "source": [
        "Rectangle.ex_static_method()\n",
        "Rectangle.ex_class_method()\n",
        "myNewRectangle = Rectangle(8,8)\n",
        "myNewRectangle.ex_method()"
      ],
      "execution_count": null,
      "outputs": []
    },
    {
      "cell_type": "markdown",
      "metadata": {
        "id": "hboqHPYd_iDN"
      },
      "source": [
        "#### [Что такое self?](https://python-scripts.com/python-class)\n",
        "\n",
        "Классам нужен способ, что ссылаться на самих себя. Это способ сообщения между экземплярами. Слово self это способ описания любого объекта, буквально."
      ]
    },
    {
      "cell_type": "markdown",
      "metadata": {
        "id": "koKNP5k_91kY"
      },
      "source": [
        "#### [Зачем нужен декаратор classmethod?](https://youtu.be/HXd9OYK1FNA)"
      ]
    },
    {
      "cell_type": "code",
      "metadata": {
        "id": "O4XwJjWx-EDL"
      },
      "source": [
        "class Person:\n",
        "\n",
        "  def __init__(self, first_name, last_name):\n",
        "    self.first_name = first_name\n",
        "    self.last_name = last_name\n",
        "  \n",
        "  @classmethod\n",
        "  def create_person_from_list(cls, data):\n",
        "    first_name, last_name = data\n",
        "    return cls(first_name, last_name)\n",
        "  \n",
        "  def get_info(self):\n",
        "    return \"First name: {0}; Last name: {1}\".format(self.first_name, self.last_name)"
      ],
      "execution_count": null,
      "outputs": []
    },
    {
      "cell_type": "code",
      "metadata": {
        "id": "ZoYNx5a7_JDz"
      },
      "source": [
        "p = Person.create_person_from_list([\"Dan\",\"Pen\"])\n",
        "p.get_info()"
      ],
      "execution_count": null,
      "outputs": []
    },
    {
      "cell_type": "markdown",
      "metadata": {
        "id": "w1myBa2x_0QJ"
      },
      "source": [
        "#### Конструктор класса и инициализация экземпляра класса\n",
        "\n",
        "В Python разделяют конструктор класса и метод для инициализации экземпляра класса. Конструктор класса это метод `__new__(cls, *args, **kwargs)` для инициализации экземпляра класса используется метод `__init__(self)`. При этом, как вы могли заметить `__new__` – это классовый метод, а `__init__` таким не является. Метод `__new__` редко переопределяется, чаще используется реализация от базового класса `object`, `__init__` же наоборот является очень удобным способом задать параметры объекта при его создании."
      ]
    },
    {
      "cell_type": "code",
      "metadata": {
        "id": "81ROPwOS_OnT"
      },
      "source": [
        "class Rectangle:\n",
        "  \n",
        "  def __new__(cls, *args, **kwargs):\n",
        "    print(\"Hello from __new__\")\n",
        "    return super().__new__(cls)\n",
        "  \n",
        "  def __init__(self, width, height):\n",
        "    print(\"Hello from __init__\")\n",
        "    self.width = width\n",
        "    self.height = height"
      ],
      "execution_count": null,
      "outputs": []
    },
    {
      "cell_type": "code",
      "metadata": {
        "id": "bWqZKv_SCGRc"
      },
      "source": [
        "rq1 = Rectangle(12,12)"
      ],
      "execution_count": null,
      "outputs": []
    },
    {
      "cell_type": "markdown",
      "metadata": {
        "id": "zszGYSo2CyCM"
      },
      "source": [
        "### [Упрощенное создание классов](https://proglib.io/p/new-python/)\n",
        "\n",
        "В Python 3.7 появился новый модуль `dataclasses` и декоратор `@dataclass`, облегчающий создание пользовательских классов. Он автоматически добавляет специальные методы вроде `__init__`, `__repr__` и `__eq__`."
      ]
    },
    {
      "cell_type": "code",
      "source": [
        "!python --version"
      ],
      "metadata": {
        "id": "ZA99rRlDtDmn"
      },
      "execution_count": null,
      "outputs": []
    },
    {
      "cell_type": "code",
      "metadata": {
        "id": "kUlJv3GXCrOR"
      },
      "source": [
        "import sys\n",
        "print(sys.version_info)"
      ],
      "execution_count": null,
      "outputs": []
    },
    {
      "cell_type": "markdown",
      "metadata": {
        "id": "ARKLlAEOKf_g"
      },
      "source": [
        "### Уровни доступа атрибута и метода\n",
        "\n",
        "Если вы знакомы с языками программирования Java, C#, C++ то, наверное, уже задались вопросом: “а как управлять уровнем доступа?”. В перечисленных языка вы можете явно указать для переменной, что доступ к ней снаружи класса запрещен, это делается с помощью ключевых слов (private, protected и т.д.). В Python таких возможностей нет, и любой может обратиться к атрибутам и методам вашего класса, если возникнет такая необходимость. Это существенный недостаток этого языка, т.к. нарушается один из ключевых принципов ООП – инкапсуляция. Хорошим тоном считается, что для чтения/изменения какого-то атрибута должны использоваться специальные методы, которые называются `getter/setter`, их можно реализовать, но ничего не помешает изменить атрибут напрямую. При этом есть соглашение, что метод или атрибут, который начинается с нижнего подчеркивания, является скрытым, и снаружи класса трогать его не нужно (хотя сделать это можно)."
      ]
    },
    {
      "cell_type": "code",
      "metadata": {
        "id": "WzoS1t91K_ku"
      },
      "source": [
        "class Rectangle:\n",
        "  \n",
        "  def __init__(self, width, height):\n",
        "    self.__width = width\n",
        "    self.__height = height\n",
        "\n",
        "  def get_width(self):\n",
        "    return self.__width\n",
        "  def set_width(self, val):\n",
        "    self.__width = val\n",
        "\n",
        "  def get_height(self):\n",
        "    return self.__height\n",
        "  def set_height(self, val):\n",
        "    self.__height = val"
      ],
      "execution_count": null,
      "outputs": []
    },
    {
      "cell_type": "code",
      "metadata": {
        "id": "DyIz0VbiL03w"
      },
      "source": [
        "rect = Rectangle(10, 20)\n",
        "rect.__width"
      ],
      "execution_count": null,
      "outputs": []
    },
    {
      "cell_type": "markdown",
      "metadata": {
        "id": "BdykgCQeMRIr"
      },
      "source": [
        "Попытка обратиться к __width напрямую вызовет ошибку, нужно работать только через get_width():"
      ]
    },
    {
      "cell_type": "code",
      "metadata": {
        "id": "3r6yXngyL_6g"
      },
      "source": [
        "rect.get_width()"
      ],
      "execution_count": null,
      "outputs": []
    },
    {
      "cell_type": "markdown",
      "metadata": {
        "id": "8p5AhF36MHVF"
      },
      "source": [
        "\n",
        "\n",
        "Но на самом деле это сделать можно, просто этот атрибут теперь для внешнего использования носит название: _Rectangle__width:\n",
        "\n",
        "![alt text](http://risovach.ru/upload/2018/03/mem/pvpk_171182039_orig_.jpg)"
      ]
    },
    {
      "cell_type": "code",
      "metadata": {
        "id": "qTKrONwWdmQX"
      },
      "source": [
        "rect._Rectangle__width"
      ],
      "execution_count": null,
      "outputs": []
    },
    {
      "cell_type": "markdown",
      "metadata": {
        "id": "qVvYUNEsds9w"
      },
      "source": [
        "### Свойства\n",
        "\n",
        "Свойством называется такой метод класса, работа с которым подобна работе с атрибутом. Для объявления метода свойством необходимо использовать декоратор `@property`.\n",
        "\n",
        "Важным преимуществом работы через свойства является то, что вы можете осуществлять проверку входных значений, перед тем как присвоить их атрибутам."
      ]
    },
    {
      "cell_type": "code",
      "metadata": {
        "id": "gfpNX-Y5eKN1"
      },
      "source": [
        "class Rectangle:\n",
        "  \n",
        "  def __init__(self, width, height):\n",
        "    self.__width = width\n",
        "    self.__height = height\n",
        "  \n",
        "  @property\n",
        "  def width(self):\n",
        "    return self.__width\n",
        "  \n",
        "  @width.setter\n",
        "  def width(self, val):\n",
        "    self.__width = val\n",
        "\n",
        "  @property\n",
        "  def height(self):\n",
        "    return self.__height\n",
        "  \n",
        "  @height.setter\n",
        "  def height(self, val):\n",
        "    self.__height = val"
      ],
      "execution_count": null,
      "outputs": []
    },
    {
      "cell_type": "code",
      "metadata": {
        "id": "k9Oaz-olea5i"
      },
      "source": [
        "rect = Rectangle(10, 20)\n",
        "print(rect.width)\n",
        "rect.width = 101\n",
        "print(rect.width)"
      ],
      "execution_count": null,
      "outputs": []
    },
    {
      "cell_type": "markdown",
      "metadata": {
        "id": "Fezl047DiS7r"
      },
      "source": [
        "### Наследование\n",
        "\n",
        "\n",
        "В организации наследования участвуют как минимум два класса: класс родитель и класс потомок. При этом возможно множественное наследование, в этом случае у класса потомка может быть несколько родителей. Не все языки программирования поддерживают множественное наследование, но в Python можно его использовать. По умолчанию все классы в Python являются наследниками от object, явно этот факт указывать не нужно.\n",
        "\n",
        "Синтаксически создание класса с указанием его родителя выглядит так:\n",
        "\n",
        "```\n",
        "class имя_класса(имя_родителя1, [имя_родителя2,…, имя_родителя_n])\n",
        "```"
      ]
    },
    {
      "cell_type": "code",
      "metadata": {
        "id": "_D5zd5DMiZxg"
      },
      "source": [
        "class Figure:\n",
        "  def __init__(self, color):\n",
        "    self.__color = color\n",
        "\n",
        "  @property\n",
        "  def color(self):\n",
        "    return self.__color\n",
        "\n",
        "  @color.setter\n",
        "  def color(self, c):\n",
        "    self.__color = c\n",
        "\n",
        "class Rectangle(Figure):\n",
        "  \n",
        "  def __init__(self, width, height):\n",
        "    self.__width = width\n",
        "    self.__height = height\n",
        "  \n",
        "  def __init__(self, width, height, color):\n",
        "    # super – это ключевое слово, которое используется для обращения к \n",
        "    # родительскому классу.\n",
        "    super().__init__(color)\n",
        "    self.__width = width\n",
        "    self.__height = height\n",
        "  \n",
        "  @property\n",
        "  def width(self):\n",
        "    return self.__width\n",
        "  \n",
        "  @width.setter\n",
        "  def width(self, val):\n",
        "    self.__width = val\n",
        "\n",
        "  @property\n",
        "  def height(self):\n",
        "    return self.__height\n",
        "  \n",
        "  @height.setter\n",
        "  def height(self, val):\n",
        "    self.__height = val"
      ],
      "execution_count": null,
      "outputs": []
    },
    {
      "cell_type": "code",
      "metadata": {
        "id": "OJ-uhMVlir0N"
      },
      "source": [
        "rect = Rectangle(10, 20,\"red\")\n",
        "rect.color"
      ],
      "execution_count": null,
      "outputs": []
    },
    {
      "cell_type": "markdown",
      "metadata": {
        "id": "Pi3SWQuVjUHh"
      },
      "source": [
        "### Полиморфизм\n",
        "\n",
        "Как уже было сказано во введении в рамках ООП полиморфизм, как правило, используется с позиции переопределения методов базового класса в классе наследнике. Проще всего это рассмотреть на примере."
      ]
    },
    {
      "cell_type": "code",
      "metadata": {
        "id": "hc2CWRHxjsel"
      },
      "source": [
        "class Vehicle:\n",
        "  def __init__(self, brand):\n",
        "    self.__brand = brand\n",
        "\n",
        "  def info(self):\n",
        "    return \"Brand: {0}\".format(self.__brand)\n",
        "\n",
        "class Lorry(Vehicle):  \n",
        "  def __init__(self, brand, tonnage):\n",
        "    super().__init__(brand)\n",
        "    self.__tonnage = tonnage\n",
        "\n",
        "  def info(self):\n",
        "    return \"Brand: {0}; Tonnage {1}\".format(self._Vehicle__brand, self.__tonnage)"
      ],
      "execution_count": null,
      "outputs": []
    },
    {
      "cell_type": "code",
      "metadata": {
        "id": "toEQbxj6kk9I"
      },
      "source": [
        "myCar = Vehicle(\"BMW\")\n",
        "print(myCar.info())\n",
        "myLorry = Lorry(\"Man\",12)\n",
        "print(myLorry.info())"
      ],
      "execution_count": null,
      "outputs": []
    },
    {
      "cell_type": "markdown",
      "metadata": {
        "id": "4A8BarHImJlG"
      },
      "source": [
        "## [Пасхалки Python](https://tproger.ru/devnull/python-easter-eggs/)\n",
        "### 1. Hello World"
      ]
    },
    {
      "cell_type": "code",
      "metadata": {
        "id": "jHBquGasmAf5"
      },
      "source": [
        "import __hello__"
      ],
      "execution_count": null,
      "outputs": []
    },
    {
      "cell_type": "markdown",
      "metadata": {
        "id": "B8O0VGgWp6f5"
      },
      "source": [
        "![alt text](https://i.pinimg.com/474x/f7/62/b3/f762b3500005b14eedb08a3b6265151e--programming-languages-geek-gifts.jpg)"
      ]
    },
    {
      "cell_type": "markdown",
      "metadata": {
        "id": "mYXc4ggPnJ2O"
      },
      "source": [
        "### 2. Классика"
      ]
    },
    {
      "cell_type": "code",
      "metadata": {
        "id": "TzG8_4ltmCyG"
      },
      "source": [
        "import this"
      ],
      "execution_count": null,
      "outputs": []
    },
    {
      "cell_type": "markdown",
      "metadata": {
        "id": "18fz7S9UnNvA"
      },
      "source": [
        "### 3. Простой жизненный урок"
      ]
    },
    {
      "cell_type": "code",
      "metadata": {
        "id": "miWN-8qSmXYC"
      },
      "source": [
        "import this\n",
        "love = this\n",
        "this is love"
      ],
      "execution_count": null,
      "outputs": []
    },
    {
      "cell_type": "code",
      "metadata": {
        "id": "NW2ZTZmEnV54"
      },
      "source": [
        "love is True"
      ],
      "execution_count": null,
      "outputs": []
    },
    {
      "cell_type": "code",
      "metadata": {
        "id": "BK4n0dzanZTK"
      },
      "source": [
        "love is False"
      ],
      "execution_count": null,
      "outputs": []
    },
    {
      "cell_type": "code",
      "metadata": {
        "id": "1Y6V-EIFnaMH"
      },
      "source": [
        "love is not True or False"
      ],
      "execution_count": null,
      "outputs": []
    },
    {
      "cell_type": "code",
      "metadata": {
        "id": "siSqJBozncQb"
      },
      "source": [
        "love is not True or False; love is love  # FML"
      ],
      "execution_count": null,
      "outputs": []
    },
    {
      "cell_type": "markdown",
      "metadata": {
        "id": "zDaMb2zbngZs"
      },
      "source": [
        "### 4. Скобок в языке не будет никогда"
      ]
    },
    {
      "cell_type": "code",
      "metadata": {
        "id": "j1iJYStrninf"
      },
      "source": [
        "from __future__ import braces\n",
        "# braces - фигурные скобки\n",
        "# not a chance - ни за что"
      ],
      "execution_count": null,
      "outputs": []
    },
    {
      "cell_type": "markdown",
      "metadata": {
        "id": "zuiif1uQqMH_"
      },
      "source": [
        "![alt text](http://img0.joyreactor.cc/pics/post/it-%D1%8E%D0%BC%D0%BE%D1%80-geek-4993122.png)"
      ]
    },
    {
      "cell_type": "markdown",
      "metadata": {
        "id": "-m4fAO_UVqS8"
      },
      "source": [
        "## [Полезные примемы и хитрости Python](https://tproger.ru/translations/an-a-z-of-python-tricks/)\n",
        "### 1. all и any"
      ]
    },
    {
      "cell_type": "code",
      "metadata": {
        "id": "SP3rIj2dVptH"
      },
      "source": [
        "x = [True, True, False]\n",
        "if any(x):\n",
        "    print(\"Как минимум один True\")\n",
        "\n",
        "if all(x):\n",
        "    print(\"Ни одного False\")\n",
        "\n",
        "if any(x) and not all(x):\n",
        "    print(\"Как минимум один True и один False\")"
      ],
      "execution_count": null,
      "outputs": []
    },
    {
      "cell_type": "markdown",
      "metadata": {
        "id": "3wexovAJWY_x"
      },
      "source": [
        "### 2. collections\n",
        "\n",
        "Модуль Python `collections` имеет еще один замечательный наследуемый класс dict под названием `OrderedDict`. Как подразумевается в его названии, этот словарь отслеживает порядок ключей после их добавления. Если вы создадите обычный `dict`, вы заметите, что данные в нем неупорядоченные!\n",
        "\n",
        "Каждый раз, когда вы выводите этот код, порядок может быть разный. Иногда бывают ситуации, когда вам нужно выполнить цикл над ключами в вашем словаре в определенном порядке."
      ]
    },
    {
      "cell_type": "code",
      "metadata": {
        "id": "DcQq3E5vWrrd"
      },
      "source": [
        "from collections import OrderedDict, Counter\n",
        "\n",
        "# Запоминает порядок добавления ключей\n",
        "x = OrderedDict(a=1, b=2, c=3)\n",
        "\n",
        "# Считает частоту каждого символа\n",
        "y = Counter(\"Hello World!\")\n",
        "\n",
        "print(x)\n",
        "print(y)"
      ],
      "execution_count": null,
      "outputs": []
    },
    {
      "cell_type": "markdown",
      "metadata": {
        "id": "wmC6wp6hXkbT"
      },
      "source": [
        "### 3. emoji\n",
        "\n",
        "Зачем? Делать красивый вывод!"
      ]
    },
    {
      "cell_type": "code",
      "metadata": {
        "id": "yTzHwckZXfiT"
      },
      "source": [
        "!pip install emoji\n",
        "from emoji import emojize\n",
        "\n",
        "print(emojize(\":thumbs_up:\"))"
      ],
      "execution_count": null,
      "outputs": []
    },
    {
      "cell_type": "markdown",
      "metadata": {
        "id": "807GHxqlYBjg"
      },
      "source": [
        "### 4. inspect\n",
        "\n",
        "Модуль inspect пригодится для понимания того, что происходит за кулисами в Python. Вы даже можете вызывать его методы на них самих!\n",
        "\n",
        "Ниже используется метод inspect.getsource() для вывода его собственного исходного кода. Также используется метод inspect.getmodule() для вывода модуля, в котором его определили.\n",
        "\n",
        "Последняя команда выводит номер строки, на которой она сама находится:"
      ]
    },
    {
      "cell_type": "code",
      "metadata": {
        "id": "zGzMf9plYM3A"
      },
      "source": [
        "import inspect\n",
        "\n",
        "print(inspect.getsource(inspect.getsource))\n",
        "print(inspect.getmodule(inspect.getmodule))\n",
        "print(inspect.currentframe().f_lineno)"
      ],
      "execution_count": null,
      "outputs": []
    },
    {
      "cell_type": "markdown",
      "metadata": {
        "id": "6jRCSi2TYWln"
      },
      "source": [
        "### 5. Генераторы списков\n",
        "\n",
        "Ещё одна классная особенность Python, дающая возможность быстро создавать списки. Такие выражения позволяют легко писать чистый код, который читается почти как естественный язык:"
      ]
    },
    {
      "cell_type": "code",
      "metadata": {
        "id": "_0BPMRbhYxYA"
      },
      "source": [
        "numbers = [1, 2, 3, 4, 5, 6, 7]\n",
        "print(numbers)\n",
        "evens = [x for x in numbers if x % 2 == 0]\n",
        "print(evens)\n",
        "odds = [y for y in numbers if y not in evens]\n",
        "print(odds)\n",
        "\n",
        "# создание колоды карт при помощи генератора списков\n",
        "# масти\n",
        "suits = \"HDCS\"\n",
        "# ранги\n",
        "ranks = \"23456789TJQKA\"\n",
        "# генерируем колоду\n",
        "deck = [r+s for r in ranks for s in suits]\n",
        "\n",
        "print(len(suits)*len(ranks) )\n",
        "print(len(deck) )\n",
        "print(deck)"
      ],
      "execution_count": null,
      "outputs": []
    },
    {
      "cell_type": "markdown",
      "metadata": {
        "id": "y8KqXzkbjZNw"
      },
      "source": [
        "### 6. Генераторы словарей и множеств\n",
        "\n",
        "Вы, конечно, пользовались генераторами списков. Но знаете ли вы о генераторах множеств и словарей?"
      ]
    },
    {
      "cell_type": "code",
      "metadata": {
        "id": "tMK-7LYvjgwO"
      },
      "source": [
        "S = {i**2 for i in range(10)}\n",
        "D = {i: i**2 for i in range(10)}\n",
        "print(S)\n",
        "print(D)"
      ],
      "execution_count": null,
      "outputs": []
    },
    {
      "cell_type": "markdown",
      "metadata": {
        "id": "OuTGCWvPaKft"
      },
      "source": [
        "### 7. [map](http://pythonicway.com/python-functinal-programming)\n",
        "\n",
        "У Python есть хорошая встроенная поддержка функционального программирования. Одной из самых полезных возможностей является функция map(), особенно в сочетании с лямбда-функциями:"
      ]
    },
    {
      "cell_type": "code",
      "metadata": {
        "id": "5czfiKaUaQf7"
      },
      "source": [
        "x = [1, 2, 3]\n",
        "y = map(lambda z: z + 1 , x)\n",
        "\n",
        "# выводит [2, 3, 4]\n",
        "print(type(y))\n",
        "print(list(y))"
      ],
      "execution_count": null,
      "outputs": []
    },
    {
      "cell_type": "markdown",
      "metadata": {
        "id": "vxK4InlLadaX"
      },
      "source": [
        "Здесь map() применяет простую лямбда-функцию на каждом элементе x и возвращает объект map, который можно преобразовать в какой-нибудь итерируемый объект вроде списка или кортежа.\n",
        "\n",
        "Еще один пример: вы прочитали из файла список чисел, изначально все эти числа имеют строковый тип данных, чтобы работать с ними - нужно превратить их в целое число:"
      ]
    },
    {
      "cell_type": "code",
      "metadata": {
        "id": "7lEbVHika8xW"
      },
      "source": [
        "old_list = ['1', '2', '3', '4', '5', '6', '7']\n",
        " \n",
        "new_list = []\n",
        "for item in old_list:\n",
        "    new_list.append(int(item))\n",
        " \n",
        "print (new_list)"
      ],
      "execution_count": null,
      "outputs": []
    },
    {
      "cell_type": "markdown",
      "metadata": {
        "id": "70-3z4QpbAaY"
      },
      "source": [
        "Тот же эффект мы можем получить, применив функцию map:"
      ]
    },
    {
      "cell_type": "code",
      "metadata": {
        "id": "gox-mx6MbBQk"
      },
      "source": [
        "old_list = ['1', '2', '3', '4', '5', '6', '7']\n",
        "new_list = list(map(int, old_list))\n",
        "print (new_list)"
      ],
      "execution_count": null,
      "outputs": []
    },
    {
      "cell_type": "markdown",
      "metadata": {
        "id": "QmNngmQHbqUa"
      },
      "source": [
        "### 8. pprint\n",
        "\n",
        "Стандартная функция Python `print()` делает своё дело. Но если попытаться вывести какой-нибудь большой вложенный объект, результат будет выглядеть не очень приятно.\n",
        "\n",
        "Здесь на помощь приходит модуль из стандартной библиотеки `pprint` (pretty print). С его помощью можно выводить объекты со сложной структурой в читабельном виде.\n",
        "\n",
        "Мастхэв для любого Python-разработчика, работающего с нестандартными структурами данных:"
      ]
    },
    {
      "cell_type": "code",
      "metadata": {
        "id": "ZXuW4dOvbzx-"
      },
      "source": [
        "import requests\n",
        "import pprint\n",
        "\n",
        "url = 'https://randomuser.me/api/?results=1'\n",
        "users = requests.get(url).json()\n",
        "\n",
        "pprint.pprint(users)"
      ],
      "execution_count": null,
      "outputs": []
    },
    {
      "cell_type": "markdown",
      "metadata": {
        "id": "ExLBhLlkcI-Q"
      },
      "source": [
        "### 9. [Аннотации типов](https://devpractice.ru/python-lesson-18-annotations/)\n",
        "\n",
        "Python — динамически типизированный язык. Вам не нужно указывать тип данных при определении переменных, функций, классов и т.д.\n",
        "\n",
        "Это позволяет ускорить процесс разработки. Однако мало что раздражает так сильно, как ошибка времени выполнения, возникшая из-за простого несовпадения типа.\n",
        "\n",
        "С версии Python 3.5 при определении функции можно добавлять аннотации типов:"
      ]
    },
    {
      "cell_type": "code",
      "metadata": {
        "id": "3dM96NfacH61"
      },
      "source": [
        "def add_two(x: int) -> int:\n",
        "    return x + 2"
      ],
      "execution_count": null,
      "outputs": []
    },
    {
      "cell_type": "code",
      "metadata": {
        "id": "ukxknKgxchU2"
      },
      "source": [
        "add_two.__annotations__"
      ],
      "execution_count": null,
      "outputs": []
    },
    {
      "cell_type": "markdown",
      "metadata": {
        "id": "peEKzcoJdpCD"
      },
      "source": [
        "### 10. UUID\n",
        "\n",
        "Стандартный модуль uuid — быстрый и простой способ сгенерировать [UUID](https://ru.wikipedia.org/wiki/UUID) (universally unique identifier, глобально уникальный идентификатор).\n",
        "\n",
        "Так мы создаём случайное 128-битное число, которое почти наверняка будет уникальным.\n",
        "\n",
        "Существует более `2¹²²` возможных UUID. Это более `5 ундециллионов` или `5,000,000,000,000,000,000,000,000,000,000,000,000`.\n",
        "\n",
        "Вероятность нахождения дубликатов в заданном наборе крайне мала. Даже при наличии триллиона UUID вероятность того, что среди них есть дубликат, гораздо меньше, чем один к миллиарду.\n",
        "\n",
        "[UUID vs GUID vs UDID](https://gist.github.com/Duraiamuthan/9989619)"
      ]
    },
    {
      "cell_type": "code",
      "metadata": {
        "id": "qbmC7CV6d0Ps"
      },
      "source": [
        "import uuid\n",
        "\n",
        "user_id = uuid.uuid4()\n",
        "print(user_id)"
      ],
      "execution_count": null,
      "outputs": []
    },
    {
      "cell_type": "markdown",
      "metadata": {
        "id": "_DP4NI60ekVy"
      },
      "source": [
        "### 11. zip\n",
        "\n",
        "Напоследок ещё одна клёвая штука. Когда-нибудь возникала необходимость создать словарь из двух списков?\n",
        "\n",
        "Встроенная функция zip() принимает несколько итерируемых объектов и возвращает последовательность  кортежей. Каждый кортеж группирует элементы объектов по их индексу.\n",
        "\n",
        "Можно провести операцию, обратную zip(), с помощью zip(*)."
      ]
    },
    {
      "cell_type": "code",
      "metadata": {
        "id": "52g92a49eWOn"
      },
      "source": [
        "keys = ['a', 'b', 'c']\n",
        "vals = [1, 2, 3]\n",
        "dict(zip(keys, vals))"
      ],
      "execution_count": null,
      "outputs": []
    },
    {
      "cell_type": "markdown",
      "metadata": {
        "id": "mEIdipk1ffFX"
      },
      "source": [
        "### 12. [Объединение списков без цикла](https://proglib.io/p/python-tricks/) \n",
        "Как бы вы решили задачу объединения списков разной длины без обхода элементов цикла? Вот как это можно сделать с помощью стандартной функции sum:"
      ]
    },
    {
      "cell_type": "code",
      "metadata": {
        "id": "2wBp0-E8fkSL"
      },
      "source": [
        "L = [[1, 2, 3], [4, 5], [6], [7, 8, 9]]\n",
        "print(sum(L, []))"
      ],
      "execution_count": null,
      "outputs": []
    },
    {
      "cell_type": "markdown",
      "metadata": {
        "id": "mU9AjZPBfpeF"
      },
      "source": [
        "Пусть и менее краткий, но более эффективный способ – применение модуля `itertools`:"
      ]
    },
    {
      "cell_type": "code",
      "metadata": {
        "id": "TqK9d-oNfm3X"
      },
      "source": [
        "import itertools\n",
        "\n",
        "L = [[1, 2, 3], [4, 5], [6], [7, 8, 9]]\n",
        "print(list(itertools.chain.from_iterable(L)))"
      ],
      "execution_count": null,
      "outputs": []
    },
    {
      "cell_type": "markdown",
      "metadata": {
        "id": "fpnXaZjIgAo9"
      },
      "source": [
        "### 13. Обмен значениями при помощи кортежей\n",
        "\n",
        "Один из популярных трюков в Python – обмен значениями без создания временной переменной. Способ применим для любого числа переменных."
      ]
    },
    {
      "cell_type": "code",
      "metadata": {
        "id": "wnTFsu0WgDom"
      },
      "source": [
        "a, b = 1, 2\n",
        "print(a, b)\n",
        "a, b = b, a\n",
        "print(a, b)"
      ],
      "execution_count": null,
      "outputs": []
    },
    {
      "cell_type": "code",
      "metadata": {
        "id": "EPxMFbt2gRFY"
      },
      "source": [
        "for ((a, b), c) in [((1, 2), 3), ((4, 5), 6)]:\n",
        "    print(a, b, c)"
      ],
      "execution_count": null,
      "outputs": []
    },
    {
      "cell_type": "markdown",
      "metadata": {
        "id": "qLWzOpwOgWVT"
      },
      "source": [
        "### 14. Объединение строк\n",
        "\n",
        "В программном коде нередко приходится сталкиваться с конкатенацией строк при помощи знака сложения. Создание строки из списка нескольких подстрок удобнее осуществить при помощи строкового метода `join`:"
      ]
    },
    {
      "cell_type": "code",
      "metadata": {
        "id": "ZhzM9VbrgbeT"
      },
      "source": [
        "a = [\"Python\", \"-\", \"прекрасный\", \"язык.\"]\n",
        "print(\" \".join(a))"
      ],
      "execution_count": null,
      "outputs": []
    },
    {
      "cell_type": "markdown",
      "metadata": {
        "id": "vYRFviqXgemq"
      },
      "source": [
        "Пример посложнее с методом join – конвертирование списка чисел в строку:"
      ]
    },
    {
      "cell_type": "code",
      "metadata": {
        "id": "CIAq6KrMgftv"
      },
      "source": [
        "numbers = [1, 2, 3, 4, 5]\n",
        "print(', '.join(map(str, numbers)))"
      ],
      "execution_count": null,
      "outputs": []
    },
    {
      "cell_type": "markdown",
      "metadata": {
        "id": "25MvOe-Qh02V"
      },
      "source": [
        "### 15. Транспонирование двумерного массива данных\n",
        "\n",
        "Чтобы поменять местами строки и столбцы матрицы, созданной с помощью встроенных типов данных, воспользуйтесь функцией zip:"
      ]
    },
    {
      "cell_type": "code",
      "metadata": {
        "id": "eIP_Oh_3iK-z"
      },
      "source": [
        "original = [('a', 'b'), ('c', 'd'), ('e', 'f')]\n",
        "transposed = zip(*original)\n",
        "print(list(transposed))"
      ],
      "execution_count": null,
      "outputs": []
    },
    {
      "cell_type": "markdown",
      "metadata": {
        "id": "YV_gsT1diTIL"
      },
      "source": [
        "Если вы регулярно сталкиваетесь с подобными задачами, вместо таких трюков в Python принято использовать библиотеку [NumPy](https://numpy.org/).\n",
        "\n",
        "### 16. Удаление дубликатов в списке\n",
        "\n",
        "Среди регулярно используемых трюков в Python – преобразование списка во множество и обратно в список для удаления повторяющихся элементов списка:"
      ]
    },
    {
      "cell_type": "code",
      "metadata": {
        "id": "34sWTyl1iiIf"
      },
      "source": [
        "items = [2, 2, 3, 3, 1]\n",
        "print(list(set(items)))"
      ],
      "execution_count": null,
      "outputs": []
    },
    {
      "cell_type": "markdown",
      "metadata": {
        "id": "wNLH47PsjBYS"
      },
      "source": [
        "### 17. Нумерованные списки\n",
        "\n",
        "Задача нумерации элементов последовательности настолько распространена, что в Python есть соответствующая встроенная функция `enumerate`:"
      ]
    },
    {
      "cell_type": "code",
      "metadata": {
        "id": "pFP5pQDmjG3g"
      },
      "source": [
        "for i, item in enumerate(['a', 'b', 'c']):\n",
        "    print(i, item)"
      ],
      "execution_count": null,
      "outputs": []
    },
    {
      "cell_type": "markdown",
      "metadata": {
        "id": "3oQIAQnB0jkn"
      },
      "source": [
        "## [Работа с модулями (import и from)](https://pythonworld.ru/osnovy/rabota-s-modulyami-sozdanie-podklyuchenie-instrukciyami-import-i-from.html)\n",
        "\n",
        "Модулем в Python называется любой файл с программой. Каждая программа может импортировать модуль и получить доступ к его классам, функциям и объектам. Нужно заметить, что модуль может быть написан не только на Python, а например, на C или C++.\n",
        "\n",
        "### Подключение модуля из стандартной библиотеки\n",
        "\n",
        "Подключить модуль можно с помощью инструкции `import`. К примеру, подключим модуль os для получения текущей директории:"
      ]
    },
    {
      "cell_type": "code",
      "metadata": {
        "id": "DGV-wK5t1otR"
      },
      "source": [
        "import os\n",
        "os.getcwd()"
      ],
      "execution_count": null,
      "outputs": []
    },
    {
      "cell_type": "markdown",
      "metadata": {
        "id": "RyOqkakd3xZp"
      },
      "source": [
        "После ключевого слова `import` указывается название модуля. Одной инструкцией можно подключить несколько модулей, хотя этого не рекомендуется делать, так как это снижает читаемость кода."
      ]
    },
    {
      "cell_type": "code",
      "metadata": {
        "id": "lNeCdftS307h"
      },
      "source": [
        "import time, random\n",
        "import math\n",
        "\n",
        "print(time.time())\n",
        "print(random.random())\n",
        "print(math.pi)"
      ],
      "execution_count": null,
      "outputs": []
    },
    {
      "cell_type": "markdown",
      "metadata": {
        "id": "3kLHcVFv4JYq"
      },
      "source": [
        "### Использование псевдонимов\n",
        "\n",
        "Если название модуля слишком длинное, или оно вам не нравится по каким-то другим причинам, то для него можно создать псевдоним, с помощью ключевого слова `as`."
      ]
    },
    {
      "cell_type": "code",
      "metadata": {
        "id": "tgbqLXem42HK"
      },
      "source": [
        " import math as m\n",
        " \n",
        " m.e"
      ],
      "execution_count": null,
      "outputs": []
    },
    {
      "cell_type": "markdown",
      "metadata": {
        "id": "xtGnv0vS45-F"
      },
      "source": [
        "### Инструкция from\n",
        "\n",
        "Подключить определенные атрибуты модуля можно с помощью инструкции from. Она имеет несколько форматов:\n",
        "\n",
        "```python\n",
        "from <Название модуля> import <Атрибут 1> [ as <Псевдоним 1> ], [<Атрибут 2> [ as <Псевдоним 2> ] ...]\n",
        "from <Название модуля> import *\n",
        "```\n",
        "\n",
        "Первый формат позволяет подключить из модуля только указанные вами атрибуты. Для длинных имен также можно назначить псевдоним, указав его после ключевого слова as."
      ]
    },
    {
      "cell_type": "code",
      "metadata": {
        "id": "Nj3SiYsZ5Gct"
      },
      "source": [
        "print(dir(math))"
      ],
      "execution_count": null,
      "outputs": []
    },
    {
      "cell_type": "code",
      "metadata": {
        "id": "KBmloWBC5QDe"
      },
      "source": [
        " from math import e as EulerNumber, cos as cs\n",
        "\n",
        " print(cs(EulerNumber))"
      ],
      "execution_count": null,
      "outputs": []
    },
    {
      "cell_type": "markdown",
      "metadata": {
        "id": "gE-Sk9aE5wEz"
      },
      "source": [
        "Импортируемые атрибуты можно разместить на нескольких строках, если их много, для лучшей читаемости кода:\n",
        "\n",
        "```python\n",
        ">>> from math import (sin, cos,\n",
        "...           tan, atan)\n",
        "```"
      ]
    },
    {
      "cell_type": "markdown",
      "metadata": {
        "id": "h5EddGIo56EX"
      },
      "source": [
        "Второй формат инструкции from позволяет подключить все (точнее, почти все) переменные из модуля. Для примера импортируем все атрибуты из модуля `sys`:"
      ]
    },
    {
      "cell_type": "code",
      "metadata": {
        "id": "lSpnXkUC58zu"
      },
      "source": [
        "from sys import *\n",
        "\n",
        "print(version)\n",
        "print(version_info)\n",
        "\n",
        "import sys\n",
        "print(sys.version_info)\n",
        "print(version_info)"
      ],
      "execution_count": null,
      "outputs": []
    },
    {
      "cell_type": "markdown",
      "metadata": {
        "id": "mAuls3Wa7CEA"
      },
      "source": [
        "Следует заметить, что не все атрибуты будут импортированы. Если в модуле определена переменная `__all__` (список атрибутов, которые могут быть подключены), то будут подключены только атрибуты из этого списка. Если переменная `__all__` не определена, то будут подключены все атрибуты, не начинающиеся с нижнего подчёркивания. Кроме того, необходимо учитывать, что импортирование всех атрибутов из модуля может нарушить пространство имен главной программы, так как переменные, имеющие одинаковые имена, будут перезаписаны."
      ]
    },
    {
      "cell_type": "markdown",
      "metadata": {
        "id": "bLoAKbsx7b21"
      },
      "source": [
        "### Создание своего модуля на Python\n",
        "\n",
        "Смотри на сайте [Pythonworld](https://pythonworld.ru/osnovy/rabota-s-modulyami-sozdanie-podklyuchenie-instrukciyami-import-i-from.html)."
      ]
    },
    {
      "cell_type": "markdown",
      "metadata": {
        "id": "36o6i0LQbQX1"
      },
      "source": [
        "## [Assert. Что это?](https://www.w3schools.com/python/ref_keyword_assert.asp)\n",
        "\n",
        "Используется для проверки истинности указанного утверждения.\n",
        "Инструкция assert позволяет производить проверки истинности утверждений, что может быть использовано в отладочных целях.\n",
        "Если проверка не прошла, возбуждается исключение AssertionError."
      ]
    },
    {
      "cell_type": "code",
      "metadata": {
        "id": "VC7JxXCvbn3H"
      },
      "source": [
        "passed = False\n",
        "assert passed, 'Not passed'  # Поднимается исключение."
      ],
      "execution_count": null,
      "outputs": []
    },
    {
      "cell_type": "code",
      "metadata": {
        "id": "D8tvnrCZbwIH"
      },
      "source": [
        "x = \"hello\"\n",
        "\n",
        "# Если условие возращает True, тогда ничего не происходит:\n",
        "assert x == \"hello\"\n",
        "\n",
        "# Если условие возращает False, то тогда вызывается AssertionError:\n",
        "assert x == \"goodbye\""
      ],
      "execution_count": null,
      "outputs": []
    },
    {
      "cell_type": "markdown",
      "metadata": {
        "id": "J2ySVRcedAYS"
      },
      "source": [
        "![alt text](https://pp.userapi.com/c638420/v638420812/2b16d/JtT5eRcI8Vg.jpg)"
      ]
    },
    {
      "cell_type": "code",
      "metadata": {
        "id": "RpYLiJjNcs-d"
      },
      "source": [
        "# Test methods \n",
        "class SuperTest:\n",
        "  @staticmethod\n",
        "  def assert_equals(a, b) :\n",
        "    assert (a == b), \"a is not equal b\""
      ],
      "execution_count": null,
      "outputs": []
    },
    {
      "cell_type": "code",
      "metadata": {
        "id": "eNysfyb0dTx3"
      },
      "source": [
        "SuperTest.assert_equals(1,2)"
      ],
      "execution_count": null,
      "outputs": []
    }
  ]
}